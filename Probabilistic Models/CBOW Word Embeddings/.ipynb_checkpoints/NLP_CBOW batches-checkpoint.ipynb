{
 "cells": [
  {
   "cell_type": "code",
   "execution_count": 1,
   "id": "06108a12",
   "metadata": {},
   "outputs": [
    {
     "name": "stderr",
     "output_type": "stream",
     "text": [
      "[nltk_data] Downloading package punkt to /Users/vuhan/nltk_data...\n",
      "[nltk_data]   Package punkt is already up-to-date!\n"
     ]
    }
   ],
   "source": [
    "import numpy as np\n",
    "import pandas as pd\n",
    "import matplotlib.pyplot as plt\n",
    "import re\n",
    "import emoji\n",
    "import nltk\n",
    "nltk.download('punkt')\n",
    "from nltk.tokenize import word_tokenize\n",
    "from scipy import linalg\n",
    "from collections import defaultdict\n",
    "import warnings\n",
    "warnings.filterwarnings('ignore')"
   ]
  },
  {
   "cell_type": "code",
   "execution_count": 2,
   "id": "5a22a296",
   "metadata": {},
   "outputs": [],
   "source": [
    "with open(\"data/shakespeare.txt\") as file:\n",
    "    corpus = file.read()"
   ]
  },
  {
   "cell_type": "markdown",
   "id": "05da6de9",
   "metadata": {},
   "source": [
    "# 1. Data Preparation"
   ]
  },
  {
   "cell_type": "markdown",
   "id": "61d07a01",
   "metadata": {},
   "source": [
    "- Clean and tokenize the corpus.\n",
    "\n",
    "- Extract the pairs of context words and center word that will make up the training data set for the CBOW model. The context words are the features that will be fed into the model, and the center words are the target values that the model will learn to predict.\n",
    "\n",
    "- Create simple vector representations of the context words (features) and center words (targets) that can be used by the neural network of the CBOW model."
   ]
  },
  {
   "cell_type": "markdown",
   "id": "ec442ade",
   "metadata": {},
   "source": [
    "## 1.1 Cleaning and Tokenization"
   ]
  },
  {
   "cell_type": "markdown",
   "id": "a724503a",
   "metadata": {},
   "source": [
    "First, replace all interrupting punctuation signs — such as commas and exclamation marks — with periods.\n",
    "\n",
    "Next, use NLTK's tokenization engine to split the corpus into individual tokens.\n",
    "\n",
    "Finally, get rid of numbers and punctuation other than periods, and convert all the remaining tokens to lowercase."
   ]
  },
  {
   "cell_type": "code",
   "execution_count": 3,
   "id": "e84e3fd6",
   "metadata": {},
   "outputs": [],
   "source": [
    "def tokenize(corpus):\n",
    "    data = re.sub(r'[,!?;-]', '.', corpus)\n",
    "    data = nltk.word_tokenize(data)\n",
    "    data = [char.lower() for char in data if char.isalpha() or char == '.'\n",
    "#            or emoji.get_emoji_regexp().search(char)\n",
    "           ]\n",
    "    return data"
   ]
  },
  {
   "cell_type": "code",
   "execution_count": 4,
   "id": "9f91efce",
   "metadata": {},
   "outputs": [
    {
     "data": {
      "text/plain": [
       "['o', 'for', 'a', 'muse', 'of', 'fire', '.', 'that', 'would', 'ascend']"
      ]
     },
     "execution_count": 4,
     "metadata": {},
     "output_type": "execute_result"
    }
   ],
   "source": [
    "words = tokenize(corpus)\n",
    "words[:10]"
   ]
  },
  {
   "cell_type": "code",
   "execution_count": 5,
   "id": "1101a8b7",
   "metadata": {},
   "outputs": [
    {
     "data": {
      "text/plain": [
       "60976"
      ]
     },
     "execution_count": 5,
     "metadata": {},
     "output_type": "execute_result"
    }
   ],
   "source": [
    "len(words)"
   ]
  },
  {
   "cell_type": "markdown",
   "id": "b2e8c202",
   "metadata": {},
   "source": [
    "## 1.2 Slicing window of words"
   ]
  },
  {
   "cell_type": "markdown",
   "id": "e99bd587",
   "metadata": {},
   "source": [
    "Now that we have transformed the corpus into a list of clean tokens, we can slide a window of words across this list. For each window we can extract a center word and the context words.\n",
    "\n",
    "The first argument of this function is a list of words (or tokens). The second argument, `C`, is the context half-size. Recall that for a given center word, the context words are made of `C` words to the left and `C` words to the right of the center word."
   ]
  },
  {
   "cell_type": "code",
   "execution_count": 6,
   "id": "6daea7fb",
   "metadata": {},
   "outputs": [],
   "source": [
    "def get_windows(words, C):\n",
    "    i = C\n",
    "    while i < len(words) - C:\n",
    "        center_word = words[i]\n",
    "        context_words = words[i-C:i] + words[i+1:i+C+1]\n",
    "        yield context_words, center_word\n",
    "        i += 1"
   ]
  },
  {
   "cell_type": "code",
   "execution_count": 7,
   "id": "08c1f8e7",
   "metadata": {},
   "outputs": [
    {
     "name": "stdout",
     "output_type": "stream",
     "text": [
      "['o', 'a'] for\n",
      "['for', 'muse'] a\n",
      "['a', 'of'] muse\n",
      "['muse', 'fire'] of\n",
      "['of', '.'] fire\n",
      "['fire', 'that'] .\n",
      "['.', 'would'] that\n",
      "['that', 'ascend'] would\n",
      "['would', 'the'] ascend\n",
      "['ascend', 'brightest'] the\n",
      "['the', 'heaven'] brightest\n",
      "['brightest', 'of'] heaven\n",
      "['heaven', 'invention'] of\n"
     ]
    }
   ],
   "source": [
    "for x, y in get_windows(words[:15], 1):\n",
    "    print(x, y)"
   ]
  },
  {
   "cell_type": "markdown",
   "id": "5488948a",
   "metadata": {},
   "source": [
    "## 1.3 Transforming word into vectors for training set"
   ]
  },
  {
   "cell_type": "markdown",
   "id": "8e3e41ae",
   "metadata": {},
   "source": [
    "### 1.3.1 Mapping words to indices and indices to words"
   ]
  },
  {
   "cell_type": "markdown",
   "id": "d16dc7da",
   "metadata": {},
   "source": [
    "The center words will be represented as one-hot vectors, and the vectors that represent context words are also based on one-hot vectors.\n",
    "\n",
    "To create one-hot word vectors, we can start by mapping each unique word to a unique integer (or index)."
   ]
  },
  {
   "cell_type": "code",
   "execution_count": 8,
   "id": "e6d95f3d",
   "metadata": {},
   "outputs": [],
   "source": [
    "def get_dict(data):\n",
    "    \"\"\"\n",
    "    Input:\n",
    "        data: the data want to pull from\n",
    "    Output:\n",
    "        word2idx: returns dictionary mapping the word to its index\n",
    "        idx2word: returns dictionary mapping the index to its word\n",
    "    \"\"\"\n",
    "    words = sorted(list(set(data)))\n",
    "    n = len(words)\n",
    "    idx = 0\n",
    "    word2idx = {}\n",
    "    idx2word = {}\n",
    "    for k in words:\n",
    "        word2idx[k] = idx\n",
    "        idx2word[idx] = k\n",
    "        idx += 1\n",
    "    return word2idx, idx2word"
   ]
  },
  {
   "cell_type": "code",
   "execution_count": 9,
   "id": "a5d6835b",
   "metadata": {},
   "outputs": [
    {
     "name": "stdout",
     "output_type": "stream",
     "text": [
      "5775\n",
      "\n",
      "5775\n"
     ]
    }
   ],
   "source": [
    "word2idx, idx2word = get_dict(words)\n",
    "\n",
    "print(len(word2idx))\n",
    "print()\n",
    "print(len(idx2word))"
   ]
  },
  {
   "cell_type": "markdown",
   "id": "1df4b9e1",
   "metadata": {},
   "source": [
    "### 1.3.2 Getting one-hot vectors"
   ]
  },
  {
   "cell_type": "code",
   "execution_count": 10,
   "id": "83648521",
   "metadata": {},
   "outputs": [],
   "source": [
    "def word_to_one_hot_vector(word, word2idx, V):\n",
    "    \"\"\"\n",
    "    Input:\n",
    "        word: the letter of corpus want to transform into one hot vector\n",
    "        word2idx: dictionary with key is word and value is index of word in string\n",
    "        V: size of vocabulary\n",
    "    Output:\n",
    "        one_hot_vector: a vector one hot of word\n",
    "    \"\"\"\n",
    "    one_hot_vector = np.zeros(V)\n",
    "    one_hot_vector[word2idx[word]] = 1\n",
    "    \n",
    "    return one_hot_vector"
   ]
  },
  {
   "cell_type": "code",
   "execution_count": 11,
   "id": "d0518a2d",
   "metadata": {},
   "outputs": [
    {
     "data": {
      "text/plain": [
       "array([0., 0., 0., ..., 0., 0., 0.])"
      ]
     },
     "execution_count": 11,
     "metadata": {},
     "output_type": "execute_result"
    }
   ],
   "source": [
    "word_to_one_hot_vector('word', word2idx, len(word2idx))"
   ]
  },
  {
   "cell_type": "markdown",
   "id": "f0b72619",
   "metadata": {},
   "source": [
    "### 1.3.3 Getting context words vectors"
   ]
  },
  {
   "cell_type": "markdown",
   "id": "fc3b9727",
   "metadata": {},
   "source": [
    "To create the vectors that represent context words, we will calculate the average of the one-hot vectors representing the individual words."
   ]
  },
  {
   "cell_type": "code",
   "execution_count": 12,
   "id": "67bcaf7f",
   "metadata": {},
   "outputs": [],
   "source": [
    "def context_words_to_vector(context_words, word2idx, V):\n",
    "    \"\"\"\n",
    "    Input:\n",
    "        context_words: list of context words\n",
    "        word2idx: dictionary with key is word and value is index of word in string\n",
    "        V: size of vocabulary\n",
    "    Output:\n",
    "        context_words_vector: vectors of all context words\n",
    "    \"\"\"\n",
    "    context_words_vectors = [word_to_one_hot_vector(w, word2idx, V) for w in context_words]\n",
    "    context_words_vectors = np.mean(context_words_vectors, axis=0)\n",
    "    \n",
    "    return context_words_vectors"
   ]
  },
  {
   "cell_type": "code",
   "execution_count": 13,
   "id": "dbe76e05",
   "metadata": {},
   "outputs": [
    {
     "data": {
      "text/plain": [
       "array([0., 0., 0., ..., 0., 0., 0.])"
      ]
     },
     "execution_count": 13,
     "metadata": {},
     "output_type": "execute_result"
    }
   ],
   "source": [
    "context_words_to_vector(['am', 'brightest'], word2idx, len(word2idx))"
   ]
  },
  {
   "cell_type": "markdown",
   "id": "8685f326",
   "metadata": {},
   "source": [
    "## 1.4 Building the training set"
   ]
  },
  {
   "cell_type": "markdown",
   "id": "ebf1e0f9",
   "metadata": {},
   "source": [
    "To do this we need to use the sliding window function (`get_windows`) to extract the context words and center words, and we then convert these sets of words into a basic vector representation using `word_to_one_hot_vector` and `context_words_to_vector`."
   ]
  },
  {
   "cell_type": "code",
   "execution_count": 14,
   "id": "bdf8c7e3",
   "metadata": {},
   "outputs": [],
   "source": [
    "def get_training_example(words, C, word2idx, V):\n",
    "    for context_words, center_word in get_windows(words, C):\n",
    "        yield context_words_to_vector(context_words, word2idx, V),\\\n",
    "              word_to_one_hot_vector(center_word, word2idx, V)"
   ]
  },
  {
   "cell_type": "code",
   "execution_count": 15,
   "id": "e9881506",
   "metadata": {
    "scrolled": false
   },
   "outputs": [
    {
     "name": "stdout",
     "output_type": "stream",
     "text": [
      "Context words vector:  [0. 0. 0. ... 0. 0. 0.]\n",
      "Center word vector:  [0. 1. 0. ... 0. 0. 0.]\n",
      "\n"
     ]
    }
   ],
   "source": [
    "V = len(word2idx)\n",
    "for context_words_vector, center_word_vector in get_training_example(words[:8], 2, word2idx, V):\n",
    "    print(f'Context words vector:  {context_words_vector}')\n",
    "    print(f'Center word vector:  {center_word_vector}')\n",
    "    print()\n",
    "    break"
   ]
  },
  {
   "cell_type": "markdown",
   "id": "cc6498a5",
   "metadata": {},
   "source": [
    "## 1.5 Deviding training set into batches"
   ]
  },
  {
   "cell_type": "code",
   "execution_count": 16,
   "id": "32abec09",
   "metadata": {},
   "outputs": [],
   "source": [
    "def get_idx(words, word2idx):\n",
    "    idx = []\n",
    "    for word in words:\n",
    "        idx = idx + [word2idx[word]]\n",
    "    return idx\n",
    "\n",
    "def pack_idx_with_frequency(context_words, word2idx):\n",
    "    freq_dict = defaultdict(int)\n",
    "    for word in context_words:\n",
    "        freq_dict[word] += 1\n",
    "    idxs = get_idx(context_words, word2idx)\n",
    "    packed = []\n",
    "    for i in range(len(idxs)):\n",
    "        idx = idxs[i]\n",
    "        freq = freq_dict[context_words[i]]\n",
    "        packed.append((idx, freq))\n",
    "    return packed"
   ]
  },
  {
   "cell_type": "code",
   "execution_count": 17,
   "id": "61ba718f",
   "metadata": {},
   "outputs": [],
   "source": [
    "def get_vectors(data, word2idx, V, C):\n",
    "    i = C\n",
    "    while True:\n",
    "        y = np.zeros(V)\n",
    "        x = np.zeros(V)\n",
    "        center_word = data[i]\n",
    "        y[word2idx[center_word]] = 1\n",
    "        context_words = data[(i - C) : i] + data[(i + 1) : (i + C + 1)]\n",
    "        num_ctx_words = len(context_words)\n",
    "        for idx, freq in pack_idx_with_frequency(context_words, word2idx):\n",
    "            x[idx] = freq / num_ctx_words\n",
    "        yield x, y\n",
    "        i += 1\n",
    "        if i >= len(data) - C:\n",
    "#             print(\"i is being set to\", C)\n",
    "            i = C"
   ]
  },
  {
   "cell_type": "code",
   "execution_count": 18,
   "id": "06d3414e",
   "metadata": {},
   "outputs": [],
   "source": [
    "def get_batches(data, word2idx, V, C, batch_size):\n",
    "    batch_x = []\n",
    "    batch_y = []\n",
    "    for x, y in get_vectors(data, word2idx, V, C):\n",
    "        while len(batch_x) < batch_size:\n",
    "            batch_x.append(x)\n",
    "            batch_y.append(y)\n",
    "        else:\n",
    "            yield np.array(batch_x).T, np.array(batch_y).T\n",
    "            batch_x = []\n",
    "            batch_y = []"
   ]
  },
  {
   "cell_type": "markdown",
   "id": "33a99e1c",
   "metadata": {},
   "source": [
    "# 2. The shallow neurals network for continuous bag-of-words model"
   ]
  },
  {
   "cell_type": "markdown",
   "id": "6e934b92",
   "metadata": {},
   "source": [
    "## 2.1 Activation functions"
   ]
  },
  {
   "cell_type": "markdown",
   "id": "fe1d3d63",
   "metadata": {},
   "source": [
    "### ReLU"
   ]
  },
  {
   "cell_type": "markdown",
   "id": "f6272fe0",
   "metadata": {},
   "source": [
    "ReLU is used to calculate the values of the hidden layer, in the following formulas:\n",
    "\n",
    "\\begin{align}\n",
    " \\mathbf{z_1} &= \\mathbf{W_1}\\mathbf{x} + \\mathbf{b_1}  \\ \\\\\n",
    " \\mathbf{h} &= \\mathrm{ReLU}(\\mathbf{z_1})  \\ \\\\\n",
    "\\end{align}\n",
    "\n"
   ]
  },
  {
   "cell_type": "code",
   "execution_count": 19,
   "id": "8b7d7411",
   "metadata": {},
   "outputs": [],
   "source": [
    "def relu(z):\n",
    "    return np.maximum(0, z)"
   ]
  },
  {
   "cell_type": "markdown",
   "id": "dd5b6cdb",
   "metadata": {},
   "source": [
    "### Softmax"
   ]
  },
  {
   "cell_type": "markdown",
   "id": "95472c61",
   "metadata": {},
   "source": [
    "The second activation function that we need is softmax. This function is used to calculate the values of the output layer of the neural network, using the following formulas:\n",
    "\n",
    "\\begin{align}\n",
    " \\mathbf{z_2} &= \\mathbf{W_2}\\mathbf{h} + \\mathbf{b_2}   \\\\\\\n",
    " \\mathbf{\\hat y} &= \\mathrm{softmax}(\\mathbf{z_2})   \\\\\\\n",
    "\\end{align}\n",
    "\n",
    "To calculate softmax of a vector $\\mathbf{z}$, the $i$-th component of the resulting vector is given by:\n",
    "\n",
    "$$ \\textrm{softmax}(\\textbf{z})_i = \\frac{e^{z_i} }{\\sum\\limits_{j=1}^{V} e^{z_j} }   $$"
   ]
  },
  {
   "cell_type": "code",
   "execution_count": 22,
   "id": "24f41810",
   "metadata": {},
   "outputs": [],
   "source": [
    "def softmax(z):\n",
    "    yhat = np.exp(z) / np.sum(np.exp(z), axis=0)\n",
    "    \n",
    "    return yhat"
   ]
  },
  {
   "cell_type": "code",
   "execution_count": 23,
   "id": "539e07cd",
   "metadata": {},
   "outputs": [
    {
     "data": {
      "text/plain": [
       "array([[0.5       , 0.73105858, 0.88079708],\n",
       "       [0.5       , 0.26894142, 0.11920292]])"
      ]
     },
     "metadata": {},
     "output_type": "display_data"
    }
   ],
   "source": [
    "# Test the function\n",
    "tmp = np.array([[1,2,3],\n",
    "                [1,1,1]\n",
    "               ])\n",
    "tmp_sm = softmax(tmp)\n",
    "display(tmp_sm)"
   ]
  },
  {
   "cell_type": "markdown",
   "id": "8ee56ebc",
   "metadata": {},
   "source": [
    "## 2.2 Cost function"
   ]
  },
  {
   "cell_type": "code",
   "execution_count": 24,
   "id": "be3b2b68",
   "metadata": {},
   "outputs": [],
   "source": [
    "# def compute_cost(y, yhat, batch_size):\n",
    "#     loss = np.sum(np.multiply(np.log(yhat), y))\n",
    "    \n",
    "#     cost = -1/batch_size * loss\n",
    "#     cost = np.squeeze(cost)\n",
    "    \n",
    "#     return cost\n",
    "\n",
    "\n",
    "def compute_cost(y, yhat, batch_size):\n",
    "\n",
    "    # cost function \n",
    "    logprobs = np.multiply(np.log(yhat),y)\n",
    "    cost = - 1/batch_size * np.sum(logprobs)\n",
    "    cost = np.squeeze(cost)\n",
    "    return cost"
   ]
  },
  {
   "cell_type": "code",
   "execution_count": 29,
   "id": "7f342d61",
   "metadata": {},
   "outputs": [
    {
     "name": "stdout",
     "output_type": "stream",
     "text": [
      "tmp_x.shape (5775, 4)\n",
      "tmp_y.shape (5775, 4)\n",
      "tmp_W1.shape (50, 5775)\n",
      "tmp_W2.shape (5775, 50)\n",
      "tmp_b1.shape (50, 1)\n",
      "tmp_b2.shape (5775, 1)\n",
      "tmp_z.shape: (5775, 4)\n",
      "tmp_h.shape: (50, 4)\n",
      "tmp_yhat.shape: (5775, 4)\n",
      "call compute_cost\n",
      "tmp_cost 10.0494\n"
     ]
    }
   ],
   "source": [
    "# Test the function\n",
    "tmp_C = 2\n",
    "tmp_N = 50\n",
    "tmp_batch_size = 4\n",
    "tmp_word2Ind, tmp_Ind2word = get_dict(words)\n",
    "tmp_V = len(word2idx)\n",
    "\n",
    "tmp_x, tmp_y = next(get_batches(words, tmp_word2Ind, tmp_V,tmp_C, tmp_batch_size))\n",
    "        \n",
    "print(f\"tmp_x.shape {tmp_x.shape}\")\n",
    "print(f\"tmp_y.shape {tmp_y.shape}\")\n",
    "\n",
    "tmp_W1, tmp_W2, tmp_b1, tmp_b2 = initialize_model(tmp_N,tmp_V)\n",
    "\n",
    "print(f\"tmp_W1.shape {tmp_W1.shape}\")\n",
    "print(f\"tmp_W2.shape {tmp_W2.shape}\")\n",
    "print(f\"tmp_b1.shape {tmp_b1.shape}\")\n",
    "print(f\"tmp_b2.shape {tmp_b2.shape}\")\n",
    "\n",
    "tmp_z, tmp_h = forward_prop(tmp_x, tmp_W1, tmp_W2, tmp_b1, tmp_b2)\n",
    "print(f\"tmp_z.shape: {tmp_z.shape}\")\n",
    "print(f\"tmp_h.shape: {tmp_h.shape}\")\n",
    "\n",
    "tmp_yhat = softmax(tmp_z)\n",
    "print(f\"tmp_yhat.shape: {tmp_yhat.shape}\")\n",
    "\n",
    "tmp_cost = compute_cost(tmp_y, tmp_yhat, tmp_batch_size)\n",
    "print(\"call compute_cost\")\n",
    "print(f\"tmp_cost {tmp_cost:.4f}\")"
   ]
  },
  {
   "cell_type": "markdown",
   "id": "5424beed",
   "metadata": {},
   "source": [
    "## 2.3 Foward propagation"
   ]
  },
  {
   "cell_type": "markdown",
   "id": "554eae12",
   "metadata": {},
   "source": [
    "### 2.3.1 Initialization of the weights and biases"
   ]
  },
  {
   "cell_type": "markdown",
   "id": "c1a0734c",
   "metadata": {},
   "source": [
    "- The first matrix ($W_1$) is of dimension $N \\times V$, where $V$ is the number of words in vocabulary and $N$ is the dimension of word vector.\n",
    "- The second matrix ($W_2$) is of dimension $V \\times N$. \n",
    "- Vector $b_1$ has dimensions $N\\times 1$\n",
    "- Vector $b_2$ has dimensions  $V\\times 1$. \n",
    "- $b_1$ and $b_2$ are the bias vectors of the linear layers from matrices $W_1$ and $W_2$.\n",
    "\n"
   ]
  },
  {
   "cell_type": "code",
   "execution_count": 30,
   "id": "7cb15452",
   "metadata": {},
   "outputs": [],
   "source": [
    "def initialize_model(N, V, random_seed=1):\n",
    "    np.random.seed(random_seed)\n",
    "\n",
    "    W1 = np.random.rand(N, V)\n",
    "    b1 = np.random.rand(N, 1)\n",
    "    W2 = np.random.rand(V, N)\n",
    "    b2 = np.random.rand(V, 1)\n",
    "    \n",
    "    return W1, W2, b1, b2"
   ]
  },
  {
   "cell_type": "code",
   "execution_count": 31,
   "id": "d57c19b9",
   "metadata": {},
   "outputs": [
    {
     "name": "stdout",
     "output_type": "stream",
     "text": [
      "tmp_W1.shape: (4, 10)\n",
      "tmp_W2.shape: (10, 4)\n",
      "tmp_b1.shape: (4, 1)\n",
      "tmp_b2.shape: (10, 1)\n"
     ]
    }
   ],
   "source": [
    "tmp_N = 4\n",
    "tmp_V = 10\n",
    "tmp_W1, tmp_W2, tmp_b1, tmp_b2 = initialize_model(tmp_N,tmp_V)\n",
    "assert tmp_W1.shape == ((tmp_N,tmp_V))\n",
    "assert tmp_W2.shape == ((tmp_V,tmp_N))\n",
    "print(f\"tmp_W1.shape: {tmp_W1.shape}\")\n",
    "print(f\"tmp_W2.shape: {tmp_W2.shape}\")\n",
    "print(f\"tmp_b1.shape: {tmp_b1.shape}\")\n",
    "print(f\"tmp_b2.shape: {tmp_b2.shape}\")\n"
   ]
  },
  {
   "cell_type": "code",
   "execution_count": 32,
   "id": "3a9b42ad",
   "metadata": {},
   "outputs": [],
   "source": [
    "# def forward_prop(x, W1, W2, b1, b2):\n",
    "#     h = np.dot(W1, x) + b1\n",
    "#     h = np.maximum(0, h)\n",
    "#     z = np.dot(W2, h) + b2\n",
    "    \n",
    "#     return z, h\n",
    "\n",
    "def forward_prop(x, W1, W2, b1, b2):\n",
    "    '''\n",
    "    Inputs: \n",
    "        x:  average one hot vector for the context \n",
    "        W1, W2, b1, b2:  matrices and biases to be learned\n",
    "     Outputs: \n",
    "        z:  output score vector\n",
    "    '''\n",
    "    \n",
    "    ### START CODE HERE (Replace instances of 'None' with your own code) ###\n",
    "    # Calculate h\n",
    "    h = np.dot(W1, x) + b1\n",
    "  \n",
    "    # Apply the relu on h, \n",
    "    # store the relu in h\n",
    "    h = np.maximum(0, h)\n",
    "         \n",
    "    # Calculate z\n",
    "    z = np.dot(W2, h) + b2\n",
    "\n",
    "    ### END CODE HERE ###\n",
    "\n",
    "    return z, h"
   ]
  },
  {
   "cell_type": "code",
   "execution_count": 33,
   "id": "10b8acbf",
   "metadata": {},
   "outputs": [
    {
     "name": "stdout",
     "output_type": "stream",
     "text": [
      "x has shape (3, 1)\n",
      "N is 2 and vocabulary size V is 3\n",
      "call forward_prop\n",
      "\n",
      "z has shape (3, 1)\n",
      "z has values:\n",
      "[[0.65235935]\n",
      " [1.38784779]\n",
      " [1.03496989]]\n",
      "\n",
      "h has shape (2, 1)\n",
      "h has values:\n",
      "[[0.9065847 ]\n",
      " [0.49231662]]\n"
     ]
    }
   ],
   "source": [
    "tmp_N = 2\n",
    "tmp_V = 3\n",
    "tmp_x = np.array([[0,1,0]]).T\n",
    "#print(tmp_x)\n",
    "tmp_W1, tmp_W2, tmp_b1, tmp_b2 = initialize_model(N=tmp_N,V=tmp_V, random_seed=1)\n",
    "\n",
    "print(f\"x has shape {tmp_x.shape}\")\n",
    "print(f\"N is {tmp_N} and vocabulary size V is {tmp_V}\")\n",
    "\n",
    "# call function\n",
    "tmp_z, tmp_h = forward_prop(tmp_x, tmp_W1, tmp_W2, tmp_b1, tmp_b2)\n",
    "print(\"call forward_prop\")\n",
    "print()\n",
    "# Look at output\n",
    "print(f\"z has shape {tmp_z.shape}\")\n",
    "print(\"z has values:\")\n",
    "print(tmp_z)\n",
    "\n",
    "print()\n",
    "\n",
    "print(f\"h has shape {tmp_h.shape}\")\n",
    "print(\"h has values:\")\n",
    "print(tmp_h)"
   ]
  },
  {
   "cell_type": "code",
   "execution_count": null,
   "id": "2436f5e9",
   "metadata": {},
   "outputs": [],
   "source": []
  },
  {
   "cell_type": "code",
   "execution_count": 30,
   "id": "880d653c",
   "metadata": {},
   "outputs": [],
   "source": [
    "training_exp = get_training_example(words, 2, word2idx, V)\n",
    "\n",
    "x_arr, y_arr = next(training_exp)"
   ]
  },
  {
   "cell_type": "code",
   "execution_count": 31,
   "id": "4ff9612f",
   "metadata": {},
   "outputs": [
    {
     "name": "stdout",
     "output_type": "stream",
     "text": [
      "X array: [0. 0. 0. ... 0. 0. 0.]\n",
      "Y array [0. 1. 0. ... 0. 0. 0.]\n"
     ]
    }
   ],
   "source": [
    "print('X array:', x_arr)\n",
    "print('Y array', y_arr)"
   ]
  },
  {
   "cell_type": "code",
   "execution_count": 32,
   "id": "5f168d31",
   "metadata": {},
   "outputs": [
    {
     "data": {
      "text/plain": [
       "array([[0.],\n",
       "       [0.],\n",
       "       [0.],\n",
       "       ...,\n",
       "       [0.],\n",
       "       [0.],\n",
       "       [0.]])"
      ]
     },
     "execution_count": 32,
     "metadata": {},
     "output_type": "execute_result"
    }
   ],
   "source": [
    "x = x_arr.copy().reshape((V, 1))\n",
    "x"
   ]
  },
  {
   "cell_type": "code",
   "execution_count": 33,
   "id": "9d0a6eb2",
   "metadata": {},
   "outputs": [
    {
     "data": {
      "text/plain": [
       "array([[0.],\n",
       "       [1.],\n",
       "       [0.],\n",
       "       ...,\n",
       "       [0.],\n",
       "       [0.],\n",
       "       [0.]])"
      ]
     },
     "execution_count": 33,
     "metadata": {},
     "output_type": "execute_result"
    }
   ],
   "source": [
    "y = y_arr.copy().reshape((V, 1))\n",
    "y"
   ]
  },
  {
   "cell_type": "code",
   "execution_count": 34,
   "id": "3681d972",
   "metadata": {},
   "outputs": [],
   "source": [
    "W1, W2, b1, b2 = initialize_model(N, V)"
   ]
  },
  {
   "cell_type": "code",
   "execution_count": 35,
   "id": "cec6034f",
   "metadata": {},
   "outputs": [
    {
     "name": "stdout",
     "output_type": "stream",
     "text": [
      "[[1.88322531]\n",
      " [2.06552369]\n",
      " [2.438463  ]\n",
      " ...\n",
      " [1.96973529]\n",
      " [1.70202752]\n",
      " [1.34899408]]\n"
     ]
    }
   ],
   "source": [
    "z, h = forward_prop(x, W1, W2, b1, b2)\n",
    "\n",
    "print(z)"
   ]
  },
  {
   "cell_type": "code",
   "execution_count": 36,
   "id": "fd21efeb",
   "metadata": {},
   "outputs": [
    {
     "data": {
      "text/plain": [
       "array([[1.08961252],\n",
       "       [1.39446122],\n",
       "       [0.67178827]])"
      ]
     },
     "execution_count": 36,
     "metadata": {},
     "output_type": "execute_result"
    }
   ],
   "source": [
    "h"
   ]
  },
  {
   "cell_type": "code",
   "execution_count": 37,
   "id": "b51e7879",
   "metadata": {},
   "outputs": [
    {
     "data": {
      "text/plain": [
       "8.865703412956584"
      ]
     },
     "execution_count": 37,
     "metadata": {},
     "output_type": "execute_result"
    }
   ],
   "source": [
    "compute_cost(y, softmax(z), 1)"
   ]
  },
  {
   "cell_type": "markdown",
   "id": "40964c4b",
   "metadata": {},
   "source": [
    "## 2.4 Backpropagation"
   ]
  },
  {
   "cell_type": "markdown",
   "id": "f9813e6a",
   "metadata": {},
   "source": [
    "The formulas will implement for backpropagation are the following.\n",
    "\n",
    "\\begin{align}\n",
    " \\frac{\\partial J}{\\partial \\mathbf{W_1}} &= \\rm{ReLU}\\left ( \\mathbf{W_2^\\top} (\\mathbf{\\hat{y}} - \\mathbf{y})\\right )\\mathbf{x}^\\top \\\\\\\n",
    " \\frac{\\partial J}{\\partial \\mathbf{W_2}} &= (\\mathbf{\\hat{y}} - \\mathbf{y})\\mathbf{h^\\top} \\\\\\\n",
    " \\frac{\\partial J}{\\partial \\mathbf{b_1}} &= \\rm{ReLU}\\left ( \\mathbf{W_2^\\top} (\\mathbf{\\hat{y}} - \\mathbf{y})\\right ) \\\\\\\n",
    " \\frac{\\partial J}{\\partial \\mathbf{b_2}} &= \\mathbf{\\hat{y}} - \\mathbf{y} \\\n",
    "\\end{align}\n",
    "\n"
   ]
  },
  {
   "cell_type": "code",
   "execution_count": 74,
   "id": "0bd50e80",
   "metadata": {},
   "outputs": [],
   "source": [
    "# def back_prop(x, yhat, y, h, W1, W2, b1, b2, batch_size):\n",
    "#     grad_b2 = 1/batch_size * np.dot(yhat - y, np.ones((batch_size, 1)))\n",
    "#     grad_W2 = 1/batch_size * np.dot(yhat - y, h.T)\n",
    "#     grad_b1 = 1/batch_size * np.dot(relu(np.dot(W2.T, yhat -y)), np.ones((batch_size, 1)))\n",
    "#     grad_W1 = 1/batch_size * np.dot(relu(np.dot(W2.T, yhat - y)), x.T)\n",
    "    \n",
    "#     return grad_W1, grad_W2, grad_b1, grad_b2\n",
    "\n",
    "def back_prop(x, yhat, y, h, W1, W2, b1, b2, batch_size):\n",
    "    '''\n",
    "    Inputs: \n",
    "        x:  average one hot vector for the context \n",
    "        yhat: prediction (estimate of y)\n",
    "        y:  target vector\n",
    "        h:  hidden vector (see eq. 1)\n",
    "        W1, W2, b1, b2:  matrices and biases  \n",
    "        batch_size: batch size \n",
    "     Outputs: \n",
    "        grad_W1, grad_W2, grad_b1, grad_b2:  gradients of matrices and biases   \n",
    "    '''\n",
    "    ### START CODE HERE (Replace instanes of 'None' with your code) ###\n",
    "    # Compute l1 as W2^T (Yhat - Y)\n",
    "    # and re-use it whenever you see W2^T (Yhat - Y) used to compute a gradient\n",
    "    l1 = np.dot(W2.T, yhat-y)\n",
    "\n",
    "    # Apply relu to l1\n",
    "    l1 = np.maximum(0, l1)\n",
    "\n",
    "    # compute the gradient for W1\n",
    "    grad_W1 = 1/batch_size * np.dot(l1, x.T)\n",
    "\n",
    "    # Compute gradient of W2\n",
    "    grad_W2 = 1/batch_size * np.dot(yhat -y, h.T)\n",
    "    \n",
    "    # compute gradient for b1\n",
    "    grad_b1 = 1/batch_size * np.dot(l1,np.ones((batch_size,1)))\n",
    "\n",
    "    # compute gradient for b2\n",
    "    grad_b2 = 1/batch_size * np.dot(yhat-y,np.ones((batch_size,1)))\n",
    "    ### END CODE HERE ####\n",
    "    \n",
    "    return grad_W1, grad_W2, grad_b1, grad_b2"
   ]
  },
  {
   "cell_type": "code",
   "execution_count": 75,
   "id": "1eebd916",
   "metadata": {},
   "outputs": [
    {
     "name": "stdout",
     "output_type": "stream",
     "text": [
      "get a batch of data\n",
      "tmp_x.shape (5775, 4)\n",
      "tmp_y.shape (5775, 4)\n",
      "\n",
      "Initialize weights and biases\n",
      "tmp_W1.shape (50, 5775)\n",
      "tmp_W2.shape (5775, 50)\n",
      "tmp_b1.shape (50, 1)\n",
      "tmp_b2.shape (5775, 1)\n",
      "\n",
      "Forwad prop to get z and h\n",
      "tmp_z.shape: (5775, 4)\n",
      "tmp_h.shape: (50, 4)\n",
      "\n",
      "Get yhat by calling softmax\n",
      "tmp_yhat.shape: (5775, 4)\n",
      "\n",
      "call back_prop\n",
      "tmp_grad_W1.shape (50, 5775)\n",
      "tmp_grad_W2.shape (5775, 50)\n",
      "tmp_grad_b1.shape (50, 1)\n",
      "tmp_grad_b2.shape (5775, 1)\n"
     ]
    }
   ],
   "source": [
    "# Test the function\n",
    "tmp_C = 2\n",
    "tmp_N = 50\n",
    "tmp_batch_size = 4\n",
    "tmp_word2Ind, tmp_Ind2word = get_dict(words)\n",
    "tmp_V = len(word2idx)\n",
    "\n",
    "\n",
    "# get a batch of data\n",
    "tmp_x, tmp_y = next(get_batches(words, tmp_word2Ind, tmp_V,tmp_C, tmp_batch_size))\n",
    "\n",
    "print(\"get a batch of data\")\n",
    "print(f\"tmp_x.shape {tmp_x.shape}\")\n",
    "print(f\"tmp_y.shape {tmp_y.shape}\")\n",
    "\n",
    "print()\n",
    "print(\"Initialize weights and biases\")\n",
    "tmp_W1, tmp_W2, tmp_b1, tmp_b2 = initialize_model(tmp_N,tmp_V)\n",
    "\n",
    "print(f\"tmp_W1.shape {tmp_W1.shape}\")\n",
    "print(f\"tmp_W2.shape {tmp_W2.shape}\")\n",
    "print(f\"tmp_b1.shape {tmp_b1.shape}\")\n",
    "print(f\"tmp_b2.shape {tmp_b2.shape}\")\n",
    "\n",
    "print()\n",
    "print(\"Forwad prop to get z and h\")\n",
    "tmp_z, tmp_h = forward_prop(tmp_x, tmp_W1, tmp_W2, tmp_b1, tmp_b2)\n",
    "print(f\"tmp_z.shape: {tmp_z.shape}\")\n",
    "print(f\"tmp_h.shape: {tmp_h.shape}\")\n",
    "\n",
    "print()\n",
    "print(\"Get yhat by calling softmax\")\n",
    "tmp_yhat = softmax(tmp_z)\n",
    "print(f\"tmp_yhat.shape: {tmp_yhat.shape}\")\n",
    "\n",
    "tmp_m = (2*tmp_C)\n",
    "tmp_grad_W1, tmp_grad_W2, tmp_grad_b1, tmp_grad_b2 = back_prop(tmp_x, tmp_yhat, tmp_y, tmp_h, tmp_W1, tmp_W2, tmp_b1, tmp_b2, tmp_batch_size)\n",
    "\n",
    "print()\n",
    "print(\"call back_prop\")\n",
    "print(f\"tmp_grad_W1.shape {tmp_grad_W1.shape}\")\n",
    "print(f\"tmp_grad_W2.shape {tmp_grad_W2.shape}\")\n",
    "print(f\"tmp_grad_b1.shape {tmp_grad_b1.shape}\")\n",
    "print(f\"tmp_grad_b2.shape {tmp_grad_b2.shape}\")"
   ]
  },
  {
   "cell_type": "code",
   "execution_count": null,
   "id": "c9850eaa",
   "metadata": {},
   "outputs": [],
   "source": []
  },
  {
   "cell_type": "code",
   "execution_count": 39,
   "id": "58f1743f",
   "metadata": {},
   "outputs": [],
   "source": [
    "yhat = softmax(z)\n",
    "\n",
    "grad_W1, grad_W2, grad_b1, grad_b2 = back_prop(x, yhat, y, h, W1, W2, b1, b2, 1)"
   ]
  },
  {
   "cell_type": "code",
   "execution_count": 40,
   "id": "11cffb7a",
   "metadata": {},
   "outputs": [
    {
     "name": "stdout",
     "output_type": "stream",
     "text": [
      "Size of vocabulary: 5775\n",
      "Shape of W1: (3, 5775)\n",
      "Shape of W2: (5775, 3)\n",
      "Shape of b1: (3, 1)\n",
      "Shape of b2: (5775, 1)\n"
     ]
    }
   ],
   "source": [
    "print('Size of vocabulary: {}'.format(V))\n",
    "print('Shape of W1: {}'.format(grad_W1.shape))\n",
    "print('Shape of W2: {}'.format(grad_W2.shape))\n",
    "print('Shape of b1: {}'.format(grad_b1.shape))\n",
    "print('Shape of b2: {}'.format(grad_b2.shape))"
   ]
  },
  {
   "cell_type": "markdown",
   "id": "8b177c80",
   "metadata": {},
   "source": [
    "## 2.5 Gradient Descent"
   ]
  },
  {
   "cell_type": "markdown",
   "id": "49cbad56",
   "metadata": {},
   "source": [
    "During the gradient descent phase, we will update the weights and biases by subtracting $\\alpha$ times the gradient from the original matrices and vectors, using the following formulas.\n",
    "\n",
    "\\begin{align}\n",
    " \\mathbf{W_1} &:= \\mathbf{W_1} - \\alpha \\frac{\\partial J}{\\partial \\mathbf{W_1}} \\\\\\\n",
    " \\mathbf{W_2} &:= \\mathbf{W_2} - \\alpha \\frac{\\partial J}{\\partial \\mathbf{W_2}} \\\\\\\n",
    " \\mathbf{b_1} &:= \\mathbf{b_1} - \\alpha \\frac{\\partial J}{\\partial \\mathbf{b_1}} \\\\\\\n",
    " \\mathbf{b_2} &:= \\mathbf{b_2} - \\alpha \\frac{\\partial J}{\\partial \\mathbf{b_2}} \\\\\\\n",
    "\\end{align}"
   ]
  },
  {
   "cell_type": "code",
   "execution_count": 100,
   "id": "40ecc3c0",
   "metadata": {},
   "outputs": [],
   "source": [
    "def gradient_descent(data, word2idx, N, V, num_iters, alpha, batch_sizes,\n",
    "                     initialize_model=initialize_model, get_batches=get_batches, forward_prop=forward_prop,\n",
    "                     softmax=softmax, compute_cost=compute_cost, back_prop=back_prop, random_seed=42):\n",
    "    '''\n",
    "    \n",
    "      Inputs: \n",
    "        data:      text/list of words\n",
    "        word2idx:  words to Indices\n",
    "        N:         dimension of hidden vector  \n",
    "        V:         dimension of vocabulary \n",
    "        num_iters: number of iterations  \n",
    "        random_seed: random seed to initialize the model's matrices and vectors\n",
    "        initialize_model: your implementation of the function to initialize the model\n",
    "        get_batches: function to get the data in batches\n",
    "        forward_prop: your implementation of the function to perform forward propagation\n",
    "        softmax: your implementation of the softmax function\n",
    "        compute_cost: cost function (Cross entropy)\n",
    "        back_prop: your implementation of the function to perform backward propagation\n",
    "     Outputs: \n",
    "        W1, W2, b1, b2:  updated matrices and biases after num_iters iterations\n",
    "\n",
    "    '''\n",
    "    W1, W2, b1, b2 = initialize_model(N, V, random_seed=random_seed)\n",
    "    batch_size = batch_sizes\n",
    "    \n",
    "    iters = 0\n",
    "    C = 2\n",
    "    \n",
    "    for x, y in get_batches(data, word2idx, V, C, batch_size):\n",
    "        z, h = forward_prop(x, W1, W2, b1, b2)\n",
    "        \n",
    "        yhat = softmax(z)\n",
    "        \n",
    "        cost = compute_cost(y, yhat, batch_size)\n",
    "        if (iters) % 10 == 0 and iters != 0:\n",
    "            print('Iters: {} cost: {:.5f}'.format(iters, cost))\n",
    "        \n",
    "        grad_W1, grad_W2, grad_b1, grad_b2 = back_prop(x, yhat, y, h, W1, W2, b1, b2, batch_size)\n",
    "        \n",
    "        W1 = W1 - alpha * grad_W1\n",
    "        W2 = W2 - alpha * grad_W2\n",
    "        b1 = b1 - alpha * grad_b1\n",
    "        b2 = b2 - alpha * grad_b2\n",
    "        \n",
    "        iters += 1\n",
    "        if iters == num_iters:\n",
    "            break\n",
    "        if iters % 100 == 0:\n",
    "            alpha *= 0.66\n",
    "            \n",
    "    return W1, W2, b1, b2"
   ]
  },
  {
   "cell_type": "code",
   "execution_count": 101,
   "id": "c8e97e60",
   "metadata": {
    "scrolled": true
   },
   "outputs": [
    {
     "name": "stdout",
     "output_type": "stream",
     "text": [
      "Iters: 10 cost: 13.04536\n",
      "Iters: 20 cost: 19.31177\n",
      "Iters: 30 cost: 4.41144\n",
      "Iters: 40 cost: 19.97878\n",
      "Iters: 50 cost: 3.86423\n",
      "Iters: 60 cost: 4.52410\n",
      "Iters: 70 cost: 16.76341\n",
      "Iters: 80 cost: 9.98704\n",
      "Iters: 90 cost: 15.92725\n",
      "Iters: 100 cost: 5.87687\n",
      "Iters: 110 cost: 10.91660\n",
      "Iters: 120 cost: 7.13941\n",
      "Iters: 130 cost: 10.57703\n",
      "Iters: 140 cost: 5.24777\n"
     ]
    }
   ],
   "source": [
    "N = 300\n",
    "V = len(word2idx)\n",
    "num_iters = 150\n",
    "alpha = 0.03\n",
    "batch_sizes = 128\n",
    "\n",
    "W1, W2, b1, b2 = gradient_descent(words, word2idx, N, V, num_iters, alpha, batch_sizes)"
   ]
  },
  {
   "cell_type": "markdown",
   "id": "f635c12f",
   "metadata": {},
   "source": [
    "# 3. Extracting & Visualizing word embedding vectors"
   ]
  },
  {
   "cell_type": "markdown",
   "id": "a651f489",
   "metadata": {},
   "source": [
    "### Option 1: extract embedding vectors from $\\mathbf{W_1}$"
   ]
  },
  {
   "cell_type": "code",
   "execution_count": 46,
   "id": "e009cfb0",
   "metadata": {},
   "outputs": [
    {
     "data": {
      "text/plain": [
       "(3, 5775)"
      ]
     },
     "execution_count": 46,
     "metadata": {},
     "output_type": "execute_result"
    }
   ],
   "source": [
    "W1.shape"
   ]
  },
  {
   "cell_type": "code",
   "execution_count": 47,
   "id": "79487258",
   "metadata": {},
   "outputs": [
    {
     "data": {
      "text/plain": [
       "array([[0.23401216, 0.93107723, 0.73199394, ..., 0.25715235, 0.71938816,\n",
       "        0.02812151],\n",
       "       [0.27682363, 0.60864366, 0.14609657, ..., 0.94505055, 0.54820377,\n",
       "        0.95317754],\n",
       "       [0.0883076 , 0.71227936, 0.81223954, ..., 0.61342626, 0.02977191,\n",
       "        0.50414849]])"
      ]
     },
     "execution_count": 47,
     "metadata": {},
     "output_type": "execute_result"
    }
   ],
   "source": [
    "W1"
   ]
  },
  {
   "cell_type": "markdown",
   "id": "ad99a362",
   "metadata": {},
   "source": [
    "The first column, which is a 3-element vector, is the embedding vector of the first word of your vocabulary. The second column is the word embedding vector for the second word, and so on.\n",
    "\n",
    "The first, second, etc. words are ordered as follows."
   ]
  },
  {
   "cell_type": "code",
   "execution_count": 114,
   "id": "c071d7a5",
   "metadata": {},
   "outputs": [],
   "source": [
    "# for word in word2idx:\n",
    "#     word_embedding_vector = W1[:, word2idx[word]]\n",
    "#     print('{}:  {}'.format(word, word_embedding_vector))"
   ]
  },
  {
   "cell_type": "markdown",
   "id": "d69ada44",
   "metadata": {},
   "source": [
    "### Option 2: extract embedding vectors from $\\mathbf{W_2}$"
   ]
  },
  {
   "cell_type": "code",
   "execution_count": 49,
   "id": "1d595e4c",
   "metadata": {},
   "outputs": [
    {
     "data": {
      "text/plain": [
       "array([[1.42039249, 0.7516403 , 0.19970316, ..., 0.94318466, 0.26937761,\n",
       "        0.17784783],\n",
       "       [0.73360901, 0.30124578, 0.988892  , ..., 0.21550699, 0.87660248,\n",
       "        0.72034645],\n",
       "       [1.00605264, 0.97533404, 0.00695004, ..., 0.79296809, 0.09817396,\n",
       "        0.17463643]])"
      ]
     },
     "execution_count": 49,
     "metadata": {},
     "output_type": "execute_result"
    }
   ],
   "source": [
    "W2.T"
   ]
  },
  {
   "cell_type": "code",
   "execution_count": 115,
   "id": "f78d2d87",
   "metadata": {},
   "outputs": [],
   "source": [
    "# for word in word2idx:\n",
    "#     word_embedding_vector = W2.T[:, word2idx[word]]\n",
    "#     print('{}:  {}'.format(word, word_embedding_vector))"
   ]
  },
  {
   "cell_type": "markdown",
   "id": "4f972eb8",
   "metadata": {},
   "source": [
    "### Option 3: extract embedding vectors from $\\mathbf{W_1}$ and $\\mathbf{W_2}$"
   ]
  },
  {
   "cell_type": "markdown",
   "id": "3334a01d",
   "metadata": {},
   "source": [
    "**Calculate the average of $\\mathbf{W_1}$ and $\\mathbf{W_2^\\top}$, and store the result in `W3`.**"
   ]
  },
  {
   "cell_type": "code",
   "execution_count": 51,
   "id": "84602c0d",
   "metadata": {},
   "outputs": [
    {
     "data": {
      "text/plain": [
       "array([[0.82720233, 0.84135876, 0.46584855, ..., 0.60016851, 0.49438288,\n",
       "        0.10298467],\n",
       "       [0.50521632, 0.45494472, 0.56749428, ..., 0.58027877, 0.71240313,\n",
       "        0.83676199],\n",
       "       [0.54718012, 0.8438067 , 0.40959479, ..., 0.70319718, 0.06397293,\n",
       "        0.33939246]])"
      ]
     },
     "execution_count": 51,
     "metadata": {},
     "output_type": "execute_result"
    }
   ],
   "source": [
    "W3 = (W1+W2.T)/2\n",
    "\n",
    "W3"
   ]
  },
  {
   "cell_type": "code",
   "execution_count": 116,
   "id": "636471f0",
   "metadata": {},
   "outputs": [],
   "source": [
    "# for word in word2idx:\n",
    "#     word_embedding_vector = W3[:, word2idx[word]]\n",
    "#     print('{}:  {}'.format(word, word_embedding_vector))"
   ]
  },
  {
   "cell_type": "markdown",
   "id": "0b8eb6a9",
   "metadata": {},
   "source": [
    "### Visualizing the Word Vectors"
   ]
  },
  {
   "cell_type": "code",
   "execution_count": 94,
   "id": "60a39782",
   "metadata": {},
   "outputs": [],
   "source": [
    "tmp_words = ['king', 'queen','lord','man', 'woman','dog','wolf',\n",
    "         'rich','happy','sad']\n",
    "\n",
    "embs = (W1 + W2.T) / 2\n",
    "\n",
    "idx = [word2idx[word] for word in tmp_words]\n",
    "\n",
    "X_embs = embs[:, idx]"
   ]
  },
  {
   "cell_type": "code",
   "execution_count": 102,
   "id": "828f564d",
   "metadata": {},
   "outputs": [
    {
     "name": "stdout",
     "output_type": "stream",
     "text": [
      "(10, 300) [2744, 3949, 2960, 3022, 5672, 1452, 5671, 4189, 2315, 4276]\n"
     ]
    }
   ],
   "source": [
    "words = ['king', 'queen','lord','man', 'woman','dog','wolf',\n",
    "         'rich','happy','sad']\n",
    "\n",
    "embs = (W1.T + W2)/2.0\n",
    " \n",
    "# given a list of words and the embeddings, it returns a matrix with all the embeddings\n",
    "idx = [word2idx[word] for word in words]\n",
    "X = embs[idx, :]\n",
    "print(X.shape, idx)"
   ]
  },
  {
   "cell_type": "code",
   "execution_count": 103,
   "id": "1bf5d241",
   "metadata": {},
   "outputs": [
    {
     "data": {
      "text/plain": [
       "array([[0.75617617, 0.55123138, 0.15103453, ..., 0.36697407, 0.52095975,\n",
       "        0.57413934],\n",
       "       [0.90429271, 0.39500144, 0.58925456, ..., 0.63943387, 0.43933398,\n",
       "        0.30720252],\n",
       "       [0.40381387, 0.71692826, 0.90895271, ..., 0.41247267, 0.53174454,\n",
       "        0.61525898],\n",
       "       ...,\n",
       "       [0.28025292, 0.28082184, 0.40141138, ..., 0.49284381, 0.62399881,\n",
       "        0.69067546],\n",
       "       [0.28470947, 0.13349295, 0.75493614, ..., 0.74415333, 0.37753939,\n",
       "        0.77190117],\n",
       "       [0.65296523, 0.51266489, 0.43219641, ..., 0.60016587, 0.55731318,\n",
       "        0.90103017]])"
      ]
     },
     "execution_count": 103,
     "metadata": {},
     "output_type": "execute_result"
    }
   ],
   "source": [
    "X_embs"
   ]
  },
  {
   "cell_type": "code",
   "execution_count": 96,
   "id": "afe5c67d",
   "metadata": {},
   "outputs": [
    {
     "data": {
      "text/plain": [
       "(300, 10)"
      ]
     },
     "execution_count": 96,
     "metadata": {},
     "output_type": "execute_result"
    }
   ],
   "source": [
    "X_embs.shape"
   ]
  },
  {
   "cell_type": "code",
   "execution_count": 97,
   "id": "522d2c6d",
   "metadata": {},
   "outputs": [],
   "source": [
    "from sklearn.decomposition import PCA\n",
    "\n",
    "pca = PCA(n_components=2)\n",
    "pca.fit(X_embs.T)\n",
    "\n",
    "X_reduced = pca.transform(X_embs.T)"
   ]
  },
  {
   "cell_type": "code",
   "execution_count": 98,
   "id": "69bc3603",
   "metadata": {},
   "outputs": [
    {
     "data": {
      "text/plain": [
       "(10, 2)"
      ]
     },
     "execution_count": 98,
     "metadata": {},
     "output_type": "execute_result"
    }
   ],
   "source": [
    "X_reduced.shape"
   ]
  },
  {
   "cell_type": "code",
   "execution_count": 104,
   "id": "6c9e039d",
   "metadata": {
    "scrolled": false
   },
   "outputs": [
    {
     "data": {
      "image/png": "[encoded data removed]",
      "text/plain": [
       "<Figure size 1000x600 with 1 Axes>"
      ]
     },
     "metadata": {},
     "output_type": "display_data"
    }
   ],
   "source": [
    "plt.figure(figsize=(10, 6))\n",
    "plt.scatter(X_reduced[:, 0], X_reduced[:, 1])\n",
    "for i, word in enumerate(tmp_words):\n",
    "    plt.annotate(word, xy=(X_reduced[i, 0], X_reduced[i, 1]))\n",
    "plt.show()"
   ]
  },
  {
   "cell_type": "code",
   "execution_count": null,
   "id": "3e99f58b",
   "metadata": {},
   "outputs": [],
   "source": []
  },
  {
   "cell_type": "code",
   "execution_count": null,
   "id": "ded3f1b0",
   "metadata": {},
   "outputs": [],
   "source": []
  }
 ],
 "metadata": {
  "kernelspec": {
   "display_name": "Python 3 (ipykernel)",
   "language": "python",
   "name": "python3"
  },
  "language_info": {
   "codemirror_mode": {
    "name": "ipython",
    "version": 3
   },
   "file_extension": ".py",
   "mimetype": "text/x-python",
   "name": "python",
   "nbconvert_exporter": "python",
   "pygments_lexer": "ipython3",
   "version": "3.7.9"
  }
 },
 "nbformat": 4,
 "nbformat_minor": 5
}
