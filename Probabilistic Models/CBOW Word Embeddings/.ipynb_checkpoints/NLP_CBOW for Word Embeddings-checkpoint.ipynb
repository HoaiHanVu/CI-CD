{
 "cells": [
  {
   "cell_type": "code",
   "execution_count": 1,
   "id": "06108a12",
   "metadata": {},
   "outputs": [
    {
     "name": "stderr",
     "output_type": "stream",
     "text": [
      "[nltk_data] Downloading package punkt to /Users/vuhan/nltk_data...\n",
      "[nltk_data]   Package punkt is already up-to-date!\n"
     ]
    }
   ],
   "source": [
    "import numpy as np\n",
    "import pandas as pd\n",
    "import matplotlib.pyplot as plt\n",
    "import re\n",
    "import emoji\n",
    "import nltk\n",
    "nltk.download('punkt')\n",
    "from nltk.tokenize import word_tokenize\n",
    "from scipy import linalg\n",
    "from collections import defaultdict\n",
    "import warnings\n",
    "warnings.filterwarnings('ignore')"
   ]
  },
  {
   "cell_type": "markdown",
   "id": "05da6de9",
   "metadata": {},
   "source": [
    "# 1. Data Preparation"
   ]
  },
  {
   "cell_type": "markdown",
   "id": "61d07a01",
   "metadata": {},
   "source": [
    "- Clean and tokenize the corpus.\n",
    "\n",
    "- Extract the pairs of context words and center word that will make up the training data set for the CBOW model. The context words are the features that will be fed into the model, and the center words are the target values that the model will learn to predict.\n",
    "\n",
    "- Create simple vector representations of the context words (features) and center words (targets) that can be used by the neural network of the CBOW model."
   ]
  },
  {
   "cell_type": "markdown",
   "id": "ec442ade",
   "metadata": {},
   "source": [
    "## 1.1 Cleaning and Tokenization"
   ]
  },
  {
   "cell_type": "markdown",
   "id": "a724503a",
   "metadata": {},
   "source": [
    "First, replace all interrupting punctuation signs — such as commas and exclamation marks — with periods.\n",
    "\n",
    "Next, use NLTK's tokenization engine to split the corpus into individual tokens.\n",
    "\n",
    "Finally, get rid of numbers and punctuation other than periods, and convert all the remaining tokens to lowercase."
   ]
  },
  {
   "cell_type": "code",
   "execution_count": 2,
   "id": "e84e3fd6",
   "metadata": {},
   "outputs": [],
   "source": [
    "def tokenize(corpus):\n",
    "    data = re.sub(r'[,!?;-]+', '.', corpus)\n",
    "    data = nltk.word_tokenize(data)\n",
    "    data = [char.lower() for char in data\n",
    "           if char.isalpha()\n",
    "           or char == '.'\n",
    "           or emoji.get_emoji_regexp().search(char)\n",
    "           ]\n",
    "    return data"
   ]
  },
  {
   "cell_type": "code",
   "execution_count": 3,
   "id": "9f91efce",
   "metadata": {},
   "outputs": [
    {
     "data": {
      "text/plain": [
       "['i',\n",
       " 'am',\n",
       " 'happy',\n",
       " 'because',\n",
       " 'i',\n",
       " 'am',\n",
       " 'learning',\n",
       " 'continuous',\n",
       " 'bags',\n",
       " 'of',\n",
       " 'word',\n",
       " 'for',\n",
       " 'words',\n",
       " 'embeddings',\n",
       " '❤️',\n",
       " '.']"
      ]
     },
     "execution_count": 3,
     "metadata": {},
     "output_type": "execute_result"
    }
   ],
   "source": [
    "corpus = 'I am happy because I am learning continuous bags of word for words embeddings ❤️!!!'\n",
    "\n",
    "words = tokenize(corpus)\n",
    "words"
   ]
  },
  {
   "cell_type": "markdown",
   "id": "b2e8c202",
   "metadata": {},
   "source": [
    "## 1.2 Slicing window of words"
   ]
  },
  {
   "cell_type": "markdown",
   "id": "e99bd587",
   "metadata": {},
   "source": [
    "Now that we have transformed the corpus into a list of clean tokens, we can slide a window of words across this list. For each window we can extract a center word and the context words.\n",
    "\n",
    "The first argument of this function is a list of words (or tokens). The second argument, `C`, is the context half-size. Recall that for a given center word, the context words are made of `C` words to the left and `C` words to the right of the center word."
   ]
  },
  {
   "cell_type": "code",
   "execution_count": 4,
   "id": "6daea7fb",
   "metadata": {},
   "outputs": [],
   "source": [
    "def get_windows(words, C):\n",
    "    i = C\n",
    "    while i < len(words) - C:\n",
    "        center_word = words[i]\n",
    "        context_words = words[i-C:i] + words[i+1:i+C+1]\n",
    "        yield context_words, center_word\n",
    "        i += 1"
   ]
  },
  {
   "cell_type": "code",
   "execution_count": 5,
   "id": "08c1f8e7",
   "metadata": {},
   "outputs": [
    {
     "name": "stdout",
     "output_type": "stream",
     "text": [
      "['i', 'happy'] am\n",
      "['am', 'because'] happy\n",
      "['happy', 'i'] because\n",
      "['because', 'am'] i\n",
      "['i', 'learning'] am\n",
      "['am', 'continuous'] learning\n",
      "['learning', 'bags'] continuous\n",
      "['continuous', 'of'] bags\n",
      "['bags', 'word'] of\n",
      "['of', 'for'] word\n",
      "['word', 'words'] for\n",
      "['for', 'embeddings'] words\n",
      "['words', '❤️'] embeddings\n",
      "['embeddings', '.'] ❤️\n"
     ]
    }
   ],
   "source": [
    "for x, y in get_windows(tokenize(corpus), 1):\n",
    "    print(x, y)"
   ]
  },
  {
   "cell_type": "markdown",
   "id": "5488948a",
   "metadata": {},
   "source": [
    "## 1.3 Transforming word into vectors for training set"
   ]
  },
  {
   "cell_type": "markdown",
   "id": "8e3e41ae",
   "metadata": {},
   "source": [
    "### 1.3.1 Mapping words to indices and indices to words"
   ]
  },
  {
   "cell_type": "markdown",
   "id": "d16dc7da",
   "metadata": {},
   "source": [
    "The center words will be represented as one-hot vectors, and the vectors that represent context words are also based on one-hot vectors.\n",
    "\n",
    "To create one-hot word vectors, we can start by mapping each unique word to a unique integer (or index)."
   ]
  },
  {
   "cell_type": "code",
   "execution_count": 6,
   "id": "e6d95f3d",
   "metadata": {},
   "outputs": [],
   "source": [
    "def get_dict(data):\n",
    "    \"\"\"\n",
    "    Input:\n",
    "        data: the data want to pull from\n",
    "    Output:\n",
    "        word2idx: returns dictionary mapping the word to its index\n",
    "        idx2word: returns dictionary mapping the index to its word\n",
    "    \"\"\"\n",
    "    words = sorted(list(set(data)))\n",
    "    n = len(words)\n",
    "    idx = 0\n",
    "    word2idx = {}\n",
    "    idx2word = {}\n",
    "    for k in words:\n",
    "        word2idx[k] = idx\n",
    "        idx2word[idx] = k\n",
    "        idx += 1\n",
    "    return word2idx, idx2word"
   ]
  },
  {
   "cell_type": "code",
   "execution_count": 7,
   "id": "a5d6835b",
   "metadata": {},
   "outputs": [
    {
     "name": "stdout",
     "output_type": "stream",
     "text": [
      "{'.': 0, 'am': 1, 'bags': 2, 'because': 3, 'continuous': 4, 'embeddings': 5, 'for': 6, 'happy': 7, 'i': 8, 'learning': 9, 'of': 10, 'word': 11, 'words': 12, '❤️': 13}\n",
      "\n",
      "{0: '.', 1: 'am', 2: 'bags', 3: 'because', 4: 'continuous', 5: 'embeddings', 6: 'for', 7: 'happy', 8: 'i', 9: 'learning', 10: 'of', 11: 'word', 12: 'words', 13: '❤️'}\n"
     ]
    }
   ],
   "source": [
    "word2idx, idx2word = get_dict(words)\n",
    "\n",
    "print(word2idx)\n",
    "print()\n",
    "print(idx2word)"
   ]
  },
  {
   "cell_type": "markdown",
   "id": "1df4b9e1",
   "metadata": {},
   "source": [
    "### 1.3.2 Getting one-hot vectors"
   ]
  },
  {
   "cell_type": "code",
   "execution_count": 8,
   "id": "83648521",
   "metadata": {},
   "outputs": [],
   "source": [
    "def word_to_one_hot_vector(word, word2idx, V):\n",
    "    \"\"\"\n",
    "    Input:\n",
    "        word: the letter of corpus want to transform into one hot vector\n",
    "        word2idx: dictionary with key is word and value is index of word in string\n",
    "        V: size of vocabulary\n",
    "    Output:\n",
    "        one_hot_vector: a vector one hot of word\n",
    "    \"\"\"\n",
    "    one_hot_vector = np.zeros(V)\n",
    "    one_hot_vector[word2idx[word]] = 1\n",
    "    \n",
    "    return one_hot_vector"
   ]
  },
  {
   "cell_type": "code",
   "execution_count": 9,
   "id": "d0518a2d",
   "metadata": {},
   "outputs": [
    {
     "data": {
      "text/plain": [
       "array([0., 0., 0., 0., 0., 0., 0., 0., 0., 0., 0., 1., 0., 0.])"
      ]
     },
     "execution_count": 9,
     "metadata": {},
     "output_type": "execute_result"
    }
   ],
   "source": [
    "word_to_one_hot_vector('word', word2idx, len(word2idx))"
   ]
  },
  {
   "cell_type": "markdown",
   "id": "f0b72619",
   "metadata": {},
   "source": [
    "### 1.3.3 Getting context words vectors"
   ]
  },
  {
   "cell_type": "markdown",
   "id": "fc3b9727",
   "metadata": {},
   "source": [
    "To create the vectors that represent context words, we will calculate the average of the one-hot vectors representing the individual words."
   ]
  },
  {
   "cell_type": "code",
   "execution_count": 10,
   "id": "67bcaf7f",
   "metadata": {},
   "outputs": [],
   "source": [
    "def context_words_to_vector(context_words, word2idx, V):\n",
    "    \"\"\"\n",
    "    Input:\n",
    "        context_words: list of context words\n",
    "        word2idx: dictionary with key is word and value is index of word in string\n",
    "        V: size of vocabulary\n",
    "    Output:\n",
    "        context_words_vector: vectors of all context words\n",
    "    \"\"\"\n",
    "    context_words_vectors = [word_to_one_hot_vector(w, word2idx, V) for w in context_words]\n",
    "    context_words_vectors = np.mean(context_words_vectors, axis=0)\n",
    "    \n",
    "    return context_words_vectors"
   ]
  },
  {
   "cell_type": "code",
   "execution_count": 11,
   "id": "dbe76e05",
   "metadata": {},
   "outputs": [
    {
     "data": {
      "text/plain": [
       "array([0. , 0.5, 0. , 0. , 0.5, 0. , 0. , 0. , 0. , 0. , 0. , 0. , 0. ,\n",
       "       0. ])"
      ]
     },
     "execution_count": 11,
     "metadata": {},
     "output_type": "execute_result"
    }
   ],
   "source": [
    "context_words_to_vector(['am', 'continuous'], word2idx, len(word2idx))"
   ]
  },
  {
   "cell_type": "markdown",
   "id": "8685f326",
   "metadata": {},
   "source": [
    "## 1.4 Building the training set"
   ]
  },
  {
   "cell_type": "markdown",
   "id": "ebf1e0f9",
   "metadata": {},
   "source": [
    "To do this we need to use the sliding window function (`get_windows`) to extract the context words and center words, and we then convert these sets of words into a basic vector representation using `word_to_one_hot_vector` and `context_words_to_vector`."
   ]
  },
  {
   "cell_type": "code",
   "execution_count": 12,
   "id": "bdf8c7e3",
   "metadata": {},
   "outputs": [],
   "source": [
    "def get_training_example(words, C, word2idx, V):\n",
    "    for context_words, center_word in get_windows(words, C):\n",
    "        yield context_words_to_vector(context_words, word2idx, V),\\\n",
    "              word_to_one_hot_vector(center_word, word2idx, V)"
   ]
  },
  {
   "cell_type": "code",
   "execution_count": 13,
   "id": "e9881506",
   "metadata": {
    "scrolled": false
   },
   "outputs": [
    {
     "name": "stdout",
     "output_type": "stream",
     "text": [
      "Context words vector:  [0.   0.25 0.   0.25 0.   0.   0.   0.   0.5  0.   0.   0.   0.   0.  ]\n",
      "Center word vector:  [0. 0. 0. 0. 0. 0. 0. 1. 0. 0. 0. 0. 0. 0.]\n",
      "\n",
      "Context words vector:  [0.   0.5  0.   0.   0.   0.   0.   0.25 0.25 0.   0.   0.   0.   0.  ]\n",
      "Center word vector:  [0. 0. 0. 1. 0. 0. 0. 0. 0. 0. 0. 0. 0. 0.]\n",
      "\n",
      "Context words vector:  [0.   0.25 0.   0.25 0.   0.   0.   0.25 0.   0.25 0.   0.   0.   0.  ]\n",
      "Center word vector:  [0. 0. 0. 0. 0. 0. 0. 0. 1. 0. 0. 0. 0. 0.]\n",
      "\n",
      "Context words vector:  [0.   0.   0.   0.25 0.25 0.   0.   0.   0.25 0.25 0.   0.   0.   0.  ]\n",
      "Center word vector:  [0. 1. 0. 0. 0. 0. 0. 0. 0. 0. 0. 0. 0. 0.]\n",
      "\n"
     ]
    }
   ],
   "source": [
    "V = len(word2idx)\n",
    "for context_words_vector, center_word_vector in get_training_example(words[:8], 2, word2idx, V):\n",
    "    print(f'Context words vector:  {context_words_vector}')\n",
    "    print(f'Center word vector:  {center_word_vector}')\n",
    "    print()"
   ]
  },
  {
   "cell_type": "markdown",
   "id": "cc6498a5",
   "metadata": {},
   "source": [
    "## 1.5 Deviding training set into batches"
   ]
  },
  {
   "cell_type": "code",
   "execution_count": 14,
   "id": "32abec09",
   "metadata": {},
   "outputs": [],
   "source": [
    "def get_idx(words, word2idx):\n",
    "    idx = []\n",
    "    for word in words:\n",
    "        idx = idx + [word2idx[word]]\n",
    "    return idx\n",
    "\n",
    "def pack_idx_with_frequency(context_words, word2idx):\n",
    "    freq_dict = defaultdict(int)\n",
    "    for word in context_words:\n",
    "        freq_dict[word] += 1\n",
    "    idxs = get_idx(context_words, word2idx)\n",
    "    packed = []\n",
    "    for i in range(len(idxs)):\n",
    "        idx = idxs[i]\n",
    "        freq = freq_dict[context_words[i]]\n",
    "        packed.append((idx, freq))\n",
    "    return packed"
   ]
  },
  {
   "cell_type": "code",
   "execution_count": 15,
   "id": "61ba718f",
   "metadata": {},
   "outputs": [],
   "source": [
    "def get_vectors(data, word2idx, V, C):\n",
    "    i = C\n",
    "    while True:\n",
    "        y = np.zeros(V)\n",
    "        x = np.zeros(V)\n",
    "        center_word = data[i]\n",
    "        y[word2idx[center_word]] = 1\n",
    "        context_words = data[(i - C) : i] + data[(i + 1) : (i + C + 1)]\n",
    "        num_ctx_words = len(context_words)\n",
    "        for idx, freq in pack_idx_with_frequency(context_words, word2idx):\n",
    "            x[idx] = freq / num_ctx_words\n",
    "        yield x, y\n",
    "        i += 1\n",
    "        if i >= len(data) - C:\n",
    "#             print(\"i is being set to\", C)\n",
    "            i = C"
   ]
  },
  {
   "cell_type": "code",
   "execution_count": 16,
   "id": "06d3414e",
   "metadata": {},
   "outputs": [],
   "source": [
    "def get_batches(data, word2idx, V, C, batch_size):\n",
    "    batch_x = []\n",
    "    batch_y = []\n",
    "    for x, y in get_vectors(data, word2idx, V, C):\n",
    "        while len(batch_x) < batch_size:\n",
    "            batch_x.append(x)\n",
    "            batch_y.append(y)\n",
    "        else:\n",
    "            yield np.array(batch_x).T, np.array(batch_y).T\n",
    "            batch_x = []\n",
    "            batch_y = []"
   ]
  },
  {
   "cell_type": "markdown",
   "id": "33a99e1c",
   "metadata": {},
   "source": [
    "# 2. The shallow neurals network for continuous bag-of-words model"
   ]
  },
  {
   "cell_type": "markdown",
   "id": "6e934b92",
   "metadata": {},
   "source": [
    "## 2.1 Activation functions"
   ]
  },
  {
   "cell_type": "markdown",
   "id": "fe1d3d63",
   "metadata": {},
   "source": [
    "### ReLU"
   ]
  },
  {
   "cell_type": "markdown",
   "id": "f6272fe0",
   "metadata": {},
   "source": [
    "ReLU is used to calculate the values of the hidden layer, in the following formulas:\n",
    "\n",
    "\\begin{align}\n",
    " \\mathbf{z_1} &= \\mathbf{W_1}\\mathbf{x} + \\mathbf{b_1}  \\ \\\\\n",
    " \\mathbf{h} &= \\mathrm{ReLU}(\\mathbf{z_1})  \\ \\\\\n",
    "\\end{align}\n",
    "\n"
   ]
  },
  {
   "cell_type": "code",
   "execution_count": 17,
   "id": "8b7d7411",
   "metadata": {},
   "outputs": [],
   "source": [
    "def relu(z):\n",
    "    return np.maximum(0, z)"
   ]
  },
  {
   "cell_type": "code",
   "execution_count": 18,
   "id": "b98b8f4d",
   "metadata": {},
   "outputs": [
    {
     "data": {
      "text/plain": [
       "array([[-1.25459881],\n",
       "       [ 4.50714306],\n",
       "       [ 2.31993942],\n",
       "       [ 0.98658484],\n",
       "       [-3.4398136 ]])"
      ]
     },
     "execution_count": 18,
     "metadata": {},
     "output_type": "execute_result"
    }
   ],
   "source": [
    "np.random.seed(42)\n",
    "\n",
    "z1 = 10 * np.random.rand(5, 1) - 5\n",
    "z1"
   ]
  },
  {
   "cell_type": "code",
   "execution_count": 19,
   "id": "4eff672e",
   "metadata": {},
   "outputs": [
    {
     "data": {
      "text/plain": [
       "array([[0.        ],\n",
       "       [4.50714306],\n",
       "       [2.31993942],\n",
       "       [0.98658484],\n",
       "       [0.        ]])"
      ]
     },
     "execution_count": 19,
     "metadata": {},
     "output_type": "execute_result"
    }
   ],
   "source": [
    "relu(z1)"
   ]
  },
  {
   "cell_type": "markdown",
   "id": "dd5b6cdb",
   "metadata": {},
   "source": [
    "### Softmax"
   ]
  },
  {
   "cell_type": "markdown",
   "id": "95472c61",
   "metadata": {},
   "source": [
    "The second activation function that we need is softmax. This function is used to calculate the values of the output layer of the neural network, using the following formulas:\n",
    "\n",
    "\\begin{align}\n",
    " \\mathbf{z_2} &= \\mathbf{W_2}\\mathbf{h} + \\mathbf{b_2}   \\\\\\\n",
    " \\mathbf{\\hat y} &= \\mathrm{softmax}(\\mathbf{z_2})   \\\\\\\n",
    "\\end{align}\n",
    "\n",
    "To calculate softmax of a vector $\\mathbf{z}$, the $i$-th component of the resulting vector is given by:\n",
    "\n",
    "$$ \\textrm{softmax}(\\textbf{z})_i = \\frac{e^{z_i} }{\\sum\\limits_{j=1}^{V} e^{z_j} }   $$"
   ]
  },
  {
   "cell_type": "code",
   "execution_count": 20,
   "id": "24f41810",
   "metadata": {},
   "outputs": [],
   "source": [
    "def softmax(z):\n",
    "    yhat = np.exp(z) / np.sum(np.exp(z), axis=0)\n",
    "    \n",
    "    return yhat"
   ]
  },
  {
   "cell_type": "code",
   "execution_count": 21,
   "id": "f4bbe7c8",
   "metadata": {},
   "outputs": [
    {
     "data": {
      "text/plain": [
       "array([0.08276948, 0.03044919, 0.61158833, 0.22499077, 0.05020223])"
      ]
     },
     "execution_count": 21,
     "metadata": {},
     "output_type": "execute_result"
    }
   ],
   "source": [
    "z1 = np.array([9, 8, 11, 10, 8.5])\n",
    "\n",
    "softmax(z1)"
   ]
  },
  {
   "cell_type": "code",
   "execution_count": 22,
   "id": "603215ff",
   "metadata": {},
   "outputs": [
    {
     "data": {
      "text/plain": [
       "1.0"
      ]
     },
     "execution_count": 22,
     "metadata": {},
     "output_type": "execute_result"
    }
   ],
   "source": [
    "softmax(z1).sum()"
   ]
  },
  {
   "cell_type": "markdown",
   "id": "8ee56ebc",
   "metadata": {},
   "source": [
    "## 2.2 Cost function"
   ]
  },
  {
   "cell_type": "code",
   "execution_count": 23,
   "id": "be3b2b68",
   "metadata": {},
   "outputs": [],
   "source": [
    "def compute_cost(y, yhat, batch_size):\n",
    "    loss = np.sum(np.multiply(np.log(yhat), y))\n",
    "    \n",
    "    cost = -1/batch_size * loss\n",
    "    cost = np.squeeze(cost)\n",
    "    \n",
    "    return cost"
   ]
  },
  {
   "cell_type": "code",
   "execution_count": 24,
   "id": "c39ba42c",
   "metadata": {},
   "outputs": [
    {
     "data": {
      "text/plain": [
       "array([0.08276948, 0.03044919, 0.61158833, 0.22499077, 0.05020223])"
      ]
     },
     "execution_count": 24,
     "metadata": {},
     "output_type": "execute_result"
    }
   ],
   "source": [
    "y_pred = softmax(relu(z1))\n",
    "y_pred"
   ]
  },
  {
   "cell_type": "code",
   "execution_count": 25,
   "id": "537ab803",
   "metadata": {},
   "outputs": [
    {
     "data": {
      "text/plain": [
       "96.11385871598675"
      ]
     },
     "execution_count": 25,
     "metadata": {},
     "output_type": "execute_result"
    }
   ],
   "source": [
    "compute_cost(z1, y_pred, 1)"
   ]
  },
  {
   "cell_type": "markdown",
   "id": "5424beed",
   "metadata": {},
   "source": [
    "## 2.3 Foward propagation"
   ]
  },
  {
   "cell_type": "markdown",
   "id": "554eae12",
   "metadata": {},
   "source": [
    "### 2.3.1 Initialization of the weights and biases"
   ]
  },
  {
   "cell_type": "markdown",
   "id": "c1a0734c",
   "metadata": {},
   "source": [
    "- The first matrix ($W_1$) is of dimension $N \\times V$, where $V$ is the number of words in vocabulary and $N$ is the dimension of word vector.\n",
    "- The second matrix ($W_2$) is of dimension $V \\times N$. \n",
    "- Vector $b_1$ has dimensions $N\\times 1$\n",
    "- Vector $b_2$ has dimensions  $V\\times 1$. \n",
    "- $b_1$ and $b_2$ are the bias vectors of the linear layers from matrices $W_1$ and $W_2$.\n",
    "\n"
   ]
  },
  {
   "cell_type": "code",
   "execution_count": 26,
   "id": "7232f73d",
   "metadata": {},
   "outputs": [],
   "source": [
    "V = len(word2idx)\n",
    "N = 3"
   ]
  },
  {
   "cell_type": "code",
   "execution_count": 27,
   "id": "7cb15452",
   "metadata": {},
   "outputs": [],
   "source": [
    "def initialize_model(N, V, random_seed=42):\n",
    "    np.random.seed(random_seed)\n",
    "\n",
    "    W1 = np.random.rand(N, V)\n",
    "    W2 = np.random.rand(V, N)\n",
    "    b1 = np.random.rand(N, 1)\n",
    "    b2 = np.random.rand(V, 1)\n",
    "    \n",
    "    return W1, W2, b1, b2"
   ]
  },
  {
   "cell_type": "code",
   "execution_count": 28,
   "id": "3a9b42ad",
   "metadata": {},
   "outputs": [],
   "source": [
    "def forward_prop(x, W1, W2, b1, b2):\n",
    "    h = np.dot(W1, x) + b1\n",
    "    h = relu(h)\n",
    "    z = np.dot(W2, h) + b2\n",
    "    \n",
    "    return z, h"
   ]
  },
  {
   "cell_type": "code",
   "execution_count": 29,
   "id": "880d653c",
   "metadata": {},
   "outputs": [],
   "source": [
    "training_exp = get_training_example(words, 2, word2idx, V)\n",
    "\n",
    "x_arr, y_arr = next(training_exp)"
   ]
  },
  {
   "cell_type": "code",
   "execution_count": 30,
   "id": "4ff9612f",
   "metadata": {},
   "outputs": [
    {
     "name": "stdout",
     "output_type": "stream",
     "text": [
      "X array: [0.   0.25 0.   0.25 0.   0.   0.   0.   0.5  0.   0.   0.   0.   0.  ]\n",
      "Y array [0. 0. 0. 0. 0. 0. 0. 1. 0. 0. 0. 0. 0. 0.]\n"
     ]
    }
   ],
   "source": [
    "print('X array:', x_arr)\n",
    "print('Y array', y_arr)"
   ]
  },
  {
   "cell_type": "code",
   "execution_count": 31,
   "id": "5f168d31",
   "metadata": {},
   "outputs": [
    {
     "data": {
      "text/plain": [
       "array([[0.  ],\n",
       "       [0.25],\n",
       "       [0.  ],\n",
       "       [0.25],\n",
       "       [0.  ],\n",
       "       [0.  ],\n",
       "       [0.  ],\n",
       "       [0.  ],\n",
       "       [0.5 ],\n",
       "       [0.  ],\n",
       "       [0.  ],\n",
       "       [0.  ],\n",
       "       [0.  ],\n",
       "       [0.  ]])"
      ]
     },
     "execution_count": 31,
     "metadata": {},
     "output_type": "execute_result"
    }
   ],
   "source": [
    "x = x_arr.copy().reshape((V, 1))\n",
    "x"
   ]
  },
  {
   "cell_type": "code",
   "execution_count": 32,
   "id": "9d0a6eb2",
   "metadata": {},
   "outputs": [
    {
     "data": {
      "text/plain": [
       "array([[0.],\n",
       "       [0.],\n",
       "       [0.],\n",
       "       [0.],\n",
       "       [0.],\n",
       "       [0.],\n",
       "       [0.],\n",
       "       [1.],\n",
       "       [0.],\n",
       "       [0.],\n",
       "       [0.],\n",
       "       [0.],\n",
       "       [0.],\n",
       "       [0.]])"
      ]
     },
     "execution_count": 32,
     "metadata": {},
     "output_type": "execute_result"
    }
   ],
   "source": [
    "y = y_arr.copy().reshape((V, 1))\n",
    "y"
   ]
  },
  {
   "cell_type": "code",
   "execution_count": 33,
   "id": "3681d972",
   "metadata": {},
   "outputs": [],
   "source": [
    "W1, W2, b1, b2 = initialize_model(N, V)"
   ]
  },
  {
   "cell_type": "code",
   "execution_count": 34,
   "id": "cec6034f",
   "metadata": {},
   "outputs": [
    {
     "name": "stdout",
     "output_type": "stream",
     "text": [
      "[[1.7422567 ]\n",
      " [1.96109371]\n",
      " [2.60634493]\n",
      " [1.72877741]\n",
      " [1.06192682]\n",
      " [1.7615788 ]\n",
      " [1.41772227]\n",
      " [1.89609992]\n",
      " [2.25082177]\n",
      " [1.86064522]\n",
      " [1.93908927]\n",
      " [0.82876426]\n",
      " [0.99547822]\n",
      " [0.99632302]]\n"
     ]
    }
   ],
   "source": [
    "z, h = forward_prop(x, W1, W2, b1, b2)\n",
    "\n",
    "print(z)"
   ]
  },
  {
   "cell_type": "code",
   "execution_count": 35,
   "id": "fd21efeb",
   "metadata": {},
   "outputs": [
    {
     "data": {
      "text/plain": [
       "array([[0.72228922],\n",
       "       [1.23243296],\n",
       "       [0.4653305 ]])"
      ]
     },
     "execution_count": 35,
     "metadata": {},
     "output_type": "execute_result"
    }
   ],
   "source": [
    "h"
   ]
  },
  {
   "cell_type": "code",
   "execution_count": 36,
   "id": "b51e7879",
   "metadata": {},
   "outputs": [
    {
     "data": {
      "text/plain": [
       "2.51162236970795"
      ]
     },
     "execution_count": 36,
     "metadata": {},
     "output_type": "execute_result"
    }
   ],
   "source": [
    "compute_cost(y, softmax(z), 1)"
   ]
  },
  {
   "cell_type": "markdown",
   "id": "40964c4b",
   "metadata": {},
   "source": [
    "## 2.4 Backpropagation"
   ]
  },
  {
   "cell_type": "markdown",
   "id": "f9813e6a",
   "metadata": {},
   "source": [
    "The formulas will implement for backpropagation are the following.\n",
    "\n",
    "\\begin{align}\n",
    " \\frac{\\partial J}{\\partial \\mathbf{W_1}} &= \\rm{ReLU}\\left ( \\mathbf{W_2^\\top} (\\mathbf{\\hat{y}} - \\mathbf{y})\\right )\\mathbf{x}^\\top \\\\\\\n",
    " \\frac{\\partial J}{\\partial \\mathbf{W_2}} &= (\\mathbf{\\hat{y}} - \\mathbf{y})\\mathbf{h^\\top} \\\\\\\n",
    " \\frac{\\partial J}{\\partial \\mathbf{b_1}} &= \\rm{ReLU}\\left ( \\mathbf{W_2^\\top} (\\mathbf{\\hat{y}} - \\mathbf{y})\\right ) \\\\\\\n",
    " \\frac{\\partial J}{\\partial \\mathbf{b_2}} &= \\mathbf{\\hat{y}} - \\mathbf{y} \\\n",
    "\\end{align}\n",
    "\n"
   ]
  },
  {
   "cell_type": "code",
   "execution_count": 37,
   "id": "0bd50e80",
   "metadata": {},
   "outputs": [],
   "source": [
    "def back_prop(x, yhat, y, h, W1, W2, b1, b2, batch_size):\n",
    "    \n",
    "    grad_W1 = 1/batch_size * np.dot(relu(np.dot(W2.T, yhat - y)), x.T)\n",
    "    grad_W2 = 1/batch_size * np.dot(yhat - y, h.T)\n",
    "    grad_b1 = 1/batch_size * np.dot(relu(np.dot(W2.T, yhat -y)), np.ones((batch_size, 1)))\n",
    "    grad_b2 = 1/batch_size * np.dot(yhat - y, np.ones((batch_size, 1)))\n",
    "    \n",
    "    return grad_W1, grad_W2, grad_b1, grad_b2"
   ]
  },
  {
   "cell_type": "code",
   "execution_count": 38,
   "id": "58f1743f",
   "metadata": {},
   "outputs": [],
   "source": [
    "yhat = softmax(z)\n",
    "\n",
    "grad_W1, grad_W2, grad_b1, grad_b2 = back_prop(x, yhat, y, h, W1, W2, b1, b2, 1)"
   ]
  },
  {
   "cell_type": "code",
   "execution_count": 39,
   "id": "11cffb7a",
   "metadata": {},
   "outputs": [
    {
     "name": "stdout",
     "output_type": "stream",
     "text": [
      "Size of vocabulary: 14\n",
      "Shape of W1: (3, 14)\n",
      "Shape of W2: (14, 3)\n",
      "Shape of b1: (3, 1)\n",
      "Shape of b2: (14, 1)\n"
     ]
    }
   ],
   "source": [
    "print('Size of vocabulary: {}'.format(V))\n",
    "print('Shape of W1: {}'.format(grad_W1.shape))\n",
    "print('Shape of W2: {}'.format(grad_W2.shape))\n",
    "print('Shape of b1: {}'.format(grad_b1.shape))\n",
    "print('Shape of b2: {}'.format(grad_b2.shape))"
   ]
  },
  {
   "cell_type": "markdown",
   "id": "8b177c80",
   "metadata": {},
   "source": [
    "## 2.5 Gradient Descent"
   ]
  },
  {
   "cell_type": "markdown",
   "id": "49cbad56",
   "metadata": {},
   "source": [
    "During the gradient descent phase, we will update the weights and biases by subtracting $\\alpha$ times the gradient from the original matrices and vectors, using the following formulas.\n",
    "\n",
    "\\begin{align}\n",
    " \\mathbf{W_1} &:= \\mathbf{W_1} - \\alpha \\frac{\\partial J}{\\partial \\mathbf{W_1}} \\\\\\\n",
    " \\mathbf{W_2} &:= \\mathbf{W_2} - \\alpha \\frac{\\partial J}{\\partial \\mathbf{W_2}} \\\\\\\n",
    " \\mathbf{b_1} &:= \\mathbf{b_1} - \\alpha \\frac{\\partial J}{\\partial \\mathbf{b_1}} \\\\\\\n",
    " \\mathbf{b_2} &:= \\mathbf{b_2} - \\alpha \\frac{\\partial J}{\\partial \\mathbf{b_2}} \\\\\\\n",
    "\\end{align}"
   ]
  },
  {
   "cell_type": "code",
   "execution_count": 40,
   "id": "40ecc3c0",
   "metadata": {},
   "outputs": [],
   "source": [
    "def gradient_descent(data, word2idx, N, V, num_iters, alpha, batch_sizes,\n",
    "                     initialize_model=initialize_model, get_batches=get_batches, forward_prop=forward_prop,\n",
    "                     softmax=softmax, compute_cost=compute_cost, back_prop=back_prop, random_seed=42):\n",
    "    '''\n",
    "    \n",
    "      Inputs: \n",
    "        data:      text/list of words\n",
    "        word2idx:  words to Indices\n",
    "        N:         dimension of hidden vector  \n",
    "        V:         dimension of vocabulary \n",
    "        num_iters: number of iterations  \n",
    "        random_seed: random seed to initialize the model's matrices and vectors\n",
    "        initialize_model: your implementation of the function to initialize the model\n",
    "        get_batches: function to get the data in batches\n",
    "        forward_prop: your implementation of the function to perform forward propagation\n",
    "        softmax: your implementation of the softmax function\n",
    "        compute_cost: cost function (Cross entropy)\n",
    "        back_prop: your implementation of the function to perform backward propagation\n",
    "     Outputs: \n",
    "        W1, W2, b1, b2:  updated matrices and biases after num_iters iterations\n",
    "\n",
    "    '''\n",
    "    W1, W2, b1, b2 = initialize_model(N, V, random_seed=random_seed)\n",
    "    batch_size = batch_sizes\n",
    "    \n",
    "    iters = 0\n",
    "    C = 2\n",
    "    \n",
    "    for x, y in get_batches(data, word2idx, V, C, batch_size):\n",
    "        z, h = forward_prop(x, W1, W2, b1, b2)\n",
    "        \n",
    "        yhat = softmax(z)\n",
    "        \n",
    "        cost = compute_cost(y, yhat, batch_size)\n",
    "        if (iters) % 10 == 0 and iters != 0:\n",
    "            print('Iters: {} cost: {:.5f}'.format(iters, cost))\n",
    "        \n",
    "        grad_W1, grad_W2, grad_b1, grad_b2 = back_prop(x, yhat, y, h, W1, W2, b1, b2, batch_size)\n",
    "        \n",
    "        W1 = W1 - alpha * grad_W1\n",
    "        W2 = W2 - alpha * grad_W2\n",
    "        b1 = b1 - alpha * grad_b1\n",
    "        b2 = b2 - alpha * grad_b2\n",
    "        \n",
    "        iters += 1\n",
    "        if iters == num_iters:\n",
    "            break\n",
    "        if iters % 100 == 0:\n",
    "            alpha *= 0.66\n",
    "            \n",
    "    return W1, W2, b1, b2"
   ]
  },
  {
   "cell_type": "code",
   "execution_count": 54,
   "id": "c8e97e60",
   "metadata": {
    "scrolled": true
   },
   "outputs": [
    {
     "name": "stdout",
     "output_type": "stream",
     "text": [
      "Iters: 10 cost: 3.74320\n",
      "Iters: 20 cost: 3.42169\n",
      "Iters: 30 cost: 1.82111\n",
      "Iters: 40 cost: 2.50387\n",
      "Iters: 50 cost: 2.15783\n",
      "Iters: 60 cost: 2.46408\n",
      "Iters: 70 cost: 3.61920\n",
      "Iters: 80 cost: 3.33955\n",
      "Iters: 90 cost: 1.93015\n",
      "Iters: 100 cost: 2.50468\n",
      "Iters: 110 cost: 2.16987\n",
      "Iters: 120 cost: 2.42711\n",
      "Iters: 130 cost: 3.52821\n",
      "Iters: 140 cost: 3.28519\n",
      "Iters: 150 cost: 1.99561\n",
      "Iters: 160 cost: 2.50679\n",
      "Iters: 170 cost: 2.18157\n",
      "Iters: 180 cost: 2.40578\n",
      "Iters: 190 cost: 3.46684\n",
      "Iters: 200 cost: 3.24680\n",
      "Iters: 210 cost: 2.04454\n",
      "Iters: 220 cost: 2.50731\n",
      "Iters: 230 cost: 2.19004\n",
      "Iters: 240 cost: 2.38977\n",
      "Iters: 250 cost: 3.42597\n",
      "Iters: 260 cost: 3.22409\n",
      "Iters: 270 cost: 2.07781\n",
      "Iters: 280 cost: 2.50949\n",
      "Iters: 290 cost: 2.19755\n"
     ]
    }
   ],
   "source": [
    "N = 3\n",
    "V = len(word2idx)\n",
    "num_iters = 300\n",
    "alpha = 0.005\n",
    "batch_sizes = 1\n",
    "\n",
    "W1, W2, b1, b2 = gradient_descent(words, word2idx, N, V, num_iters, alpha, batch_sizes)"
   ]
  },
  {
   "cell_type": "markdown",
   "id": "f635c12f",
   "metadata": {},
   "source": [
    "# 3. Extracting & Visualizing word embedding vectors"
   ]
  },
  {
   "cell_type": "markdown",
   "id": "a651f489",
   "metadata": {},
   "source": [
    "### Option 1: extract embedding vectors from $\\mathbf{W_1}$"
   ]
  },
  {
   "cell_type": "code",
   "execution_count": 42,
   "id": "e009cfb0",
   "metadata": {},
   "outputs": [
    {
     "data": {
      "text/plain": [
       "(3, 14)"
      ]
     },
     "execution_count": 42,
     "metadata": {},
     "output_type": "execute_result"
    }
   ],
   "source": [
    "W1.shape"
   ]
  },
  {
   "cell_type": "code",
   "execution_count": 43,
   "id": "79487258",
   "metadata": {},
   "outputs": [
    {
     "data": {
      "text/plain": [
       "array([[ 0.35823699,  0.81111797,  0.62204948,  0.55474604,  0.093614  ,\n",
       "         0.14006133,  0.02751992,  0.86617615,  0.45088549,  0.67479332,\n",
       "        -0.04288852,  0.95397666,  0.78594575,  0.19603598],\n",
       "       [ 0.1469974 ,  0.12717735,  0.20916759,  0.47494509,  0.38213368,\n",
       "         0.25454733,  0.52801501,  0.13949386,  0.24233331,  0.26032334,\n",
       "         0.33447635,  0.74849415,  0.09947974,  0.46924404],\n",
       "       [ 0.59241457, -0.17612817,  0.53929132,  0.07106464,  0.01452948,\n",
       "         0.90597545,  0.87223225,  0.71470175,  0.13500447,  0.03893893,\n",
       "         0.66646918,  0.34672029,  0.12200581,  0.45229924]])"
      ]
     },
     "execution_count": 43,
     "metadata": {},
     "output_type": "execute_result"
    }
   ],
   "source": [
    "W1"
   ]
  },
  {
   "cell_type": "markdown",
   "id": "ad99a362",
   "metadata": {},
   "source": [
    "The first column, which is a 3-element vector, is the embedding vector of the first word of your vocabulary. The second column is the word embedding vector for the second word, and so on.\n",
    "\n",
    "The first, second, etc. words are ordered as follows."
   ]
  },
  {
   "cell_type": "code",
   "execution_count": 44,
   "id": "c071d7a5",
   "metadata": {},
   "outputs": [
    {
     "name": "stdout",
     "output_type": "stream",
     "text": [
      ".:  [0.35823699 0.1469974  0.59241457]\n",
      "am:  [ 0.81111797  0.12717735 -0.17612817]\n",
      "bags:  [0.62204948 0.20916759 0.53929132]\n",
      "because:  [0.55474604 0.47494509 0.07106464]\n",
      "continuous:  [0.093614   0.38213368 0.01452948]\n",
      "embeddings:  [0.14006133 0.25454733 0.90597545]\n",
      "for:  [0.02751992 0.52801501 0.87223225]\n",
      "happy:  [0.86617615 0.13949386 0.71470175]\n",
      "i:  [0.45088549 0.24233331 0.13500447]\n",
      "learning:  [0.67479332 0.26032334 0.03893893]\n",
      "of:  [-0.04288852  0.33447635  0.66646918]\n",
      "word:  [0.95397666 0.74849415 0.34672029]\n",
      "words:  [0.78594575 0.09947974 0.12200581]\n",
      "❤️:  [0.19603598 0.46924404 0.45229924]\n"
     ]
    }
   ],
   "source": [
    "for word in word2idx:\n",
    "    word_embedding_vector = W1[:, word2idx[word]]\n",
    "    print('{}:  {}'.format(word, word_embedding_vector))"
   ]
  },
  {
   "cell_type": "markdown",
   "id": "d69ada44",
   "metadata": {},
   "source": [
    "### Option 2: extract embedding vectors from $\\mathbf{W_2}$"
   ]
  },
  {
   "cell_type": "code",
   "execution_count": 45,
   "id": "1d595e4c",
   "metadata": {},
   "outputs": [
    {
     "data": {
      "text/plain": [
       "array([[0.58460309, 0.52428305, 0.69272777, 0.7390903 , 0.24353792,\n",
       "        0.33364289, 0.35743014, 0.17793871, 1.07275855, 0.01823155,\n",
       "        0.69494977, 0.36500688, 0.60653938, 0.26802545],\n",
       "       [0.03906269, 0.18285712, 0.88338516, 0.9133034 , 0.11912604,\n",
       "        0.27286691, 0.37479276, 0.72287055, 0.71118474, 0.7569315 ,\n",
       "        0.85347309, 0.31126915, 0.58444013, 0.16301025],\n",
       "       [0.45131499, 0.89581294, 0.81576306, 0.07516084, 0.34580297,\n",
       "        0.87209223, 0.6115451 , 0.01569921, 0.15053863, 0.65005238,\n",
       "        0.11076281, 0.97617082, 0.22034696, 0.68910976]])"
      ]
     },
     "execution_count": 45,
     "metadata": {},
     "output_type": "execute_result"
    }
   ],
   "source": [
    "W2.T"
   ]
  },
  {
   "cell_type": "code",
   "execution_count": 46,
   "id": "f78d2d87",
   "metadata": {},
   "outputs": [
    {
     "name": "stdout",
     "output_type": "stream",
     "text": [
      ".:  [0.58460309 0.03906269 0.45131499]\n",
      "am:  [0.52428305 0.18285712 0.89581294]\n",
      "bags:  [0.69272777 0.88338516 0.81576306]\n",
      "because:  [0.7390903  0.9133034  0.07516084]\n",
      "continuous:  [0.24353792 0.11912604 0.34580297]\n",
      "embeddings:  [0.33364289 0.27286691 0.87209223]\n",
      "for:  [0.35743014 0.37479276 0.6115451 ]\n",
      "happy:  [0.17793871 0.72287055 0.01569921]\n",
      "i:  [1.07275855 0.71118474 0.15053863]\n",
      "learning:  [0.01823155 0.7569315  0.65005238]\n",
      "of:  [0.69494977 0.85347309 0.11076281]\n",
      "word:  [0.36500688 0.31126915 0.97617082]\n",
      "words:  [0.60653938 0.58444013 0.22034696]\n",
      "❤️:  [0.26802545 0.16301025 0.68910976]\n"
     ]
    }
   ],
   "source": [
    "for word in word2idx:\n",
    "    word_embedding_vector = W2.T[:, word2idx[word]]\n",
    "    print('{}:  {}'.format(word, word_embedding_vector))"
   ]
  },
  {
   "cell_type": "markdown",
   "id": "4f972eb8",
   "metadata": {},
   "source": [
    "### Option 3: extract embedding vectors from $\\mathbf{W_1}$ and $\\mathbf{W_2}$"
   ]
  },
  {
   "cell_type": "markdown",
   "id": "3334a01d",
   "metadata": {},
   "source": [
    "**Calculate the average of $\\mathbf{W_1}$ and $\\mathbf{W_2^\\top}$, and store the result in `W3`.**"
   ]
  },
  {
   "cell_type": "code",
   "execution_count": 47,
   "id": "84602c0d",
   "metadata": {},
   "outputs": [
    {
     "data": {
      "text/plain": [
       "array([[0.47142004, 0.66770051, 0.65738863, 0.64691817, 0.16857596,\n",
       "        0.23685211, 0.19247503, 0.52205743, 0.76182202, 0.34651243,\n",
       "        0.32603063, 0.65949177, 0.69624257, 0.23203072],\n",
       "       [0.09303004, 0.15501723, 0.54627638, 0.69412425, 0.25062986,\n",
       "        0.26370712, 0.45140388, 0.4311822 , 0.47675902, 0.50862742,\n",
       "        0.59397472, 0.52988165, 0.34195993, 0.31612715],\n",
       "       [0.52186478, 0.35984238, 0.67752719, 0.07311274, 0.18016623,\n",
       "        0.88903384, 0.74188868, 0.36520048, 0.14277155, 0.34449566,\n",
       "        0.388616  , 0.66144556, 0.17117638, 0.5707045 ]])"
      ]
     },
     "execution_count": 47,
     "metadata": {},
     "output_type": "execute_result"
    }
   ],
   "source": [
    "W3 = (W1+W2.T)/2\n",
    "\n",
    "W3"
   ]
  },
  {
   "cell_type": "code",
   "execution_count": 48,
   "id": "636471f0",
   "metadata": {},
   "outputs": [
    {
     "name": "stdout",
     "output_type": "stream",
     "text": [
      ".:  [0.47142004 0.09303004 0.52186478]\n",
      "am:  [0.66770051 0.15501723 0.35984238]\n",
      "bags:  [0.65738863 0.54627638 0.67752719]\n",
      "because:  [0.64691817 0.69412425 0.07311274]\n",
      "continuous:  [0.16857596 0.25062986 0.18016623]\n",
      "embeddings:  [0.23685211 0.26370712 0.88903384]\n",
      "for:  [0.19247503 0.45140388 0.74188868]\n",
      "happy:  [0.52205743 0.4311822  0.36520048]\n",
      "i:  [0.76182202 0.47675902 0.14277155]\n",
      "learning:  [0.34651243 0.50862742 0.34449566]\n",
      "of:  [0.32603063 0.59397472 0.388616  ]\n",
      "word:  [0.65949177 0.52988165 0.66144556]\n",
      "words:  [0.69624257 0.34195993 0.17117638]\n",
      "❤️:  [0.23203072 0.31612715 0.5707045 ]\n"
     ]
    }
   ],
   "source": [
    "for word in word2idx:\n",
    "    word_embedding_vector = W3[:, word2idx[word]]\n",
    "    print('{}:  {}'.format(word, word_embedding_vector))"
   ]
  },
  {
   "cell_type": "markdown",
   "id": "0b8eb6a9",
   "metadata": {},
   "source": [
    "### Visualizing the Word Vectors"
   ]
  },
  {
   "cell_type": "code",
   "execution_count": 102,
   "id": "60a39782",
   "metadata": {},
   "outputs": [],
   "source": [
    "embs = (W1 + W2.T) / 2\n",
    "\n",
    "idx = [word2idx[word] for word in list(word2idx.keys())]\n",
    "\n",
    "X_embs = embs[:, idx]"
   ]
  },
  {
   "cell_type": "code",
   "execution_count": 103,
   "id": "1bf5d241",
   "metadata": {},
   "outputs": [
    {
     "data": {
      "text/plain": [
       "array([[0.50026389, 0.73237978, 0.72261586, 0.61131672, 0.18367182,\n",
       "        0.26445127, 0.20926378, 0.50941963, 0.7851466 , 0.3551036 ,\n",
       "        0.36558592, 0.66958038, 0.72729761, 0.2513787 ],\n",
       "       [0.20434964, 0.17555037, 0.57708119, 0.72174868, 0.25774475,\n",
       "        0.27841744, 0.45457633, 0.46752984, 0.51441204, 0.57327027,\n",
       "        0.60912028, 0.47592509, 0.29129648, 0.39282984],\n",
       "       [0.53830812, 0.47594713, 0.72205272, 0.12233018, 0.20085814,\n",
       "        0.89130389, 0.7585265 , 0.42491055, 0.22855273, 0.38817039,\n",
       "        0.38403321, 0.66434179, 0.12021671, 0.59753938]])"
      ]
     },
     "execution_count": 103,
     "metadata": {},
     "output_type": "execute_result"
    }
   ],
   "source": [
    "X_embs"
   ]
  },
  {
   "cell_type": "code",
   "execution_count": 81,
   "id": "afe5c67d",
   "metadata": {},
   "outputs": [
    {
     "data": {
      "text/plain": [
       "(3, 14)"
      ]
     },
     "execution_count": 81,
     "metadata": {},
     "output_type": "execute_result"
    }
   ],
   "source": [
    "X_embs.shape"
   ]
  },
  {
   "cell_type": "code",
   "execution_count": 108,
   "id": "522d2c6d",
   "metadata": {},
   "outputs": [],
   "source": [
    "from sklearn.decomposition import PCA\n",
    "\n",
    "pca = PCA(n_components=2)\n",
    "pca.fit(X_embs.T)\n",
    "\n",
    "X_reduced = pca.transform(X_embs.T)"
   ]
  },
  {
   "cell_type": "code",
   "execution_count": 109,
   "id": "69bc3603",
   "metadata": {},
   "outputs": [
    {
     "data": {
      "text/plain": [
       "(14, 2)"
      ]
     },
     "execution_count": 109,
     "metadata": {},
     "output_type": "execute_result"
    }
   ],
   "source": [
    "X_reduced.shape"
   ]
  },
  {
   "cell_type": "code",
   "execution_count": 113,
   "id": "6c9e039d",
   "metadata": {
    "scrolled": false
   },
   "outputs": [
    {
     "data": {
      "image/png": "[encoded data removed]",
      "text/plain": [
       "<Figure size 1000x600 with 1 Axes>"
      ]
     },
     "metadata": {},
     "output_type": "display_data"
    }
   ],
   "source": [
    "plt.figure(figsize=(10, 6))\n",
    "plt.scatter(X_reduced[:, 0], X_reduced[:, 1])\n",
    "for i, word in idx2word.items():\n",
    "    plt.annotate(word, xy=(X_reduced[i, 0], X_reduced[i, 1]))\n",
    "plt.show()"
   ]
  },
  {
   "cell_type": "code",
   "execution_count": null,
   "id": "3e99f58b",
   "metadata": {},
   "outputs": [],
   "source": []
  },
  {
   "cell_type": "code",
   "execution_count": null,
   "id": "ded3f1b0",
   "metadata": {},
   "outputs": [],
   "source": []
  }
 ],
 "metadata": {
  "kernelspec": {
   "display_name": "Python 3 (ipykernel)",
   "language": "python",
   "name": "python3"
  },
  "language_info": {
   "codemirror_mode": {
    "name": "ipython",
    "version": 3
   },
   "file_extension": ".py",
   "mimetype": "text/x-python",
   "name": "python",
   "nbconvert_exporter": "python",
   "pygments_lexer": "ipython3",
   "version": "3.7.9"
  }
 },
 "nbformat": 4,
 "nbformat_minor": 5
}
