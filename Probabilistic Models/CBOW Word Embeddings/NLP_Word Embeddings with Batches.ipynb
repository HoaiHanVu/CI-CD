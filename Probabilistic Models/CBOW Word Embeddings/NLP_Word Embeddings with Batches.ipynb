{
 "cells": [
  {
   "cell_type": "code",
   "execution_count": 1,
   "id": "bd1d1bb1",
   "metadata": {},
   "outputs": [
    {
     "name": "stderr",
     "output_type": "stream",
     "text": [
      "[nltk_data] Downloading package punkt to /Users/vuhan/nltk_data...\n",
      "[nltk_data]   Package punkt is already up-to-date!\n"
     ]
    }
   ],
   "source": [
    "import numpy as np\n",
    "import pandas as pd\n",
    "import matplotlib.pyplot as plt\n",
    "import re\n",
    "import emoji\n",
    "import nltk\n",
    "nltk.download('punkt')\n",
    "from nltk.tokenize import word_tokenize\n",
    "from scipy import linalg\n",
    "from collections import defaultdict\n",
    "import util_functions as fc\n",
    "import warnings\n",
    "warnings.filterwarnings('ignore')"
   ]
  },
  {
   "cell_type": "code",
   "execution_count": 2,
   "id": "eb078926",
   "metadata": {},
   "outputs": [],
   "source": [
    "with open(\"data/shakespeare.txt\") as file:\n",
    "    corpus = file.read()"
   ]
  },
  {
   "cell_type": "code",
   "execution_count": 3,
   "id": "da54ef91",
   "metadata": {},
   "outputs": [],
   "source": [
    "data = fc.tokenize(corpus)"
   ]
  },
  {
   "cell_type": "code",
   "execution_count": 4,
   "id": "859bbcc5",
   "metadata": {},
   "outputs": [],
   "source": [
    "word2idx, idx2word = fc.get_dict(data)"
   ]
  },
  {
   "cell_type": "code",
   "execution_count": 5,
   "id": "eb2cfe03",
   "metadata": {},
   "outputs": [
    {
     "data": {
      "text/plain": [
       "5775"
      ]
     },
     "execution_count": 5,
     "metadata": {},
     "output_type": "execute_result"
    }
   ],
   "source": [
    "len(word2idx)"
   ]
  },
  {
   "cell_type": "code",
   "execution_count": 6,
   "id": "39cdc08b",
   "metadata": {},
   "outputs": [],
   "source": [
    "def gradient_descent(data, word2idx, N, V, num_iters, alpha, batch_sizes, random_seed=42, tune_alpha=True):\n",
    "    \n",
    "    W1, W2, b1, b2 = fc.initialize_model(N, V, random_seed=random_seed)\n",
    "    batch_size = batch_sizes\n",
    "    \n",
    "    iters = 0\n",
    "    C = 2\n",
    "    \n",
    "    for x, y in fc.get_batches(data, word2idx, V, C, batch_size):\n",
    "        z, h = fc.forward_prop(x, W1, W2, b1, b2)\n",
    "        \n",
    "        yhat = fc.softmax(z)\n",
    "        \n",
    "        cost = fc.compute_cost(y, yhat, batch_size)\n",
    "        if iters % 10 == 0 and iters != 0:\n",
    "            print('Iters: {} cost: {:.5f}'.format(iters, cost))\n",
    "            \n",
    "        grad_W1, grad_W2, grad_b1, grad_b2 = fc.back_prop(x, yhat, y, h, W1, W2, b1, b2, batch_size)\n",
    "        \n",
    "        W1 = W1 - alpha * grad_W1\n",
    "        W2 = W2 - alpha * grad_W2\n",
    "        b1 = b1 - alpha * grad_b1\n",
    "        b2 = b2 - alpha * grad_b2\n",
    "        \n",
    "        iters += 1\n",
    "        if iters == num_iters:\n",
    "            break\n",
    "        if tune_alpha == True:\n",
    "            if iters % 100 == 0:\n",
    "                alpha *= 0.66\n",
    "            \n",
    "    return W1, W2, b1, b2"
   ]
  },
  {
   "cell_type": "code",
   "execution_count": 10,
   "id": "b96ba80e",
   "metadata": {},
   "outputs": [
    {
     "name": "stdout",
     "output_type": "stream",
     "text": [
      "Iters: 10 cost: 6.72384\n",
      "Iters: 20 cost: 9.24231\n",
      "Iters: 30 cost: 3.43825\n",
      "Iters: 40 cost: 12.24187\n",
      "Iters: 50 cost: 2.72409\n",
      "Iters: 60 cost: 7.97506\n",
      "Iters: 70 cost: 8.49503\n",
      "Iters: 80 cost: 9.27582\n",
      "Iters: 90 cost: 10.74186\n",
      "Iters: 100 cost: 4.24142\n",
      "Iters: 110 cost: 9.27689\n",
      "Iters: 120 cost: 9.32789\n",
      "Iters: 130 cost: 10.70262\n",
      "Iters: 140 cost: 7.04654\n"
     ]
    }
   ],
   "source": [
    "N = 50\n",
    "V = len(word2idx)\n",
    "num_iters = 150\n",
    "alpha = 0.03\n",
    "batch_sizes = 128\n",
    "\n",
    "W1, W2, b1, b2  = gradient_descent(data, word2idx, N, V, num_iters, alpha, batch_sizes)"
   ]
  },
  {
   "cell_type": "code",
   "execution_count": 11,
   "id": "d6cd40e7",
   "metadata": {},
   "outputs": [],
   "source": [
    "words = ['king', 'queen','lord','man', 'woman','dog','wolf',\n",
    "         'rich','happy','sad']\n",
    "\n",
    "embs = (W1 + W2.T) / 2\n",
    "\n",
    "idx = [word2idx[word] for word in words]\n",
    "\n",
    "X_embs = embs[:, idx]"
   ]
  },
  {
   "cell_type": "code",
   "execution_count": 12,
   "id": "4451804f",
   "metadata": {},
   "outputs": [
    {
     "data": {
      "text/plain": [
       "(50, 10)"
      ]
     },
     "execution_count": 12,
     "metadata": {},
     "output_type": "execute_result"
    }
   ],
   "source": [
    "X_embs.shape"
   ]
  },
  {
   "cell_type": "code",
   "execution_count": 13,
   "id": "3cfbe45b",
   "metadata": {},
   "outputs": [
    {
     "data": {
      "text/plain": [
       "(10, 2)"
      ]
     },
     "execution_count": 13,
     "metadata": {},
     "output_type": "execute_result"
    }
   ],
   "source": [
    "from sklearn.decomposition import PCA\n",
    "\n",
    "pca = PCA(n_components=2)\n",
    "pca.fit(X_embs.T)\n",
    "\n",
    "X_reduced = pca.transform(X_embs.T)\n",
    "\n",
    "X_reduced.shape"
   ]
  },
  {
   "cell_type": "code",
   "execution_count": 14,
   "id": "537b302c",
   "metadata": {},
   "outputs": [
    {
     "data": {
      "image/png": "[encoded data removed]",
      "text/plain": [
       "<Figure size 1000x600 with 1 Axes>"
      ]
     },
     "metadata": {},
     "output_type": "display_data"
    }
   ],
   "source": [
    "plt.figure(figsize=(10, 6))\n",
    "plt.scatter(X_reduced[:, 0], X_reduced[:, 1])\n",
    "for i, word in enumerate(words):\n",
    "    plt.annotate(word, xy=(X_reduced[i, 0], X_reduced[i, 1]))\n",
    "plt.show()"
   ]
  },
  {
   "cell_type": "code",
   "execution_count": null,
   "id": "9bff93dc",
   "metadata": {},
   "outputs": [],
   "source": []
  }
 ],
 "metadata": {
  "kernelspec": {
   "display_name": "Python 3 (ipykernel)",
   "language": "python",
   "name": "python3"
  },
  "language_info": {
   "codemirror_mode": {
    "name": "ipython",
    "version": 3
   },
   "file_extension": ".py",
   "mimetype": "text/x-python",
   "name": "python",
   "nbconvert_exporter": "python",
   "pygments_lexer": "ipython3",
   "version": "3.7.9"
  }
 },
 "nbformat": 4,
 "nbformat_minor": 5
}
