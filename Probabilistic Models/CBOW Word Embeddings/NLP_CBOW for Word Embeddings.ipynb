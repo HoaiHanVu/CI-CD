{
 "cells": [
  {
   "cell_type": "code",
   "execution_count": 1,
   "id": "06108a12",
   "metadata": {},
   "outputs": [
    {
     "name": "stderr",
     "output_type": "stream",
     "text": [
      "[nltk_data] Downloading package punkt to /Users/vuhan/nltk_data...\n",
      "[nltk_data]   Package punkt is already up-to-date!\n"
     ]
    }
   ],
   "source": [
    "import numpy as np\n",
    "import pandas as pd\n",
    "import matplotlib.pyplot as plt\n",
    "import re\n",
    "import emoji\n",
    "import nltk\n",
    "nltk.download('punkt')\n",
    "from nltk.tokenize import word_tokenize\n",
    "from scipy import linalg\n",
    "from collections import defaultdict\n",
    "import warnings\n",
    "warnings.filterwarnings('ignore')"
   ]
  },
  {
   "cell_type": "markdown",
   "id": "05da6de9",
   "metadata": {},
   "source": [
    "# 1. Data Preparation"
   ]
  },
  {
   "cell_type": "markdown",
   "id": "61d07a01",
   "metadata": {},
   "source": [
    "- Clean and tokenize the corpus.\n",
    "\n",
    "- Extract the pairs of context words and center word that will make up the training data set for the CBOW model. The context words are the features that will be fed into the model, and the center words are the target values that the model will learn to predict.\n",
    "\n",
    "- Create simple vector representations of the context words (features) and center words (targets) that can be used by the neural network of the CBOW model."
   ]
  },
  {
   "cell_type": "markdown",
   "id": "ec442ade",
   "metadata": {},
   "source": [
    "## 1.1 Cleaning and Tokenization"
   ]
  },
  {
   "cell_type": "markdown",
   "id": "a724503a",
   "metadata": {},
   "source": [
    "First, replace all interrupting punctuation signs — such as commas and exclamation marks — with periods.\n",
    "\n",
    "Next, use NLTK's tokenization engine to split the corpus into individual tokens.\n",
    "\n",
    "Finally, get rid of numbers and punctuation other than periods, and convert all the remaining tokens to lowercase."
   ]
  },
  {
   "cell_type": "code",
   "execution_count": 2,
   "id": "e84e3fd6",
   "metadata": {},
   "outputs": [],
   "source": [
    "def tokenize(corpus):\n",
    "    data = re.sub(r'[,!?;-]+', '.', corpus)\n",
    "    data = nltk.word_tokenize(data)\n",
    "    data = [char.lower() for char in data\n",
    "           if char.isalpha()\n",
    "           or char == '.'\n",
    "           or emoji.get_emoji_regexp().search(char)\n",
    "           ]\n",
    "    return data"
   ]
  },
  {
   "cell_type": "code",
   "execution_count": 3,
   "id": "9f91efce",
   "metadata": {},
   "outputs": [
    {
     "data": {
      "text/plain": [
       "['i',\n",
       " 'am',\n",
       " 'happy',\n",
       " 'because',\n",
       " 'i',\n",
       " 'am',\n",
       " 'learning',\n",
       " 'continuous',\n",
       " 'bags',\n",
       " 'of',\n",
       " 'word',\n",
       " 'for',\n",
       " 'words',\n",
       " 'embeddings',\n",
       " '❤️',\n",
       " '.']"
      ]
     },
     "execution_count": 3,
     "metadata": {},
     "output_type": "execute_result"
    }
   ],
   "source": [
    "corpus = 'I am happy because I am learning continuous bags of word for words embeddings ❤️!!!'\n",
    "\n",
    "words = tokenize(corpus)\n",
    "words"
   ]
  },
  {
   "cell_type": "markdown",
   "id": "b2e8c202",
   "metadata": {},
   "source": [
    "## 1.2 Slicing window of words"
   ]
  },
  {
   "cell_type": "markdown",
   "id": "e99bd587",
   "metadata": {},
   "source": [
    "Now that we have transformed the corpus into a list of clean tokens, we can slide a window of words across this list. For each window we can extract a center word and the context words.\n",
    "\n",
    "The first argument of this function is a list of words (or tokens). The second argument, `C`, is the context half-size. Recall that for a given center word, the context words are made of `C` words to the left and `C` words to the right of the center word."
   ]
  },
  {
   "cell_type": "code",
   "execution_count": 4,
   "id": "6daea7fb",
   "metadata": {},
   "outputs": [],
   "source": [
    "def get_windows(words, C):\n",
    "    i = C\n",
    "    while i < len(words) - C:\n",
    "        center_word = words[i]\n",
    "        context_words = words[i-C:i] + words[i+1:i+C+1]\n",
    "        yield context_words, center_word\n",
    "        i += 1"
   ]
  },
  {
   "cell_type": "code",
   "execution_count": 5,
   "id": "08c1f8e7",
   "metadata": {},
   "outputs": [
    {
     "name": "stdout",
     "output_type": "stream",
     "text": [
      "['i', 'happy'] am\n",
      "['am', 'because'] happy\n",
      "['happy', 'i'] because\n",
      "['because', 'am'] i\n",
      "['i', 'learning'] am\n",
      "['am', 'continuous'] learning\n",
      "['learning', 'bags'] continuous\n",
      "['continuous', 'of'] bags\n",
      "['bags', 'word'] of\n",
      "['of', 'for'] word\n",
      "['word', 'words'] for\n",
      "['for', 'embeddings'] words\n",
      "['words', '❤️'] embeddings\n",
      "['embeddings', '.'] ❤️\n"
     ]
    }
   ],
   "source": [
    "for x, y in get_windows(tokenize(corpus), 1):\n",
    "    print(x, y)"
   ]
  },
  {
   "cell_type": "markdown",
   "id": "5488948a",
   "metadata": {},
   "source": [
    "## 1.3 Transforming word into vectors for training set"
   ]
  },
  {
   "cell_type": "markdown",
   "id": "8e3e41ae",
   "metadata": {},
   "source": [
    "### 1.3.1 Mapping words to indices and indices to words"
   ]
  },
  {
   "cell_type": "markdown",
   "id": "d16dc7da",
   "metadata": {},
   "source": [
    "The center words will be represented as one-hot vectors, and the vectors that represent context words are also based on one-hot vectors.\n",
    "\n",
    "To create one-hot word vectors, we can start by mapping each unique word to a unique integer (or index)."
   ]
  },
  {
   "cell_type": "code",
   "execution_count": 6,
   "id": "e6d95f3d",
   "metadata": {},
   "outputs": [],
   "source": [
    "def get_dict(data):\n",
    "    \"\"\"\n",
    "    Input:\n",
    "        data: the data want to pull from\n",
    "    Output:\n",
    "        word2idx: returns dictionary mapping the word to its index\n",
    "        idx2word: returns dictionary mapping the index to its word\n",
    "    \"\"\"\n",
    "    words = sorted(list(set(data)))\n",
    "    n = len(words)\n",
    "    idx = 0\n",
    "    word2idx = {}\n",
    "    idx2word = {}\n",
    "    for k in words:\n",
    "        word2idx[k] = idx\n",
    "        idx2word[idx] = k\n",
    "        idx += 1\n",
    "    return word2idx, idx2word"
   ]
  },
  {
   "cell_type": "code",
   "execution_count": 7,
   "id": "a5d6835b",
   "metadata": {},
   "outputs": [
    {
     "name": "stdout",
     "output_type": "stream",
     "text": [
      "{'.': 0, 'am': 1, 'bags': 2, 'because': 3, 'continuous': 4, 'embeddings': 5, 'for': 6, 'happy': 7, 'i': 8, 'learning': 9, 'of': 10, 'word': 11, 'words': 12, '❤️': 13}\n",
      "\n",
      "{0: '.', 1: 'am', 2: 'bags', 3: 'because', 4: 'continuous', 5: 'embeddings', 6: 'for', 7: 'happy', 8: 'i', 9: 'learning', 10: 'of', 11: 'word', 12: 'words', 13: '❤️'}\n"
     ]
    }
   ],
   "source": [
    "word2idx, idx2word = get_dict(words)\n",
    "\n",
    "print(word2idx)\n",
    "print()\n",
    "print(idx2word)"
   ]
  },
  {
   "cell_type": "markdown",
   "id": "1df4b9e1",
   "metadata": {},
   "source": [
    "### 1.3.2 Getting one-hot vectors"
   ]
  },
  {
   "cell_type": "code",
   "execution_count": 8,
   "id": "83648521",
   "metadata": {},
   "outputs": [],
   "source": [
    "def word_to_one_hot_vector(word, word2idx, V):\n",
    "    \"\"\"\n",
    "    Input:\n",
    "        word: the letter of corpus want to transform into one hot vector\n",
    "        word2idx: dictionary with key is word and value is index of word in string\n",
    "        V: size of vocabulary\n",
    "    Output:\n",
    "        one_hot_vector: a vector one hot of word\n",
    "    \"\"\"\n",
    "    one_hot_vector = np.zeros(V)\n",
    "    one_hot_vector[word2idx[word]] = 1\n",
    "    \n",
    "    return one_hot_vector"
   ]
  },
  {
   "cell_type": "code",
   "execution_count": 9,
   "id": "d0518a2d",
   "metadata": {},
   "outputs": [
    {
     "data": {
      "text/plain": [
       "array([0., 0., 0., 0., 0., 0., 0., 0., 0., 0., 0., 1., 0., 0.])"
      ]
     },
     "execution_count": 9,
     "metadata": {},
     "output_type": "execute_result"
    }
   ],
   "source": [
    "word_to_one_hot_vector('word', word2idx, len(word2idx))"
   ]
  },
  {
   "cell_type": "markdown",
   "id": "f0b72619",
   "metadata": {},
   "source": [
    "### 1.3.3 Getting context words vectors"
   ]
  },
  {
   "cell_type": "markdown",
   "id": "fc3b9727",
   "metadata": {},
   "source": [
    "To create the vectors that represent context words, we will calculate the average of the one-hot vectors representing the individual words."
   ]
  },
  {
   "cell_type": "code",
   "execution_count": 10,
   "id": "67bcaf7f",
   "metadata": {},
   "outputs": [],
   "source": [
    "def context_words_to_vector(context_words, word2idx, V):\n",
    "    \"\"\"\n",
    "    Input:\n",
    "        context_words: list of context words\n",
    "        word2idx: dictionary with key is word and value is index of word in string\n",
    "        V: size of vocabulary\n",
    "    Output:\n",
    "        context_words_vector: vectors of all context words\n",
    "    \"\"\"\n",
    "    context_words_vectors = [word_to_one_hot_vector(w, word2idx, V) for w in context_words]\n",
    "    context_words_vectors = np.mean(context_words_vectors, axis=0)\n",
    "    \n",
    "    return context_words_vectors"
   ]
  },
  {
   "cell_type": "code",
   "execution_count": 11,
   "id": "dbe76e05",
   "metadata": {},
   "outputs": [
    {
     "data": {
      "text/plain": [
       "array([0. , 0.5, 0. , 0. , 0.5, 0. , 0. , 0. , 0. , 0. , 0. , 0. , 0. ,\n",
       "       0. ])"
      ]
     },
     "execution_count": 11,
     "metadata": {},
     "output_type": "execute_result"
    }
   ],
   "source": [
    "context_words_to_vector(['am', 'continuous'], word2idx, len(word2idx))"
   ]
  },
  {
   "cell_type": "markdown",
   "id": "8685f326",
   "metadata": {},
   "source": [
    "## 1.4 Building the training set"
   ]
  },
  {
   "cell_type": "markdown",
   "id": "ebf1e0f9",
   "metadata": {},
   "source": [
    "To do this we need to use the sliding window function (`get_windows`) to extract the context words and center words, and we then convert these sets of words into a basic vector representation using `word_to_one_hot_vector` and `context_words_to_vector`."
   ]
  },
  {
   "cell_type": "code",
   "execution_count": 12,
   "id": "bdf8c7e3",
   "metadata": {},
   "outputs": [],
   "source": [
    "def get_training_example(words, C, word2idx, V):\n",
    "    for context_words, center_word in get_windows(words, C):\n",
    "        yield context_words_to_vector(context_words, word2idx, V),\\\n",
    "              word_to_one_hot_vector(center_word, word2idx, V)"
   ]
  },
  {
   "cell_type": "code",
   "execution_count": 13,
   "id": "e9881506",
   "metadata": {
    "scrolled": false
   },
   "outputs": [
    {
     "name": "stdout",
     "output_type": "stream",
     "text": [
      "Context words vector:  [0.   0.25 0.   0.25 0.   0.   0.   0.   0.5  0.   0.   0.   0.   0.  ]\n",
      "Center word vector:  [0. 0. 0. 0. 0. 0. 0. 1. 0. 0. 0. 0. 0. 0.]\n",
      "\n",
      "Context words vector:  [0.   0.5  0.   0.   0.   0.   0.   0.25 0.25 0.   0.   0.   0.   0.  ]\n",
      "Center word vector:  [0. 0. 0. 1. 0. 0. 0. 0. 0. 0. 0. 0. 0. 0.]\n",
      "\n",
      "Context words vector:  [0.   0.25 0.   0.25 0.   0.   0.   0.25 0.   0.25 0.   0.   0.   0.  ]\n",
      "Center word vector:  [0. 0. 0. 0. 0. 0. 0. 0. 1. 0. 0. 0. 0. 0.]\n",
      "\n",
      "Context words vector:  [0.   0.   0.   0.25 0.25 0.   0.   0.   0.25 0.25 0.   0.   0.   0.  ]\n",
      "Center word vector:  [0. 1. 0. 0. 0. 0. 0. 0. 0. 0. 0. 0. 0. 0.]\n",
      "\n"
     ]
    }
   ],
   "source": [
    "V = len(word2idx)\n",
    "for context_words_vector, center_word_vector in get_training_example(words[:8], 2, word2idx, V):\n",
    "    print(f'Context words vector:  {context_words_vector}')\n",
    "    print(f'Center word vector:  {center_word_vector}')\n",
    "    print()"
   ]
  },
  {
   "cell_type": "markdown",
   "id": "cc6498a5",
   "metadata": {},
   "source": [
    "## 1.5 Deviding training set into batches"
   ]
  },
  {
   "cell_type": "code",
   "execution_count": 14,
   "id": "32abec09",
   "metadata": {},
   "outputs": [],
   "source": [
    "def get_idx(words, word2idx):\n",
    "    idx = []\n",
    "    for word in words:\n",
    "        idx = idx + [word2idx[word]]\n",
    "    return idx\n",
    "\n",
    "def pack_idx_with_frequency(context_words, word2idx):\n",
    "    freq_dict = defaultdict(int)\n",
    "    for word in context_words:\n",
    "        freq_dict[word] += 1\n",
    "    idxs = get_idx(context_words, word2idx)\n",
    "    packed = []\n",
    "    for i in range(len(idxs)):\n",
    "        idx = idxs[i]\n",
    "        freq = freq_dict[context_words[i]]\n",
    "        packed.append((idx, freq))\n",
    "    return packed"
   ]
  },
  {
   "cell_type": "code",
   "execution_count": 15,
   "id": "61ba718f",
   "metadata": {},
   "outputs": [],
   "source": [
    "def get_vectors(data, word2idx, V, C):\n",
    "    i = C\n",
    "    while True:\n",
    "        y = np.zeros(V)\n",
    "        x = np.zeros(V)\n",
    "        center_word = data[i]\n",
    "        y[word2idx[center_word]] = 1\n",
    "        context_words = data[(i - C) : i] + data[(i + 1) : (i + C + 1)]\n",
    "        num_ctx_words = len(context_words)\n",
    "        for idx, freq in pack_idx_with_frequency(context_words, word2idx):\n",
    "            x[idx] = freq / num_ctx_words\n",
    "        yield x, y\n",
    "        i += 1\n",
    "        if i >= len(data) - C:\n",
    "#             print(\"i is being set to\", C)\n",
    "            i = C"
   ]
  },
  {
   "cell_type": "code",
   "execution_count": 16,
   "id": "06d3414e",
   "metadata": {},
   "outputs": [],
   "source": [
    "def get_batches(data, word2idx, V, C, batch_size):\n",
    "    batch_x = []\n",
    "    batch_y = []\n",
    "    for x, y in get_vectors(data, word2idx, V, C):\n",
    "        while len(batch_x) < batch_size:\n",
    "            batch_x.append(x)\n",
    "            batch_y.append(y)\n",
    "        else:\n",
    "            yield np.array(batch_x).T, np.array(batch_y).T\n",
    "            batch_x = []\n",
    "            batch_y = []"
   ]
  },
  {
   "cell_type": "markdown",
   "id": "33a99e1c",
   "metadata": {},
   "source": [
    "# 2. The shallow neurals network for continuous bag-of-words model"
   ]
  },
  {
   "cell_type": "markdown",
   "id": "6e934b92",
   "metadata": {},
   "source": [
    "## 2.1 Activation functions"
   ]
  },
  {
   "cell_type": "markdown",
   "id": "fe1d3d63",
   "metadata": {},
   "source": [
    "### ReLU"
   ]
  },
  {
   "cell_type": "markdown",
   "id": "f6272fe0",
   "metadata": {},
   "source": [
    "ReLU is used to calculate the values of the hidden layer, in the following formulas:\n",
    "\n",
    "\\begin{align}\n",
    " \\mathbf{z_1} &= \\mathbf{W_1}\\mathbf{x} + \\mathbf{b_1}  \\ \\\\\n",
    " \\mathbf{h} &= \\mathrm{ReLU}(\\mathbf{z_1})  \\ \\\\\n",
    "\\end{align}\n",
    "\n"
   ]
  },
  {
   "cell_type": "code",
   "execution_count": 17,
   "id": "8b7d7411",
   "metadata": {},
   "outputs": [],
   "source": [
    "def relu(z):\n",
    "    return np.maximum(0, z)"
   ]
  },
  {
   "cell_type": "code",
   "execution_count": 18,
   "id": "b98b8f4d",
   "metadata": {},
   "outputs": [
    {
     "data": {
      "text/plain": [
       "array([[-1.25459881],\n",
       "       [ 4.50714306],\n",
       "       [ 2.31993942],\n",
       "       [ 0.98658484],\n",
       "       [-3.4398136 ]])"
      ]
     },
     "execution_count": 18,
     "metadata": {},
     "output_type": "execute_result"
    }
   ],
   "source": [
    "np.random.seed(42)\n",
    "\n",
    "z1 = 10 * np.random.rand(5, 1) - 5\n",
    "z1"
   ]
  },
  {
   "cell_type": "code",
   "execution_count": 19,
   "id": "4eff672e",
   "metadata": {},
   "outputs": [
    {
     "data": {
      "text/plain": [
       "array([[0.        ],\n",
       "       [4.50714306],\n",
       "       [2.31993942],\n",
       "       [0.98658484],\n",
       "       [0.        ]])"
      ]
     },
     "execution_count": 19,
     "metadata": {},
     "output_type": "execute_result"
    }
   ],
   "source": [
    "relu(z1)"
   ]
  },
  {
   "cell_type": "markdown",
   "id": "dd5b6cdb",
   "metadata": {},
   "source": [
    "### Softmax"
   ]
  },
  {
   "cell_type": "markdown",
   "id": "95472c61",
   "metadata": {},
   "source": [
    "The second activation function that we need is softmax. This function is used to calculate the values of the output layer of the neural network, using the following formulas:\n",
    "\n",
    "\\begin{align}\n",
    " \\mathbf{z_2} &= \\mathbf{W_2}\\mathbf{h} + \\mathbf{b_2}   \\\\\\\n",
    " \\mathbf{\\hat y} &= \\mathrm{softmax}(\\mathbf{z_2})   \\\\\\\n",
    "\\end{align}\n",
    "\n",
    "To calculate softmax of a vector $\\mathbf{z}$, the $i$-th component of the resulting vector is given by:\n",
    "\n",
    "$$ \\textrm{softmax}(\\textbf{z})_i = \\frac{e^{z_i} }{\\sum\\limits_{j=1}^{V} e^{z_j} }   $$"
   ]
  },
  {
   "cell_type": "code",
   "execution_count": 20,
   "id": "24f41810",
   "metadata": {},
   "outputs": [],
   "source": [
    "def softmax(z):\n",
    "    yhat = np.exp(z) / np.sum(np.exp(z), axis=0)\n",
    "    \n",
    "    return yhat"
   ]
  },
  {
   "cell_type": "code",
   "execution_count": 21,
   "id": "f4bbe7c8",
   "metadata": {},
   "outputs": [
    {
     "data": {
      "text/plain": [
       "array([0.08276948, 0.03044919, 0.61158833, 0.22499077, 0.05020223])"
      ]
     },
     "execution_count": 21,
     "metadata": {},
     "output_type": "execute_result"
    }
   ],
   "source": [
    "z1 = np.array([9, 8, 11, 10, 8.5])\n",
    "\n",
    "softmax(z1)"
   ]
  },
  {
   "cell_type": "code",
   "execution_count": 22,
   "id": "603215ff",
   "metadata": {},
   "outputs": [
    {
     "data": {
      "text/plain": [
       "1.0"
      ]
     },
     "execution_count": 22,
     "metadata": {},
     "output_type": "execute_result"
    }
   ],
   "source": [
    "softmax(z1).sum()"
   ]
  },
  {
   "cell_type": "markdown",
   "id": "8ee56ebc",
   "metadata": {},
   "source": [
    "## 2.2 Cost function"
   ]
  },
  {
   "cell_type": "code",
   "execution_count": 23,
   "id": "be3b2b68",
   "metadata": {},
   "outputs": [],
   "source": [
    "def compute_cost(y, yhat, batch_size):\n",
    "    loss = np.sum(np.multiply(np.log(yhat), y))\n",
    "    \n",
    "    cost = -1/batch_size * loss\n",
    "    cost = np.squeeze(cost)\n",
    "    \n",
    "    return cost"
   ]
  },
  {
   "cell_type": "code",
   "execution_count": 24,
   "id": "c39ba42c",
   "metadata": {},
   "outputs": [
    {
     "data": {
      "text/plain": [
       "array([0.08276948, 0.03044919, 0.61158833, 0.22499077, 0.05020223])"
      ]
     },
     "execution_count": 24,
     "metadata": {},
     "output_type": "execute_result"
    }
   ],
   "source": [
    "y_pred = softmax(relu(z1))\n",
    "y_pred"
   ]
  },
  {
   "cell_type": "code",
   "execution_count": 25,
   "id": "537ab803",
   "metadata": {},
   "outputs": [
    {
     "data": {
      "text/plain": [
       "96.11385871598675"
      ]
     },
     "execution_count": 25,
     "metadata": {},
     "output_type": "execute_result"
    }
   ],
   "source": [
    "compute_cost(z1, y_pred, 1)"
   ]
  },
  {
   "cell_type": "markdown",
   "id": "5424beed",
   "metadata": {},
   "source": [
    "## 2.3 Foward propagation"
   ]
  },
  {
   "cell_type": "markdown",
   "id": "554eae12",
   "metadata": {},
   "source": [
    "### 2.3.1 Initialization of the weights and biases"
   ]
  },
  {
   "cell_type": "markdown",
   "id": "c1a0734c",
   "metadata": {},
   "source": [
    "- The first matrix ($W_1$) is of dimension $N \\times V$, where $V$ is the number of words in vocabulary and $N$ is the dimension of word vector.\n",
    "- The second matrix ($W_2$) is of dimension $V \\times N$. \n",
    "- Vector $b_1$ has dimensions $N\\times 1$\n",
    "- Vector $b_2$ has dimensions  $V\\times 1$. \n",
    "- $b_1$ and $b_2$ are the bias vectors of the linear layers from matrices $W_1$ and $W_2$.\n",
    "\n"
   ]
  },
  {
   "cell_type": "code",
   "execution_count": 26,
   "id": "7232f73d",
   "metadata": {},
   "outputs": [],
   "source": [
    "V = len(word2idx)\n",
    "N = 3"
   ]
  },
  {
   "cell_type": "code",
   "execution_count": 27,
   "id": "7cb15452",
   "metadata": {},
   "outputs": [],
   "source": [
    "def initialize_model(N, V, random_seed=42):\n",
    "    np.random.seed(random_seed)\n",
    "\n",
    "    W1 = np.random.rand(N, V)\n",
    "    W2 = np.random.rand(V, N)\n",
    "    b1 = np.random.rand(N, 1)\n",
    "    b2 = np.random.rand(V, 1)\n",
    "    \n",
    "    return W1, W2, b1, b2"
   ]
  },
  {
   "cell_type": "code",
   "execution_count": 28,
   "id": "3a9b42ad",
   "metadata": {},
   "outputs": [],
   "source": [
    "def forward_prop(x, W1, W2, b1, b2):\n",
    "    h = np.dot(W1, x) + b1\n",
    "    h = relu(h)\n",
    "    z = np.dot(W2, h) + b2\n",
    "    \n",
    "    return z, h"
   ]
  },
  {
   "cell_type": "code",
   "execution_count": 29,
   "id": "880d653c",
   "metadata": {},
   "outputs": [],
   "source": [
    "training_exp = get_training_example(words, 2, word2idx, V)\n",
    "\n",
    "x_arr, y_arr = next(training_exp)"
   ]
  },
  {
   "cell_type": "code",
   "execution_count": 30,
   "id": "4ff9612f",
   "metadata": {},
   "outputs": [
    {
     "name": "stdout",
     "output_type": "stream",
     "text": [
      "X array: [0.   0.25 0.   0.25 0.   0.   0.   0.   0.5  0.   0.   0.   0.   0.  ]\n",
      "Y array [0. 0. 0. 0. 0. 0. 0. 1. 0. 0. 0. 0. 0. 0.]\n"
     ]
    }
   ],
   "source": [
    "print('X array:', x_arr)\n",
    "print('Y array', y_arr)"
   ]
  },
  {
   "cell_type": "code",
   "execution_count": 31,
   "id": "5f168d31",
   "metadata": {},
   "outputs": [
    {
     "data": {
      "text/plain": [
       "array([[0.  ],\n",
       "       [0.25],\n",
       "       [0.  ],\n",
       "       [0.25],\n",
       "       [0.  ],\n",
       "       [0.  ],\n",
       "       [0.  ],\n",
       "       [0.  ],\n",
       "       [0.5 ],\n",
       "       [0.  ],\n",
       "       [0.  ],\n",
       "       [0.  ],\n",
       "       [0.  ],\n",
       "       [0.  ]])"
      ]
     },
     "execution_count": 31,
     "metadata": {},
     "output_type": "execute_result"
    }
   ],
   "source": [
    "x = x_arr.copy().reshape((V, 1))\n",
    "x"
   ]
  },
  {
   "cell_type": "code",
   "execution_count": 32,
   "id": "9d0a6eb2",
   "metadata": {},
   "outputs": [
    {
     "data": {
      "text/plain": [
       "array([[0.],\n",
       "       [0.],\n",
       "       [0.],\n",
       "       [0.],\n",
       "       [0.],\n",
       "       [0.],\n",
       "       [0.],\n",
       "       [1.],\n",
       "       [0.],\n",
       "       [0.],\n",
       "       [0.],\n",
       "       [0.],\n",
       "       [0.],\n",
       "       [0.]])"
      ]
     },
     "execution_count": 32,
     "metadata": {},
     "output_type": "execute_result"
    }
   ],
   "source": [
    "y = y_arr.copy().reshape((V, 1))\n",
    "y"
   ]
  },
  {
   "cell_type": "code",
   "execution_count": 33,
   "id": "3681d972",
   "metadata": {},
   "outputs": [],
   "source": [
    "W1, W2, b1, b2 = initialize_model(N, V)"
   ]
  },
  {
   "cell_type": "code",
   "execution_count": 34,
   "id": "cec6034f",
   "metadata": {},
   "outputs": [
    {
     "name": "stdout",
     "output_type": "stream",
     "text": [
      "[[1.50367487]\n",
      " [2.23794117]\n",
      " [2.04583807]\n",
      " [2.34063318]\n",
      " [1.99096705]\n",
      " [1.29042984]\n",
      " [1.90126297]\n",
      " [1.81749928]\n",
      " [1.2244145 ]\n",
      " [2.19518956]\n",
      " [1.62344649]\n",
      " [1.3229408 ]\n",
      " [1.34907424]\n",
      " [0.92805151]]\n"
     ]
    }
   ],
   "source": [
    "z, h = forward_prop(x, W1, W2, b1, b2)\n",
    "\n",
    "print(z)"
   ]
  },
  {
   "cell_type": "code",
   "execution_count": 35,
   "id": "fd21efeb",
   "metadata": {},
   "outputs": [
    {
     "data": {
      "text/plain": [
       "array([[0.99888303],\n",
       "       [0.64829588],\n",
       "       [0.9361567 ]])"
      ]
     },
     "execution_count": 35,
     "metadata": {},
     "output_type": "execute_result"
    }
   ],
   "source": [
    "h"
   ]
  },
  {
   "cell_type": "code",
   "execution_count": 36,
   "id": "b51e7879",
   "metadata": {},
   "outputs": [
    {
     "data": {
      "text/plain": [
       "2.606097345651427"
      ]
     },
     "execution_count": 36,
     "metadata": {},
     "output_type": "execute_result"
    }
   ],
   "source": [
    "compute_cost(y, softmax(z), 1)"
   ]
  },
  {
   "cell_type": "markdown",
   "id": "40964c4b",
   "metadata": {},
   "source": [
    "## 2.4 Backpropagation"
   ]
  },
  {
   "cell_type": "markdown",
   "id": "f9813e6a",
   "metadata": {},
   "source": [
    "The formulas will implement for backpropagation are the following.\n",
    "\n",
    "\\begin{align}\n",
    " \\frac{\\partial J}{\\partial \\mathbf{W_1}} &= \\rm{ReLU}\\left ( \\mathbf{W_2^\\top} (\\mathbf{\\hat{y}} - \\mathbf{y})\\right )\\mathbf{x}^\\top \\\\\\\n",
    " \\frac{\\partial J}{\\partial \\mathbf{W_2}} &= (\\mathbf{\\hat{y}} - \\mathbf{y})\\mathbf{h^\\top} \\\\\\\n",
    " \\frac{\\partial J}{\\partial \\mathbf{b_1}} &= \\rm{ReLU}\\left ( \\mathbf{W_2^\\top} (\\mathbf{\\hat{y}} - \\mathbf{y})\\right ) \\\\\\\n",
    " \\frac{\\partial J}{\\partial \\mathbf{b_2}} &= \\mathbf{\\hat{y}} - \\mathbf{y} \\\n",
    "\\end{align}\n",
    "\n"
   ]
  },
  {
   "cell_type": "code",
   "execution_count": 37,
   "id": "0bd50e80",
   "metadata": {},
   "outputs": [],
   "source": [
    "def back_prop(x, yhat, y, h, W1, W2, b1, b2, batch_size):\n",
    "    \n",
    "    grad_W1 = 1/batch_size * np.dot(relu(np.dot(W2.T, yhat - y)), x.T)\n",
    "    grad_W2 = 1/batch_size * np.dot(yhat - y, h.T)\n",
    "    grad_b1 = 1/batch_size * np.dot(relu(np.dot(W2.T, yhat -y)), np.ones((batch_size, 1)))\n",
    "    grad_b2 = 1/batch_size * np.dot(yhat - y, np.ones((batch_size, 1)))\n",
    "    \n",
    "    return grad_W1, grad_W2, grad_b1, grad_b2"
   ]
  },
  {
   "cell_type": "code",
   "execution_count": 38,
   "id": "58f1743f",
   "metadata": {},
   "outputs": [],
   "source": [
    "yhat = softmax(z)\n",
    "\n",
    "grad_W1, grad_W2, grad_b1, grad_b2 = back_prop(x, yhat, y, h, W1, W2, b1, b2, 1)"
   ]
  },
  {
   "cell_type": "code",
   "execution_count": 39,
   "id": "11cffb7a",
   "metadata": {},
   "outputs": [
    {
     "name": "stdout",
     "output_type": "stream",
     "text": [
      "Size of vocabulary: 14\n",
      "Shape of W1: (3, 14)\n",
      "Shape of W2: (14, 3)\n",
      "Shape of b1: (3, 1)\n",
      "Shape of b2: (14, 1)\n"
     ]
    }
   ],
   "source": [
    "print('Size of vocabulary: {}'.format(V))\n",
    "print('Shape of W1: {}'.format(grad_W1.shape))\n",
    "print('Shape of W2: {}'.format(grad_W2.shape))\n",
    "print('Shape of b1: {}'.format(grad_b1.shape))\n",
    "print('Shape of b2: {}'.format(grad_b2.shape))"
   ]
  },
  {
   "cell_type": "markdown",
   "id": "8b177c80",
   "metadata": {},
   "source": [
    "## 2.5 Gradient Descent"
   ]
  },
  {
   "cell_type": "markdown",
   "id": "49cbad56",
   "metadata": {},
   "source": [
    "During the gradient descent phase, we will update the weights and biases by subtracting $\\alpha$ times the gradient from the original matrices and vectors, using the following formulas.\n",
    "\n",
    "\\begin{align}\n",
    " \\mathbf{W_1} &:= \\mathbf{W_1} - \\alpha \\frac{\\partial J}{\\partial \\mathbf{W_1}} \\\\\\\n",
    " \\mathbf{W_2} &:= \\mathbf{W_2} - \\alpha \\frac{\\partial J}{\\partial \\mathbf{W_2}} \\\\\\\n",
    " \\mathbf{b_1} &:= \\mathbf{b_1} - \\alpha \\frac{\\partial J}{\\partial \\mathbf{b_1}} \\\\\\\n",
    " \\mathbf{b_2} &:= \\mathbf{b_2} - \\alpha \\frac{\\partial J}{\\partial \\mathbf{b_2}} \\\\\\\n",
    "\\end{align}"
   ]
  },
  {
   "cell_type": "code",
   "execution_count": 40,
   "id": "40ecc3c0",
   "metadata": {},
   "outputs": [],
   "source": [
    "def gradient_descent(data, word2idx, N, V, num_iters, alpha, batch_sizes,\n",
    "                     initialize_model=initialize_model, get_batches=get_batches, forward_prop=forward_prop,\n",
    "                     softmax=softmax, compute_cost=compute_cost, back_prop=back_prop, random_seed=42):\n",
    "    '''\n",
    "    \n",
    "      Inputs: \n",
    "        data:      text/list of words\n",
    "        word2idx:  words to Indices\n",
    "        N:         dimension of hidden vector  \n",
    "        V:         dimension of vocabulary \n",
    "        num_iters: number of iterations  \n",
    "        random_seed: random seed to initialize the model's matrices and vectors\n",
    "        initialize_model: your implementation of the function to initialize the model\n",
    "        get_batches: function to get the data in batches\n",
    "        forward_prop: your implementation of the function to perform forward propagation\n",
    "        softmax: your implementation of the softmax function\n",
    "        compute_cost: cost function (Cross entropy)\n",
    "        back_prop: your implementation of the function to perform backward propagation\n",
    "     Outputs: \n",
    "        W1, W2, b1, b2:  updated matrices and biases after num_iters iterations\n",
    "\n",
    "    '''\n",
    "    W1, W2, b1, b2 = initialize_model(N, V, random_seed=random_seed)\n",
    "    batch_size = batch_sizes\n",
    "    \n",
    "    iters = 0\n",
    "    C = 2\n",
    "    \n",
    "    for x, y in get_batches(data, word2idx, V, C, batch_size):\n",
    "        z, h = forward_prop(x, W1, W2, b1, b2)\n",
    "        \n",
    "        yhat = softmax(z)\n",
    "        \n",
    "        cost = compute_cost(y, yhat, batch_size)\n",
    "        if (iters) % 10 == 0 and iters != 0:\n",
    "            print('Iters: {} cost: {:.5f}'.format(iters, cost))\n",
    "        \n",
    "        grad_W1, grad_W2, grad_b1, grad_b2 = back_prop(x, yhat, y, h, W1, W2, b1, b2, batch_size)\n",
    "        \n",
    "        W1 = W1 - alpha * grad_W1\n",
    "        W2 = W2 - alpha * grad_W2\n",
    "        b1 = b1 - alpha * grad_b1\n",
    "        b2 = b2 - alpha * grad_b2\n",
    "        \n",
    "        iters += 1\n",
    "        if iters == num_iters:\n",
    "            break\n",
    "        if iters % 100 == 0:\n",
    "            alpha *= 0.66\n",
    "            \n",
    "    return W1, W2, b1, b2"
   ]
  },
  {
   "cell_type": "code",
   "execution_count": 45,
   "id": "c8e97e60",
   "metadata": {
    "scrolled": true
   },
   "outputs": [
    {
     "name": "stdout",
     "output_type": "stream",
     "text": [
      "Iters: 10 cost: 2.41922\n",
      "Iters: 20 cost: 2.90396\n",
      "Iters: 30 cost: 3.13578\n",
      "Iters: 40 cost: 3.26347\n",
      "Iters: 50 cost: 2.28515\n",
      "Iters: 60 cost: 2.50531\n",
      "Iters: 70 cost: 2.30940\n",
      "Iters: 80 cost: 2.49927\n",
      "Iters: 90 cost: 2.62349\n",
      "Iters: 100 cost: 2.79418\n",
      "Iters: 110 cost: 2.23276\n",
      "Iters: 120 cost: 2.49900\n",
      "Iters: 130 cost: 2.32018\n",
      "Iters: 140 cost: 2.41170\n",
      "Iters: 150 cost: 2.48986\n",
      "Iters: 160 cost: 2.63515\n",
      "Iters: 170 cost: 2.23168\n",
      "Iters: 180 cost: 2.52124\n",
      "Iters: 190 cost: 2.36628\n",
      "Iters: 200 cost: 2.37304\n",
      "Iters: 210 cost: 2.38228\n",
      "Iters: 220 cost: 2.52324\n",
      "Iters: 230 cost: 2.26360\n",
      "Iters: 240 cost: 2.54000\n",
      "Iters: 250 cost: 2.40891\n",
      "Iters: 260 cost: 2.39060\n",
      "Iters: 270 cost: 2.32906\n",
      "Iters: 280 cost: 2.50040\n",
      "Iters: 290 cost: 2.29496\n"
     ]
    }
   ],
   "source": [
    "N = 10\n",
    "V = len(word2idx)\n",
    "num_iters = 300\n",
    "alpha = 0.03\n",
    "batch_sizes = 1\n",
    "\n",
    "W1, W2, b1, b2 = gradient_descent(words, word2idx, N, V, num_iters, alpha, batch_sizes)"
   ]
  },
  {
   "cell_type": "markdown",
   "id": "f635c12f",
   "metadata": {},
   "source": [
    "# 3. Extracting & Visualizing word embedding vectors"
   ]
  },
  {
   "cell_type": "markdown",
   "id": "a651f489",
   "metadata": {},
   "source": [
    "### Option 1: extract embedding vectors from $\\mathbf{W_1}$"
   ]
  },
  {
   "cell_type": "code",
   "execution_count": 46,
   "id": "e009cfb0",
   "metadata": {},
   "outputs": [
    {
     "data": {
      "text/plain": [
       "(10, 14)"
      ]
     },
     "execution_count": 46,
     "metadata": {},
     "output_type": "execute_result"
    }
   ],
   "source": [
    "W1.shape"
   ]
  },
  {
   "cell_type": "code",
   "execution_count": 47,
   "id": "79487258",
   "metadata": {},
   "outputs": [
    {
     "data": {
      "text/plain": [
       "array([[ 0.29646731,  0.92134604,  0.67322541,  0.59351037,  0.13294828,\n",
       "         0.14753321, -0.0632072 ,  0.86589602,  0.59106657,  0.6608144 ,\n",
       "        -0.0612544 ,  0.93837818,  0.71961313,  0.12580499],\n",
       "       [ 0.18182497, -0.01217035,  0.23453102,  0.4830255 ,  0.38942226,\n",
       "         0.23884338,  0.59591917,  0.06794761,  0.17929755,  0.27351354,\n",
       "         0.33620639,  0.73243669,  0.13135429,  0.51423444],\n",
       "       [ 0.59241457, -0.02267047,  0.607166  ,  0.04732807,  0.00511449,\n",
       "         0.86076138,  0.91912919,  0.74267101,  0.24119741, -0.02506037,\n",
       "         0.64261171,  0.35202833,  0.08041692,  0.44867407],\n",
       "       [ 0.03438852,  0.79155724,  0.20415943,  0.6067866 ,  0.27870388,\n",
       "         0.51805758,  0.49056391,  0.13093184,  0.87206361,  0.75067889,\n",
       "         0.91528011,  0.86248629,  0.57388791,  0.91986379],\n",
       "       [ 0.07369392,  0.11812929, -0.09589932,  0.2972626 ,  0.26254565,\n",
       "         0.27134903,  0.72259815,  0.32868559,  0.25384416,  0.45322362,\n",
       "         0.04851076,  0.7031557 ,  0.02874332,  0.97208835],\n",
       "       [ 0.75684689,  0.06316786,  0.00552212,  0.73166165,  0.68148896,\n",
       "         0.6772796 ,  0.75587247,  0.00567837,  0.23729247,  0.06069261,\n",
       "         0.81137586,  0.57157056,  0.26377258,  0.04816047],\n",
       "       [ 0.31098232,  0.2592993 ,  0.66707364,  0.60179553,  0.79822436,\n",
       "         0.41530125,  0.08718378,  0.71324479,  0.65913909,  0.53482135,\n",
       "         0.68759766,  0.37801562,  0.46581916,  0.42754102],\n",
       "       [ 0.02541913, -0.04652125, -0.03973275,  0.60907981,  0.19748185,\n",
       "         0.50851424,  0.90756647,  0.19400156,  0.31362443,  0.67778131,\n",
       "         0.17830249,  0.02884775,  0.289695  ,  0.16122129],\n",
       "       [ 0.92969765,  0.80484395,  0.62919429,  0.82983326,  0.69912161,\n",
       "         0.08001342,  0.85890431,  0.53934224,  0.76513659,  0.78917458,\n",
       "         0.17661916, -0.05963621,  0.15228253,  0.39482844],\n",
       "       [ 0.81801477,  0.72542441, -0.10443147,  0.51048552,  0.38683852,\n",
       "         0.15417013,  0.0368791 ,  0.29935847,  0.87459666,  0.29395036,\n",
       "         0.40019035,  0.63482693,  0.27402011,  0.94112485]])"
      ]
     },
     "execution_count": 47,
     "metadata": {},
     "output_type": "execute_result"
    }
   ],
   "source": [
    "W1"
   ]
  },
  {
   "cell_type": "markdown",
   "id": "ad99a362",
   "metadata": {},
   "source": [
    "The first column, which is a 3-element vector, is the embedding vector of the first word of your vocabulary. The second column is the word embedding vector for the second word, and so on.\n",
    "\n",
    "The first, second, etc. words are ordered as follows."
   ]
  },
  {
   "cell_type": "code",
   "execution_count": 48,
   "id": "c071d7a5",
   "metadata": {},
   "outputs": [
    {
     "name": "stdout",
     "output_type": "stream",
     "text": [
      ".:  [0.29646731 0.18182497 0.59241457 0.03438852 0.07369392 0.75684689\n",
      " 0.31098232 0.02541913 0.92969765 0.81801477]\n",
      "am:  [ 0.92134604 -0.01217035 -0.02267047  0.79155724  0.11812929  0.06316786\n",
      "  0.2592993  -0.04652125  0.80484395  0.72542441]\n",
      "bags:  [ 0.67322541  0.23453102  0.607166    0.20415943 -0.09589932  0.00552212\n",
      "  0.66707364 -0.03973275  0.62919429 -0.10443147]\n",
      "because:  [0.59351037 0.4830255  0.04732807 0.6067866  0.2972626  0.73166165\n",
      " 0.60179553 0.60907981 0.82983326 0.51048552]\n",
      "continuous:  [0.13294828 0.38942226 0.00511449 0.27870388 0.26254565 0.68148896\n",
      " 0.79822436 0.19748185 0.69912161 0.38683852]\n",
      "embeddings:  [0.14753321 0.23884338 0.86076138 0.51805758 0.27134903 0.6772796\n",
      " 0.41530125 0.50851424 0.08001342 0.15417013]\n",
      "for:  [-0.0632072   0.59591917  0.91912919  0.49056391  0.72259815  0.75587247\n",
      "  0.08718378  0.90756647  0.85890431  0.0368791 ]\n",
      "happy:  [0.86589602 0.06794761 0.74267101 0.13093184 0.32868559 0.00567837\n",
      " 0.71324479 0.19400156 0.53934224 0.29935847]\n",
      "i:  [0.59106657 0.17929755 0.24119741 0.87206361 0.25384416 0.23729247\n",
      " 0.65913909 0.31362443 0.76513659 0.87459666]\n",
      "learning:  [ 0.6608144   0.27351354 -0.02506037  0.75067889  0.45322362  0.06069261\n",
      "  0.53482135  0.67778131  0.78917458  0.29395036]\n",
      "of:  [-0.0612544   0.33620639  0.64261171  0.91528011  0.04851076  0.81137586\n",
      "  0.68759766  0.17830249  0.17661916  0.40019035]\n",
      "word:  [ 0.93837818  0.73243669  0.35202833  0.86248629  0.7031557   0.57157056\n",
      "  0.37801562  0.02884775 -0.05963621  0.63482693]\n",
      "words:  [0.71961313 0.13135429 0.08041692 0.57388791 0.02874332 0.26377258\n",
      " 0.46581916 0.289695   0.15228253 0.27402011]\n",
      "❤️:  [0.12580499 0.51423444 0.44867407 0.91986379 0.97208835 0.04816047\n",
      " 0.42754102 0.16122129 0.39482844 0.94112485]\n"
     ]
    }
   ],
   "source": [
    "for word in word2idx:\n",
    "    word_embedding_vector = W1[:, word2idx[word]]\n",
    "    print('{}:  {}'.format(word, word_embedding_vector))"
   ]
  },
  {
   "cell_type": "markdown",
   "id": "d69ada44",
   "metadata": {},
   "source": [
    "### Option 2: extract embedding vectors from $\\mathbf{W_2}$"
   ]
  },
  {
   "cell_type": "code",
   "execution_count": 49,
   "id": "1d595e4c",
   "metadata": {},
   "outputs": [
    {
     "data": {
      "text/plain": [
       "array([[ 0.78514847,  0.90441464,  0.44723294,  0.89303439,  0.52618256,\n",
       "         0.0017279 ,  0.70221691,  0.66081036,  0.70489065,  1.03789443,\n",
       "         0.86138779,  0.34561109,  0.50954088,  0.27260226],\n",
       "       [ 0.2224908 ,  0.24806641,  0.71459033, -0.00965601,  0.12573573,\n",
       "         0.8757447 ,  0.14207805,  0.67352305,  0.53109243,  0.53089596,\n",
       "         0.97254448,  0.41943493,  1.04160604,  0.64895465],\n",
       "       [ 0.45049662,  0.05304395,  0.63592102,  0.50729057,  0.94739371,\n",
       "         0.94597347,  0.27291   ,  0.57984851,  0.03723984,  0.59130752,\n",
       "         0.92543099,  0.98861039,  0.26973917,  0.66499809],\n",
       "       [ 0.23155445,  0.49238121,  0.631656  ,  0.28844502,  0.96829109,\n",
       "         0.55941876,  0.98713538,  0.34041681,  0.31454778,  0.54851574,\n",
       "         0.25568095,  0.33503269,  0.54358576,  0.6680886 ],\n",
       "       [ 0.21561687,  0.99528516,  0.20072248,  0.63954194,  0.25993206,\n",
       "         0.38231041,  0.63712538,  0.67660207,  0.24480173,  0.23640647,\n",
       "         0.02758894,  0.17362965,  1.03354417,  0.23253607],\n",
       "       [ 0.01900293,  0.25480448,  0.90090312,  0.13989564,  0.64105421,\n",
       "         0.34539498,  0.10425481,  0.23307817,  0.20093001,  0.72267935,\n",
       "         0.92662712,  0.59174756,  0.75942043,  0.39830458],\n",
       "       [ 0.51323852,  0.7563723 ,  0.46076165,  0.71555489,  0.92881516,\n",
       "         0.61606529,  0.16802052,  0.37498195,  0.93371457,  0.46645958,\n",
       "         0.38347742,  1.00112117,  0.59240954,  0.46590701],\n",
       "       [ 0.42915222,  0.86168929,  0.24874897,  0.35152249,  0.58579223,\n",
       "         0.90227309,  0.69197639,  0.78107262,  0.41534805,  0.05695372,\n",
       "         0.91689163,  0.77340487,  0.73772699,  0.37985051],\n",
       "       [-0.01517273,  0.3463524 ,  0.05399861,  1.03612109,  0.61926796,\n",
       "         0.86277308, -0.09994319,  0.76419123,  0.93288133,  0.81884882,\n",
       "         0.89652668,  0.57804805,  0.24152895,  0.43528864],\n",
       "       [ 0.18884514,  0.7585913 ,  0.66561759,  0.30427531,  0.28315213,\n",
       "         0.79592261,  0.19496933,  1.02398756,  0.58997263,  0.32652135,\n",
       "         0.69821287,  0.0461886 ,  0.27902517,  0.45957415]])"
      ]
     },
     "execution_count": 49,
     "metadata": {},
     "output_type": "execute_result"
    }
   ],
   "source": [
    "W2.T"
   ]
  },
  {
   "cell_type": "code",
   "execution_count": 50,
   "id": "f78d2d87",
   "metadata": {},
   "outputs": [
    {
     "name": "stdout",
     "output_type": "stream",
     "text": [
      ".:  [ 0.78514847  0.2224908   0.45049662  0.23155445  0.21561687  0.01900293\n",
      "  0.51323852  0.42915222 -0.01517273  0.18884514]\n",
      "am:  [0.90441464 0.24806641 0.05304395 0.49238121 0.99528516 0.25480448\n",
      " 0.7563723  0.86168929 0.3463524  0.7585913 ]\n",
      "bags:  [0.44723294 0.71459033 0.63592102 0.631656   0.20072248 0.90090312\n",
      " 0.46076165 0.24874897 0.05399861 0.66561759]\n",
      "because:  [ 0.89303439 -0.00965601  0.50729057  0.28844502  0.63954194  0.13989564\n",
      "  0.71555489  0.35152249  1.03612109  0.30427531]\n",
      "continuous:  [0.52618256 0.12573573 0.94739371 0.96829109 0.25993206 0.64105421\n",
      " 0.92881516 0.58579223 0.61926796 0.28315213]\n",
      "embeddings:  [0.0017279  0.8757447  0.94597347 0.55941876 0.38231041 0.34539498\n",
      " 0.61606529 0.90227309 0.86277308 0.79592261]\n",
      "for:  [ 0.70221691  0.14207805  0.27291     0.98713538  0.63712538  0.10425481\n",
      "  0.16802052  0.69197639 -0.09994319  0.19496933]\n",
      "happy:  [0.66081036 0.67352305 0.57984851 0.34041681 0.67660207 0.23307817\n",
      " 0.37498195 0.78107262 0.76419123 1.02398756]\n",
      "i:  [0.70489065 0.53109243 0.03723984 0.31454778 0.24480173 0.20093001\n",
      " 0.93371457 0.41534805 0.93288133 0.58997263]\n",
      "learning:  [1.03789443 0.53089596 0.59130752 0.54851574 0.23640647 0.72267935\n",
      " 0.46645958 0.05695372 0.81884882 0.32652135]\n",
      "of:  [0.86138779 0.97254448 0.92543099 0.25568095 0.02758894 0.92662712\n",
      " 0.38347742 0.91689163 0.89652668 0.69821287]\n",
      "word:  [0.34561109 0.41943493 0.98861039 0.33503269 0.17362965 0.59174756\n",
      " 1.00112117 0.77340487 0.57804805 0.0461886 ]\n",
      "words:  [0.50954088 1.04160604 0.26973917 0.54358576 1.03354417 0.75942043\n",
      " 0.59240954 0.73772699 0.24152895 0.27902517]\n",
      "❤️:  [0.27260226 0.64895465 0.66499809 0.6680886  0.23253607 0.39830458\n",
      " 0.46590701 0.37985051 0.43528864 0.45957415]\n"
     ]
    }
   ],
   "source": [
    "for word in word2idx:\n",
    "    word_embedding_vector = W2.T[:, word2idx[word]]\n",
    "    print('{}:  {}'.format(word, word_embedding_vector))"
   ]
  },
  {
   "cell_type": "markdown",
   "id": "4f972eb8",
   "metadata": {},
   "source": [
    "### Option 3: extract embedding vectors from $\\mathbf{W_1}$ and $\\mathbf{W_2}$"
   ]
  },
  {
   "cell_type": "markdown",
   "id": "3334a01d",
   "metadata": {},
   "source": [
    "**Calculate the average of $\\mathbf{W_1}$ and $\\mathbf{W_2^\\top}$, and store the result in `W3`.**"
   ]
  },
  {
   "cell_type": "code",
   "execution_count": 51,
   "id": "84602c0d",
   "metadata": {},
   "outputs": [
    {
     "data": {
      "text/plain": [
       "array([[0.54080789, 0.91288034, 0.56022917, 0.74327238, 0.32956542,\n",
       "        0.07463056, 0.31950485, 0.76335319, 0.64797861, 0.84935442,\n",
       "        0.4000667 , 0.64199464, 0.61457701, 0.19920362],\n",
       "       [0.20215788, 0.11794803, 0.47456067, 0.23668475, 0.257579  ,\n",
       "        0.55729404, 0.36899861, 0.37073533, 0.35519499, 0.40220475,\n",
       "        0.65437544, 0.57593581, 0.58648016, 0.58159454],\n",
       "       [0.52145559, 0.01518674, 0.62154351, 0.27730932, 0.4762541 ,\n",
       "        0.90336743, 0.5960196 , 0.66125976, 0.13921862, 0.28312357,\n",
       "        0.78402135, 0.67031936, 0.17507804, 0.55683608],\n",
       "       [0.13297149, 0.64196923, 0.41790772, 0.44761581, 0.62349749,\n",
       "        0.53873817, 0.73884965, 0.23567433, 0.5933057 , 0.64959731,\n",
       "        0.58548053, 0.59875949, 0.55873683, 0.79397619],\n",
       "       [0.14465539, 0.55670723, 0.05241158, 0.46840227, 0.26123886,\n",
       "        0.32682972, 0.67986177, 0.50264383, 0.24932294, 0.34481504,\n",
       "        0.03804985, 0.43839268, 0.53114374, 0.60231221],\n",
       "       [0.38792491, 0.15898617, 0.45321262, 0.43577864, 0.66127159,\n",
       "        0.51133729, 0.43006364, 0.11937827, 0.21911124, 0.39168598,\n",
       "        0.86900149, 0.58165906, 0.51159651, 0.22323253],\n",
       "       [0.41211042, 0.5078358 , 0.56391764, 0.65867521, 0.86351976,\n",
       "        0.51568327, 0.12760215, 0.54411337, 0.79642683, 0.50064047,\n",
       "        0.53553754, 0.68956839, 0.52911435, 0.44672401],\n",
       "       [0.22728567, 0.40758402, 0.10450811, 0.48030115, 0.39163704,\n",
       "        0.70539367, 0.79977143, 0.48753709, 0.36448624, 0.36736752,\n",
       "        0.54759706, 0.40112631, 0.51371099, 0.2705359 ],\n",
       "       [0.45726246, 0.57559818, 0.34159645, 0.93297717, 0.65919478,\n",
       "        0.47139325, 0.37948056, 0.65176674, 0.84900896, 0.8040117 ,\n",
       "        0.53657292, 0.25920592, 0.19690574, 0.41505854],\n",
       "       [0.50342995, 0.74200786, 0.28059306, 0.40738042, 0.33499533,\n",
       "        0.47504637, 0.11592421, 0.66167302, 0.73228465, 0.31023586,\n",
       "        0.54920161, 0.34050777, 0.27652264, 0.7003495 ]])"
      ]
     },
     "execution_count": 51,
     "metadata": {},
     "output_type": "execute_result"
    }
   ],
   "source": [
    "W3 = (W1+W2.T)/2\n",
    "\n",
    "W3"
   ]
  },
  {
   "cell_type": "code",
   "execution_count": 52,
   "id": "636471f0",
   "metadata": {},
   "outputs": [
    {
     "name": "stdout",
     "output_type": "stream",
     "text": [
      ".:  [0.54080789 0.20215788 0.52145559 0.13297149 0.14465539 0.38792491\n",
      " 0.41211042 0.22728567 0.45726246 0.50342995]\n",
      "am:  [0.91288034 0.11794803 0.01518674 0.64196923 0.55670723 0.15898617\n",
      " 0.5078358  0.40758402 0.57559818 0.74200786]\n",
      "bags:  [0.56022917 0.47456067 0.62154351 0.41790772 0.05241158 0.45321262\n",
      " 0.56391764 0.10450811 0.34159645 0.28059306]\n",
      "because:  [0.74327238 0.23668475 0.27730932 0.44761581 0.46840227 0.43577864\n",
      " 0.65867521 0.48030115 0.93297717 0.40738042]\n",
      "continuous:  [0.32956542 0.257579   0.4762541  0.62349749 0.26123886 0.66127159\n",
      " 0.86351976 0.39163704 0.65919478 0.33499533]\n",
      "embeddings:  [0.07463056 0.55729404 0.90336743 0.53873817 0.32682972 0.51133729\n",
      " 0.51568327 0.70539367 0.47139325 0.47504637]\n",
      "for:  [0.31950485 0.36899861 0.5960196  0.73884965 0.67986177 0.43006364\n",
      " 0.12760215 0.79977143 0.37948056 0.11592421]\n",
      "happy:  [0.76335319 0.37073533 0.66125976 0.23567433 0.50264383 0.11937827\n",
      " 0.54411337 0.48753709 0.65176674 0.66167302]\n",
      "i:  [0.64797861 0.35519499 0.13921862 0.5933057  0.24932294 0.21911124\n",
      " 0.79642683 0.36448624 0.84900896 0.73228465]\n",
      "learning:  [0.84935442 0.40220475 0.28312357 0.64959731 0.34481504 0.39168598\n",
      " 0.50064047 0.36736752 0.8040117  0.31023586]\n",
      "of:  [0.4000667  0.65437544 0.78402135 0.58548053 0.03804985 0.86900149\n",
      " 0.53553754 0.54759706 0.53657292 0.54920161]\n",
      "word:  [0.64199464 0.57593581 0.67031936 0.59875949 0.43839268 0.58165906\n",
      " 0.68956839 0.40112631 0.25920592 0.34050777]\n",
      "words:  [0.61457701 0.58648016 0.17507804 0.55873683 0.53114374 0.51159651\n",
      " 0.52911435 0.51371099 0.19690574 0.27652264]\n",
      "❤️:  [0.19920362 0.58159454 0.55683608 0.79397619 0.60231221 0.22323253\n",
      " 0.44672401 0.2705359  0.41505854 0.7003495 ]\n"
     ]
    }
   ],
   "source": [
    "for word in word2idx:\n",
    "    word_embedding_vector = W3[:, word2idx[word]]\n",
    "    print('{}:  {}'.format(word, word_embedding_vector))"
   ]
  },
  {
   "cell_type": "markdown",
   "id": "0b8eb6a9",
   "metadata": {},
   "source": [
    "### Visualizing the Word Vectors"
   ]
  },
  {
   "cell_type": "code",
   "execution_count": 53,
   "id": "60a39782",
   "metadata": {},
   "outputs": [],
   "source": [
    "embs = (W1 + W2.T) / 2\n",
    "\n",
    "idx = [word2idx[word] for word in list(word2idx.keys())]\n",
    "\n",
    "X_embs = embs[:, idx]"
   ]
  },
  {
   "cell_type": "code",
   "execution_count": 54,
   "id": "1bf5d241",
   "metadata": {},
   "outputs": [
    {
     "data": {
      "text/plain": [
       "array([[0.54080789, 0.91288034, 0.56022917, 0.74327238, 0.32956542,\n",
       "        0.07463056, 0.31950485, 0.76335319, 0.64797861, 0.84935442,\n",
       "        0.4000667 , 0.64199464, 0.61457701, 0.19920362],\n",
       "       [0.20215788, 0.11794803, 0.47456067, 0.23668475, 0.257579  ,\n",
       "        0.55729404, 0.36899861, 0.37073533, 0.35519499, 0.40220475,\n",
       "        0.65437544, 0.57593581, 0.58648016, 0.58159454],\n",
       "       [0.52145559, 0.01518674, 0.62154351, 0.27730932, 0.4762541 ,\n",
       "        0.90336743, 0.5960196 , 0.66125976, 0.13921862, 0.28312357,\n",
       "        0.78402135, 0.67031936, 0.17507804, 0.55683608],\n",
       "       [0.13297149, 0.64196923, 0.41790772, 0.44761581, 0.62349749,\n",
       "        0.53873817, 0.73884965, 0.23567433, 0.5933057 , 0.64959731,\n",
       "        0.58548053, 0.59875949, 0.55873683, 0.79397619],\n",
       "       [0.14465539, 0.55670723, 0.05241158, 0.46840227, 0.26123886,\n",
       "        0.32682972, 0.67986177, 0.50264383, 0.24932294, 0.34481504,\n",
       "        0.03804985, 0.43839268, 0.53114374, 0.60231221],\n",
       "       [0.38792491, 0.15898617, 0.45321262, 0.43577864, 0.66127159,\n",
       "        0.51133729, 0.43006364, 0.11937827, 0.21911124, 0.39168598,\n",
       "        0.86900149, 0.58165906, 0.51159651, 0.22323253],\n",
       "       [0.41211042, 0.5078358 , 0.56391764, 0.65867521, 0.86351976,\n",
       "        0.51568327, 0.12760215, 0.54411337, 0.79642683, 0.50064047,\n",
       "        0.53553754, 0.68956839, 0.52911435, 0.44672401],\n",
       "       [0.22728567, 0.40758402, 0.10450811, 0.48030115, 0.39163704,\n",
       "        0.70539367, 0.79977143, 0.48753709, 0.36448624, 0.36736752,\n",
       "        0.54759706, 0.40112631, 0.51371099, 0.2705359 ],\n",
       "       [0.45726246, 0.57559818, 0.34159645, 0.93297717, 0.65919478,\n",
       "        0.47139325, 0.37948056, 0.65176674, 0.84900896, 0.8040117 ,\n",
       "        0.53657292, 0.25920592, 0.19690574, 0.41505854],\n",
       "       [0.50342995, 0.74200786, 0.28059306, 0.40738042, 0.33499533,\n",
       "        0.47504637, 0.11592421, 0.66167302, 0.73228465, 0.31023586,\n",
       "        0.54920161, 0.34050777, 0.27652264, 0.7003495 ]])"
      ]
     },
     "execution_count": 54,
     "metadata": {},
     "output_type": "execute_result"
    }
   ],
   "source": [
    "X_embs"
   ]
  },
  {
   "cell_type": "code",
   "execution_count": 55,
   "id": "afe5c67d",
   "metadata": {},
   "outputs": [
    {
     "data": {
      "text/plain": [
       "(10, 14)"
      ]
     },
     "execution_count": 55,
     "metadata": {},
     "output_type": "execute_result"
    }
   ],
   "source": [
    "X_embs.shape"
   ]
  },
  {
   "cell_type": "code",
   "execution_count": 56,
   "id": "522d2c6d",
   "metadata": {},
   "outputs": [],
   "source": [
    "from sklearn.decomposition import PCA\n",
    "\n",
    "pca = PCA(n_components=2)\n",
    "pca.fit(X_embs.T)\n",
    "\n",
    "X_reduced = pca.transform(X_embs.T)"
   ]
  },
  {
   "cell_type": "code",
   "execution_count": 57,
   "id": "69bc3603",
   "metadata": {},
   "outputs": [
    {
     "data": {
      "text/plain": [
       "(14, 2)"
      ]
     },
     "execution_count": 57,
     "metadata": {},
     "output_type": "execute_result"
    }
   ],
   "source": [
    "X_reduced.shape"
   ]
  },
  {
   "cell_type": "code",
   "execution_count": 58,
   "id": "6c9e039d",
   "metadata": {
    "scrolled": false
   },
   "outputs": [
    {
     "data": {
      "image/png": "[encoded data removed]",
      "text/plain": [
       "<Figure size 1000x600 with 1 Axes>"
      ]
     },
     "metadata": {},
     "output_type": "display_data"
    }
   ],
   "source": [
    "plt.figure(figsize=(10, 6))\n",
    "plt.scatter(X_reduced[:, 0], X_reduced[:, 1])\n",
    "for i, word in idx2word.items():\n",
    "    plt.annotate(word, xy=(X_reduced[i, 0], X_reduced[i, 1]))\n",
    "plt.show()"
   ]
  },
  {
   "cell_type": "code",
   "execution_count": null,
   "id": "3e99f58b",
   "metadata": {},
   "outputs": [],
   "source": []
  },
  {
   "cell_type": "code",
   "execution_count": null,
   "id": "ded3f1b0",
   "metadata": {},
   "outputs": [],
   "source": []
  }
 ],
 "metadata": {
  "kernelspec": {
   "display_name": "Python 3 (ipykernel)",
   "language": "python",
   "name": "python3"
  },
  "language_info": {
   "codemirror_mode": {
    "name": "ipython",
    "version": 3
   },
   "file_extension": ".py",
   "mimetype": "text/x-python",
   "name": "python",
   "nbconvert_exporter": "python",
   "pygments_lexer": "ipython3",
   "version": "3.7.9"
  }
 },
 "nbformat": 4,
 "nbformat_minor": 5
}
