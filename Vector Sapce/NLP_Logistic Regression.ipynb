{
 "cells": [
  {
   "cell_type": "code",
   "execution_count": 1,
   "id": "c60697a0",
   "metadata": {},
   "outputs": [
    {
     "name": "stderr",
     "output_type": "stream",
     "text": [
      "[nltk_data] Downloading package stopwords to /Users/vuhan/nltk_data...\n",
      "[nltk_data]   Package stopwords is already up-to-date!\n"
     ]
    }
   ],
   "source": [
    "import numpy as np\n",
    "import pandas as pd\n",
    "import matplotlib.pyplot as plt\n",
    "import nltk\n",
    "import random\n",
    "import re\n",
    "import string\n",
    "from nltk.corpus import stopwords          \n",
    "from nltk.stem import PorterStemmer        \n",
    "from nltk.tokenize import TweetTokenizer\n",
    "nltk.download('stopwords')\n",
    "import warnings\n",
    "warnings.filterwarnings('ignore')"
   ]
  },
  {
   "cell_type": "code",
   "execution_count": 2,
   "id": "0368265e",
   "metadata": {},
   "outputs": [
    {
     "name": "stdout",
     "output_type": "stream",
     "text": [
      "<class 'pandas.core.frame.DataFrame'>\n",
      "RangeIndex: 7613 entries, 0 to 7612\n",
      "Data columns (total 5 columns):\n",
      " #   Column    Non-Null Count  Dtype \n",
      "---  ------    --------------  ----- \n",
      " 0   id        7613 non-null   int64 \n",
      " 1   keyword   7552 non-null   object\n",
      " 2   location  5080 non-null   object\n",
      " 3   text      7613 non-null   object\n",
      " 4   target    7613 non-null   int64 \n",
      "dtypes: int64(2), object(3)\n",
      "memory usage: 297.5+ KB\n"
     ]
    }
   ],
   "source": [
    "df = pd.read_csv('train.csv')\n",
    "df.info()"
   ]
  },
  {
   "cell_type": "code",
   "execution_count": 3,
   "id": "391996ab",
   "metadata": {},
   "outputs": [
    {
     "name": "stdout",
     "output_type": "stream",
     "text": [
      "<class 'pandas.core.frame.DataFrame'>\n",
      "RangeIndex: 7613 entries, 0 to 7612\n",
      "Data columns (total 3 columns):\n",
      " #   Column  Non-Null Count  Dtype \n",
      "---  ------  --------------  ----- \n",
      " 0   id      7613 non-null   int64 \n",
      " 1   text    7613 non-null   object\n",
      " 2   target  7613 non-null   int64 \n",
      "dtypes: int64(2), object(1)\n",
      "memory usage: 178.6+ KB\n"
     ]
    }
   ],
   "source": [
    "tweets = df[['id', 'text', 'target']]\n",
    "tweets.info()"
   ]
  },
  {
   "cell_type": "code",
   "execution_count": 4,
   "id": "90ae65fa",
   "metadata": {},
   "outputs": [
    {
     "data": {
      "text/html": [
       "<div>\n",
       "<style scoped>\n",
       "    .dataframe tbody tr th:only-of-type {\n",
       "        vertical-align: middle;\n",
       "    }\n",
       "\n",
       "    .dataframe tbody tr th {\n",
       "        vertical-align: top;\n",
       "    }\n",
       "\n",
       "    .dataframe thead th {\n",
       "        text-align: right;\n",
       "    }\n",
       "</style>\n",
       "<table border=\"1\" class=\"dataframe\">\n",
       "  <thead>\n",
       "    <tr style=\"text-align: right;\">\n",
       "      <th></th>\n",
       "      <th>id</th>\n",
       "      <th>text</th>\n",
       "      <th>target</th>\n",
       "    </tr>\n",
       "  </thead>\n",
       "  <tbody>\n",
       "    <tr>\n",
       "      <th>0</th>\n",
       "      <td>1</td>\n",
       "      <td>Our Deeds are the Reason of this #earthquake M...</td>\n",
       "      <td>1</td>\n",
       "    </tr>\n",
       "    <tr>\n",
       "      <th>1</th>\n",
       "      <td>4</td>\n",
       "      <td>Forest fire near La Ronge Sask. Canada</td>\n",
       "      <td>1</td>\n",
       "    </tr>\n",
       "    <tr>\n",
       "      <th>2</th>\n",
       "      <td>5</td>\n",
       "      <td>All residents asked to 'shelter in place' are ...</td>\n",
       "      <td>1</td>\n",
       "    </tr>\n",
       "    <tr>\n",
       "      <th>3</th>\n",
       "      <td>6</td>\n",
       "      <td>13,000 people receive #wildfires evacuation or...</td>\n",
       "      <td>1</td>\n",
       "    </tr>\n",
       "    <tr>\n",
       "      <th>4</th>\n",
       "      <td>7</td>\n",
       "      <td>Just got sent this photo from Ruby #Alaska as ...</td>\n",
       "      <td>1</td>\n",
       "    </tr>\n",
       "  </tbody>\n",
       "</table>\n",
       "</div>"
      ],
      "text/plain": [
       "   id                                               text  target\n",
       "0   1  Our Deeds are the Reason of this #earthquake M...       1\n",
       "1   4             Forest fire near La Ronge Sask. Canada       1\n",
       "2   5  All residents asked to 'shelter in place' are ...       1\n",
       "3   6  13,000 people receive #wildfires evacuation or...       1\n",
       "4   7  Just got sent this photo from Ruby #Alaska as ...       1"
      ]
     },
     "execution_count": 4,
     "metadata": {},
     "output_type": "execute_result"
    }
   ],
   "source": [
    "tweets.head()"
   ]
  },
  {
   "cell_type": "code",
   "execution_count": 5,
   "id": "ee00d64b",
   "metadata": {},
   "outputs": [
    {
     "data": {
      "text/plain": [
       "0    4342\n",
       "1    3271\n",
       "Name: target, dtype: int64"
      ]
     },
     "execution_count": 5,
     "metadata": {},
     "output_type": "execute_result"
    }
   ],
   "source": [
    "tweets['target'].value_counts()"
   ]
  },
  {
   "cell_type": "code",
   "execution_count": 6,
   "id": "d15dfc5a",
   "metadata": {},
   "outputs": [
    {
     "data": {
      "image/png": "[encoded data removed]",
      "text/plain": [
       "<Figure size 500x500 with 1 Axes>"
      ]
     },
     "metadata": {},
     "output_type": "display_data"
    }
   ],
   "source": [
    "fig = plt.figure(figsize=(5, 5))\n",
    "\n",
    "labels = 'Real', 'Fake'\n",
    "\n",
    "sizes = [len(tweets.loc[tweets['target'] == 1]), len(tweets.loc[tweets['target'] == 0])]\n",
    "\n",
    "plt.pie(sizes, labels=labels, autopct='%1.1f%%', shadow=True, startangle=90)\n",
    "\n",
    "plt.axis('equal')\n",
    "plt.show()"
   ]
  },
  {
   "cell_type": "markdown",
   "id": "b43f395a",
   "metadata": {},
   "source": [
    "# Preprocessing"
   ]
  },
  {
   "cell_type": "markdown",
   "id": "fb637b93",
   "metadata": {},
   "source": [
    "Data preprocessing is one of the critical steps in any machine learning project. It includes cleaning and formatting the data before feeding into a machine learning algorithm. For NLP, the preprocessing steps are comprised of the following tasks:\n",
    "\n",
    "* Tokenizing the string\n",
    "* Lowercasing\n",
    "* Removing stop words and punctuation\n",
    "* Stemming\n"
   ]
  },
  {
   "cell_type": "markdown",
   "id": "dd3bff3a",
   "metadata": {},
   "source": [
    "## `process_tweet()`"
   ]
  },
  {
   "cell_type": "code",
   "execution_count": 7,
   "id": "8f0f522c",
   "metadata": {},
   "outputs": [],
   "source": [
    "def process_tweets(tweet, stem=True):\n",
    "    \n",
    "    tweet = re.sub(r'^RT[\\s]+', '', tweet)\n",
    "    tweet = re.sub(r'https?://[^\\s\\n\\r]+', '', tweet)\n",
    "    tweet = re.sub(r'#', '', tweet)\n",
    "    \n",
    "    tokenizer = TweetTokenizer(preserve_case=False, strip_handles=True, reduce_len=True)\n",
    "    tweet_tokens = tokenizer.tokenize(tweet)\n",
    "    \n",
    "    stopwords_eng = stopwords.words('english')\n",
    "    tweet_clean = []\n",
    "    for word in tweet_tokens:\n",
    "        if word not in stopwords_eng and word not in string.punctuation:\n",
    "            tweet_clean.append(word)\n",
    "    if stem==False:\n",
    "        return tweet_clean\n",
    "    else:    \n",
    "        tweet_stem = []\n",
    "        stemmer = PorterStemmer()\n",
    "        for word in tweet_clean:\n",
    "            stem_word = stemmer.stem(word)\n",
    "            tweet_stem.append(stem_word)\n",
    "        return tweet_stem"
   ]
  },
  {
   "cell_type": "code",
   "execution_count": 8,
   "id": "2115c221",
   "metadata": {},
   "outputs": [
    {
     "name": "stdout",
     "output_type": "stream",
     "text": [
      "Tweet: Our Deeds are the Reason of this #earthquake May ALLAH Forgive us all\n",
      "\n",
      "Tokenized Tweet: ['deed', 'reason', 'earthquak', 'may', 'allah', 'forgiv', 'us']\n"
     ]
    }
   ],
   "source": [
    "org_tweet = tweets.iloc[0, 1]\n",
    "print('Tweet: {}'.format(org_tweet))\n",
    "print()\n",
    "token_tweet = process_tweets(org_tweet)\n",
    "print('Tokenized Tweet: {}'.format(token_tweet))"
   ]
  },
  {
   "cell_type": "code",
   "execution_count": 9,
   "id": "6816e5b0",
   "metadata": {
    "scrolled": true
   },
   "outputs": [
    {
     "data": {
      "text/plain": [
       "array([1, 1, 1, ..., 1, 1, 1])"
      ]
     },
     "execution_count": 9,
     "metadata": {},
     "output_type": "execute_result"
    }
   ],
   "source": [
    "np.squeeze(tweets['target'].values)"
   ]
  },
  {
   "cell_type": "markdown",
   "id": "9c2741dd",
   "metadata": {},
   "source": [
    "## Word frequency dictionary"
   ]
  },
  {
   "cell_type": "code",
   "execution_count": 10,
   "id": "38c639c2",
   "metadata": {},
   "outputs": [],
   "source": [
    "def build_freqs(label, tweets):\n",
    "    y_list = np.squeeze(label).tolist()\n",
    "    \n",
    "    freqs = {}\n",
    "    \n",
    "    for y, tweet in zip(y_list, tweets):\n",
    "        for word in process_tweets(tweet):\n",
    "            pair = (word, y)\n",
    "            if pair in freqs:\n",
    "                freqs[pair] += 1\n",
    "            else:\n",
    "                freqs[pair] = 1\n",
    "    return freqs"
   ]
  },
  {
   "cell_type": "code",
   "execution_count": 11,
   "id": "65e8744b",
   "metadata": {},
   "outputs": [],
   "source": [
    "text = tweets['text']\n",
    "label = tweets['target']\n",
    "\n",
    "freqs = build_freqs(label, text)"
   ]
  },
  {
   "cell_type": "code",
   "execution_count": 12,
   "id": "40bd0b25",
   "metadata": {},
   "outputs": [
    {
     "data": {
      "text/plain": [
       "15929"
      ]
     },
     "execution_count": 12,
     "metadata": {},
     "output_type": "execute_result"
    }
   ],
   "source": [
    "len(freqs)"
   ]
  },
  {
   "cell_type": "markdown",
   "id": "3512e632",
   "metadata": {},
   "source": [
    "## Table of word counts"
   ]
  },
  {
   "cell_type": "code",
   "execution_count": 13,
   "id": "165ad4fe",
   "metadata": {},
   "outputs": [],
   "source": [
    "def word_count_table(sample):\n",
    "    keys = process_tweets(sample)\n",
    "    \n",
    "    data = []\n",
    "    for word in keys:\n",
    "        real = 0\n",
    "        fake = 0\n",
    "        \n",
    "        if (word, 1) in freqs:\n",
    "            real = freqs.get((word, 1), 0)\n",
    "        if (word, 0) in freqs:\n",
    "            fake = freqs.get((word, 0), 0)\n",
    "        data.append([word, real, fake])\n",
    "    return data"
   ]
  },
  {
   "cell_type": "code",
   "execution_count": 14,
   "id": "99e93cec",
   "metadata": {},
   "outputs": [
    {
     "data": {
      "text/plain": [
       "[['deed', 1, 1],\n",
       " ['reason', 8, 23],\n",
       " ['earthquak', 47, 6],\n",
       " ['may', 50, 38],\n",
       " ['allah', 6, 3],\n",
       " ['forgiv', 1, 2],\n",
       " ['us', 49, 75]]"
      ]
     },
     "execution_count": 14,
     "metadata": {},
     "output_type": "execute_result"
    }
   ],
   "source": [
    "word_count_table(text[0])"
   ]
  },
  {
   "cell_type": "code",
   "execution_count": 15,
   "id": "5a52ca8a",
   "metadata": {},
   "outputs": [
    {
     "data": {
      "text/plain": [
       "[['deed', 1, 1],\n",
       " ['reason', 8, 23],\n",
       " ['earthquak', 47, 6],\n",
       " ['may', 50, 38],\n",
       " ['allah', 6, 3],\n",
       " ['forgiv', 1, 2],\n",
       " ['us', 49, 75]]"
      ]
     },
     "execution_count": 15,
     "metadata": {},
     "output_type": "execute_result"
    }
   ],
   "source": [
    "demo = 'happi merri nice good bad sad mad best pretti ❤ :) :( 😒 😬 😄 😍 ♛ song idea power play magnific'\n",
    "demo1 = text[0]\n",
    "tmp = word_count_table(demo1)\n",
    "tmp"
   ]
  },
  {
   "cell_type": "code",
   "execution_count": 16,
   "id": "5e86c3f4",
   "metadata": {},
   "outputs": [
    {
     "data": {
      "image/png": "[encoded data removed]",
      "text/plain": [
       "<Figure size 800x800 with 1 Axes>"
      ]
     },
     "metadata": {},
     "output_type": "display_data"
    }
   ],
   "source": [
    "fig, ax = plt.subplots(figsize=(8, 8))\n",
    "\n",
    "x = np.log([x[1] + 1 for x in tmp])\n",
    "y = np.log([x[2] + 1 for x in tmp])\n",
    "\n",
    "ax.scatter(x, y)\n",
    "\n",
    "plt.xlabel('Real Tweets')\n",
    "plt.ylabel('Fake Tweets')\n",
    "\n",
    "ax.plot([0, 5], [0, 5], color='r')\n",
    "\n",
    "for i in range(0, len(tmp)):\n",
    "    ax.annotate(tmp[i][0], (x[i], y[i]), fontsize=12);"
   ]
  },
  {
   "cell_type": "code",
   "execution_count": 17,
   "id": "e58c2396",
   "metadata": {},
   "outputs": [
    {
     "data": {
      "text/html": [
       "<div>\n",
       "<style scoped>\n",
       "    .dataframe tbody tr th:only-of-type {\n",
       "        vertical-align: middle;\n",
       "    }\n",
       "\n",
       "    .dataframe tbody tr th {\n",
       "        vertical-align: top;\n",
       "    }\n",
       "\n",
       "    .dataframe thead th {\n",
       "        text-align: right;\n",
       "    }\n",
       "</style>\n",
       "<table border=\"1\" class=\"dataframe\">\n",
       "  <thead>\n",
       "    <tr style=\"text-align: right;\">\n",
       "      <th></th>\n",
       "      <th>word</th>\n",
       "      <th>pos</th>\n",
       "      <th>neg</th>\n",
       "      <th>bias</th>\n",
       "    </tr>\n",
       "  </thead>\n",
       "  <tbody>\n",
       "    <tr>\n",
       "      <th>0</th>\n",
       "      <td>deed</td>\n",
       "      <td>1</td>\n",
       "      <td>1</td>\n",
       "      <td>1</td>\n",
       "    </tr>\n",
       "    <tr>\n",
       "      <th>1</th>\n",
       "      <td>reason</td>\n",
       "      <td>8</td>\n",
       "      <td>23</td>\n",
       "      <td>1</td>\n",
       "    </tr>\n",
       "    <tr>\n",
       "      <th>2</th>\n",
       "      <td>earthquak</td>\n",
       "      <td>47</td>\n",
       "      <td>6</td>\n",
       "      <td>1</td>\n",
       "    </tr>\n",
       "    <tr>\n",
       "      <th>3</th>\n",
       "      <td>may</td>\n",
       "      <td>50</td>\n",
       "      <td>38</td>\n",
       "      <td>1</td>\n",
       "    </tr>\n",
       "    <tr>\n",
       "      <th>4</th>\n",
       "      <td>allah</td>\n",
       "      <td>6</td>\n",
       "      <td>3</td>\n",
       "      <td>1</td>\n",
       "    </tr>\n",
       "    <tr>\n",
       "      <th>5</th>\n",
       "      <td>forgiv</td>\n",
       "      <td>1</td>\n",
       "      <td>2</td>\n",
       "      <td>1</td>\n",
       "    </tr>\n",
       "    <tr>\n",
       "      <th>6</th>\n",
       "      <td>us</td>\n",
       "      <td>49</td>\n",
       "      <td>75</td>\n",
       "      <td>1</td>\n",
       "    </tr>\n",
       "  </tbody>\n",
       "</table>\n",
       "</div>"
      ],
      "text/plain": [
       "        word  pos  neg  bias\n",
       "0       deed    1    1     1\n",
       "1     reason    8   23     1\n",
       "2  earthquak   47    6     1\n",
       "3        may   50   38     1\n",
       "4      allah    6    3     1\n",
       "5     forgiv    1    2     1\n",
       "6         us   49   75     1"
      ]
     },
     "execution_count": 17,
     "metadata": {},
     "output_type": "execute_result"
    }
   ],
   "source": [
    "data = pd.DataFrame(tmp, columns=['word', 'pos', 'neg'])\n",
    "data['bias'] = [1] * len(data)\n",
    "data"
   ]
  },
  {
   "cell_type": "code",
   "execution_count": 18,
   "id": "7585f9a4",
   "metadata": {},
   "outputs": [
    {
     "data": {
      "text/plain": [
       "array([0., 0., 0.])"
      ]
     },
     "execution_count": 18,
     "metadata": {},
     "output_type": "execute_result"
    }
   ],
   "source": [
    "np.zeros(3)"
   ]
  },
  {
   "cell_type": "markdown",
   "id": "84e6b48a",
   "metadata": {},
   "source": [
    "# Building and training Logistic Regression model"
   ]
  },
  {
   "cell_type": "markdown",
   "id": "90bf8286",
   "metadata": {},
   "source": [
    "## Extracting features"
   ]
  },
  {
   "cell_type": "markdown",
   "id": "57ea704c",
   "metadata": {},
   "source": [
    "* Given a list of tweets, extract the features and store them in a matrix. You will extract two features.\n",
    "    * The first feature is the number of real words in a tweet.\n",
    "    * The second feature is the number of fake words in a tweet. \n",
    "* Then train your logistic regression classifier on these features.\n",
    "* Test the classifier on a validation set. "
   ]
  },
  {
   "cell_type": "code",
   "execution_count": 19,
   "id": "6fa842d8",
   "metadata": {},
   "outputs": [],
   "source": [
    "def extract_features(tweet):\n",
    "    word_l = process_tweets(tweet)\n",
    "    x = np.zeros(3)\n",
    "    x[0] = 1\n",
    "    for word in word_l:\n",
    "        x[1] += freqs.get((word, 1), 0)\n",
    "        x[2] += freqs.get((word, 0), 0)\n",
    "        \n",
    "    x = x[np.newaxis, :]\n",
    "    return x"
   ]
  },
  {
   "cell_type": "code",
   "execution_count": 20,
   "id": "55470a8e",
   "metadata": {},
   "outputs": [
    {
     "data": {
      "text/plain": [
       "array([[  1., 162., 148.]])"
      ]
     },
     "execution_count": 20,
     "metadata": {},
     "output_type": "execute_result"
    }
   ],
   "source": [
    "tmp1 = extract_features(demo1)\n",
    "tmp1"
   ]
  },
  {
   "cell_type": "code",
   "execution_count": 21,
   "id": "1926e6b7",
   "metadata": {},
   "outputs": [],
   "source": [
    "X_train = np.zeros((len(tweets), 3))\n",
    "\n",
    "for i in range(len(text)):\n",
    "    X_train[i, :] = extract_features(text[i])"
   ]
  },
  {
   "cell_type": "code",
   "execution_count": 22,
   "id": "82316854",
   "metadata": {},
   "outputs": [
    {
     "data": {
      "text/plain": [
       "array([[  1., 162., 148.],\n",
       "       [  1., 402., 120.],\n",
       "       [  1., 253., 125.],\n",
       "       ...,\n",
       "       [  1.,  83.,   9.],\n",
       "       [  1., 358., 226.],\n",
       "       [  1., 599., 120.]])"
      ]
     },
     "execution_count": 22,
     "metadata": {},
     "output_type": "execute_result"
    }
   ],
   "source": [
    "X_train"
   ]
  },
  {
   "cell_type": "code",
   "execution_count": 23,
   "id": "40e643b0",
   "metadata": {},
   "outputs": [
    {
     "data": {
      "text/plain": [
       "array([[1],\n",
       "       [1],\n",
       "       [1],\n",
       "       ...,\n",
       "       [1],\n",
       "       [1],\n",
       "       [1]])"
      ]
     },
     "execution_count": 23,
     "metadata": {},
     "output_type": "execute_result"
    }
   ],
   "source": [
    "y_train = label.values.reshape(len(X_train), 1)\n",
    "y_train"
   ]
  },
  {
   "cell_type": "markdown",
   "id": "0168cf80",
   "metadata": {},
   "source": [
    "## Sigmoid Function"
   ]
  },
  {
   "cell_type": "markdown",
   "id": "32e1735e",
   "metadata": {},
   "source": [
    "* The sigmoid function is defined as: \n",
    "\n",
    "$$ h(z) = \\frac{1}{1+\\exp^{-z}} \\tag{1}$$\n",
    "\n",
    "It maps the input 'z' to a value that ranges between 0 and 1, and so it can be treated as a probability. \n"
   ]
  },
  {
   "cell_type": "code",
   "execution_count": 24,
   "id": "5bf31162",
   "metadata": {},
   "outputs": [],
   "source": [
    "def sigmoid(z):\n",
    "    h = 1 / (1 + np.exp(-z))\n",
    "    return h"
   ]
  },
  {
   "cell_type": "markdown",
   "id": "8679ebdb",
   "metadata": {},
   "source": [
    "<a name='ex-2'></a>\n",
    "## Gradient Descent\n",
    "Implement gradient descent function.\n",
    "* The number of iterations 'num_iters\" is the number of times that you'll use the entire training set.\n",
    "* For each iteration, you'll calculate the cost function using all training examples (there are 'm' training examples), and for all features.\n",
    "* Instead of updating a single weight $\\theta_i$ at a time, we can update all the weights in the column vector:  \n",
    "$$\\mathbf{\\theta} = \\begin{pmatrix}\n",
    "\\theta_0\n",
    "\\\\\n",
    "\\theta_1\n",
    "\\\\ \n",
    "\\theta_2 \n",
    "\\\\ \n",
    "\\vdots\n",
    "\\\\ \n",
    "\\theta_n\n",
    "\\end{pmatrix}$$\n",
    "* $\\mathbf{\\theta}$ has dimensions (n+1, 1), where 'n' is the number of features, and there is one more element for the bias term $\\theta_0$ (note that the corresponding feature value $\\mathbf{x_0}$ is 1).\n",
    "* The 'logits', 'z', are calculated by multiplying the feature matrix 'x' with the weight vector 'theta'.  $z = \\mathbf{x}\\mathbf{\\theta}$\n",
    "    * $\\mathbf{x}$ has dimensions (m, n+1) \n",
    "    * $\\mathbf{\\theta}$: has dimensions (n+1, 1)\n",
    "    * $\\mathbf{z}$: has dimensions (m, 1)\n",
    "* The prediction 'h', is calculated by applying the sigmoid to each element in 'z': $h(z) = sigmoid(z)$, and has dimensions (m,1).\n",
    "* The cost function $J$ is calculated by taking the dot product of the vectors 'y' and 'log(h)'.  Since both 'y' and 'h' are column vectors (m,1), transpose the vector to the left, so that matrix multiplication of a row vector with column vector performs the dot product.\n",
    "$$J = \\frac{-1}{m} \\times \\left(\\mathbf{y}^T \\cdot log(\\mathbf{h}) + \\mathbf{(1-y)}^T \\cdot log(\\mathbf{1-h}) \\right)$$\n",
    "* The update of theta is also vectorized.  Because the dimensions of $\\mathbf{x}$ are (m, n+1), and both $\\mathbf{h}$ and $\\mathbf{y}$ are (m, 1), we need to transpose the $\\mathbf{x}$ and place it on the left in order to perform matrix multiplication, which then yields the (n+1, 1) answer we need:\n",
    "$$\\mathbf{\\theta} = \\mathbf{\\theta} - \\frac{\\alpha}{m} \\times \\left( \\mathbf{x}^T \\cdot \\left( \\mathbf{h-y} \\right) \\right)$$"
   ]
  },
  {
   "cell_type": "code",
   "execution_count": 25,
   "id": "9a27f23b",
   "metadata": {},
   "outputs": [],
   "source": [
    "def gradient_descent(x, y, theta, alpha, num_iter):\n",
    "    m = x.shape[0]\n",
    "    for i in range(0, num_iter):\n",
    "        z = np.dot(x, theta)\n",
    "        h = sigmoid(z)\n",
    "        J = (-1 / m) * (np.dot(y.T, np.log(h)) + np.dot((1-y).T, np.log(1-h)))\n",
    "        theta = theta - (alpha / m) * np.dot(x.T, (h-y))\n",
    "    J = float(J)\n",
    "    return J, theta"
   ]
  },
  {
   "cell_type": "markdown",
   "id": "80395051",
   "metadata": {},
   "source": [
    "## Training Model"
   ]
  },
  {
   "cell_type": "code",
   "execution_count": 26,
   "id": "acfcef17",
   "metadata": {},
   "outputs": [],
   "source": [
    "J, theta = gradient_descent(X_train, y_train, np.zeros((3, 1)), 1e-6, 2000)"
   ]
  },
  {
   "cell_type": "code",
   "execution_count": 27,
   "id": "bc4fadca",
   "metadata": {},
   "outputs": [
    {
     "data": {
      "text/plain": [
       "0.5195146728131057"
      ]
     },
     "execution_count": 27,
     "metadata": {},
     "output_type": "execute_result"
    }
   ],
   "source": [
    "J"
   ]
  },
  {
   "cell_type": "code",
   "execution_count": 28,
   "id": "98f1164d",
   "metadata": {},
   "outputs": [
    {
     "data": {
      "text/plain": [
       "array([[-7.38012971e-05],\n",
       "       [ 7.82400686e-03],\n",
       "       [-8.43251467e-03]])"
      ]
     },
     "execution_count": 28,
     "metadata": {},
     "output_type": "execute_result"
    }
   ],
   "source": [
    "theta"
   ]
  },
  {
   "cell_type": "markdown",
   "id": "ab822fb8",
   "metadata": {},
   "source": [
    "## Predicting"
   ]
  },
  {
   "cell_type": "markdown",
   "id": "762c1205",
   "metadata": {},
   "source": [
    "Predict whether a tweet is real or fake.\n",
    "\n",
    "* Given a tweet, process it, then extract the features.\n",
    "* Apply the model's learned weights on the features to get the logits.\n",
    "* Apply the sigmoid to the logits to get the prediction (a value between 0 and 1).\n",
    "\n",
    "$$y_{pred} = sigmoid(\\mathbf{x} \\cdot \\theta)$$"
   ]
  },
  {
   "cell_type": "code",
   "execution_count": 29,
   "id": "61f2a0b6",
   "metadata": {},
   "outputs": [],
   "source": [
    "def predicting_tweet(tweet, theta):\n",
    "    x = extract_features(tweet)\n",
    "    \n",
    "    y_pred = sigmoid(np.dot(x, theta))\n",
    "    \n",
    "    return y_pred"
   ]
  },
  {
   "cell_type": "code",
   "execution_count": 30,
   "id": "fc0f2640",
   "metadata": {},
   "outputs": [
    {
     "data": {
      "text/plain": [
       "array([[0.50485063]])"
      ]
     },
     "execution_count": 30,
     "metadata": {},
     "output_type": "execute_result"
    }
   ],
   "source": [
    "tmp_res = predicting_tweet(text[0], theta)\n",
    "tmp_res"
   ]
  },
  {
   "cell_type": "code",
   "execution_count": 31,
   "id": "97d048fc",
   "metadata": {},
   "outputs": [
    {
     "name": "stdout",
     "output_type": "stream",
     "text": [
      "I am happy -> 0.457466\n",
      "I am bad -> 0.445969\n",
      "this movie should have been great. -> 0.397213\n",
      "great -> 0.430689\n",
      "great great -> 0.364008\n",
      "great great great -> 0.302172\n",
      "great great great great -> 0.246764\n"
     ]
    }
   ],
   "source": [
    "for tweet in ['I am happy', \n",
    "              'I am bad', \n",
    "              'this movie should have been great.', \n",
    "              'great', 'great great', \n",
    "              'great great great', \n",
    "              'great great great great']:\n",
    "    print( '%s -> %f' % (tweet, predicting_tweet(tweet, theta)))    "
   ]
  },
  {
   "cell_type": "code",
   "execution_count": 32,
   "id": "318e8291",
   "metadata": {},
   "outputs": [
    {
     "name": "stdout",
     "output_type": "stream",
     "text": [
      "Label: 1 -> Predicted: 0.5048506326150362\n",
      "Label: 1 -> Predicted: 0.8940955329387259\n",
      "Label: 1 -> Predicted: 0.7161280225805002\n",
      "Label: 1 -> Predicted: 0.8949322868833166\n",
      "Label: 1 -> Predicted: 0.43677486185046127\n",
      "Label: 1 -> Predicted: 0.971038199091047\n",
      "Label: 1 -> Predicted: 0.935705631664727\n",
      "Label: 1 -> Predicted: 0.66890564853621\n",
      "Label: 1 -> Predicted: 0.7025805777709577\n",
      "Label: 1 -> Predicted: 0.5171271713837903\n"
     ]
    }
   ],
   "source": [
    "for s, t in zip(text[: 10], label[:10]):\n",
    "    print('Label: {} -> Predicted: {}'.format(t, predicting_tweet(s, theta)[0][0]))"
   ]
  },
  {
   "cell_type": "markdown",
   "id": "4cd9997c",
   "metadata": {},
   "source": [
    "## Testing"
   ]
  },
  {
   "cell_type": "markdown",
   "id": "1b83607c",
   "metadata": {},
   "source": [
    "* Given the test data and the weights of your trained model, calculate the accuracy of your logistic regression model. \n",
    "* Use your 'predicting_tweet' function to make predictions on each tweet in the test set.\n",
    "* If the prediction is > 0.5, set the model's classification 'y_hat' to 1, otherwise set the model's classification 'y_hat' to 0.\n",
    "* A prediction is accurate when the y_hat equals the test_y.  Sum up all the instances when they are equal and divide by m."
   ]
  },
  {
   "cell_type": "code",
   "execution_count": 33,
   "id": "35dde5aa",
   "metadata": {},
   "outputs": [],
   "source": [
    "def testing_logistic_regression(X, y, theta):\n",
    "    yhat = []\n",
    "    for tweet in X:\n",
    "        y_pred = predicting_tweet(tweet, theta)\n",
    "        if y_pred >= 0.5:\n",
    "            yhat.append(1)\n",
    "        else:\n",
    "            yhat.append(0)\n",
    "    accuracy = np.sum(np.asarray(yhat) == np.squeeze(y)) / len(y)\n",
    "    return accuracy"
   ]
  },
  {
   "cell_type": "code",
   "execution_count": 34,
   "id": "7da2dce4",
   "metadata": {},
   "outputs": [
    {
     "data": {
      "text/plain": [
       "0.7748587941678707"
      ]
     },
     "execution_count": 34,
     "metadata": {},
     "output_type": "execute_result"
    }
   ],
   "source": [
    "tmp_acc = testing_logistic_regression(text, y_train, theta)\n",
    "tmp_acc"
   ]
  },
  {
   "cell_type": "markdown",
   "id": "e289fd83",
   "metadata": {},
   "source": [
    "## Visualizing tweets and the Logistic Regression model"
   ]
  },
  {
   "cell_type": "code",
   "execution_count": 35,
   "id": "d30233e0",
   "metadata": {},
   "outputs": [
    {
     "data": {
      "text/html": [
       "<div>\n",
       "<style scoped>\n",
       "    .dataframe tbody tr th:only-of-type {\n",
       "        vertical-align: middle;\n",
       "    }\n",
       "\n",
       "    .dataframe tbody tr th {\n",
       "        vertical-align: top;\n",
       "    }\n",
       "\n",
       "    .dataframe thead th {\n",
       "        text-align: right;\n",
       "    }\n",
       "</style>\n",
       "<table border=\"1\" class=\"dataframe\">\n",
       "  <thead>\n",
       "    <tr style=\"text-align: right;\">\n",
       "      <th></th>\n",
       "      <th>bias</th>\n",
       "      <th>real</th>\n",
       "      <th>fakes</th>\n",
       "      <th>sentiment</th>\n",
       "    </tr>\n",
       "  </thead>\n",
       "  <tbody>\n",
       "    <tr>\n",
       "      <th>0</th>\n",
       "      <td>1.0</td>\n",
       "      <td>162.0</td>\n",
       "      <td>148.0</td>\n",
       "      <td>1</td>\n",
       "    </tr>\n",
       "    <tr>\n",
       "      <th>1</th>\n",
       "      <td>1.0</td>\n",
       "      <td>402.0</td>\n",
       "      <td>120.0</td>\n",
       "      <td>1</td>\n",
       "    </tr>\n",
       "    <tr>\n",
       "      <th>2</th>\n",
       "      <td>1.0</td>\n",
       "      <td>253.0</td>\n",
       "      <td>125.0</td>\n",
       "      <td>1</td>\n",
       "    </tr>\n",
       "    <tr>\n",
       "      <th>3</th>\n",
       "      <td>1.0</td>\n",
       "      <td>429.0</td>\n",
       "      <td>144.0</td>\n",
       "      <td>1</td>\n",
       "    </tr>\n",
       "    <tr>\n",
       "      <th>4</th>\n",
       "      <td>1.0</td>\n",
       "      <td>196.0</td>\n",
       "      <td>212.0</td>\n",
       "      <td>1</td>\n",
       "    </tr>\n",
       "    <tr>\n",
       "      <th>...</th>\n",
       "      <td>...</td>\n",
       "      <td>...</td>\n",
       "      <td>...</td>\n",
       "      <td>...</td>\n",
       "    </tr>\n",
       "    <tr>\n",
       "      <th>7608</th>\n",
       "      <td>1.0</td>\n",
       "      <td>338.0</td>\n",
       "      <td>151.0</td>\n",
       "      <td>1</td>\n",
       "    </tr>\n",
       "    <tr>\n",
       "      <th>7609</th>\n",
       "      <td>1.0</td>\n",
       "      <td>592.0</td>\n",
       "      <td>252.0</td>\n",
       "      <td>1</td>\n",
       "    </tr>\n",
       "    <tr>\n",
       "      <th>7610</th>\n",
       "      <td>1.0</td>\n",
       "      <td>83.0</td>\n",
       "      <td>9.0</td>\n",
       "      <td>1</td>\n",
       "    </tr>\n",
       "    <tr>\n",
       "      <th>7611</th>\n",
       "      <td>1.0</td>\n",
       "      <td>358.0</td>\n",
       "      <td>226.0</td>\n",
       "      <td>1</td>\n",
       "    </tr>\n",
       "    <tr>\n",
       "      <th>7612</th>\n",
       "      <td>1.0</td>\n",
       "      <td>599.0</td>\n",
       "      <td>120.0</td>\n",
       "      <td>1</td>\n",
       "    </tr>\n",
       "  </tbody>\n",
       "</table>\n",
       "<p>7613 rows × 4 columns</p>\n",
       "</div>"
      ],
      "text/plain": [
       "      bias   real  fakes  sentiment\n",
       "0      1.0  162.0  148.0          1\n",
       "1      1.0  402.0  120.0          1\n",
       "2      1.0  253.0  125.0          1\n",
       "3      1.0  429.0  144.0          1\n",
       "4      1.0  196.0  212.0          1\n",
       "...    ...    ...    ...        ...\n",
       "7608   1.0  338.0  151.0          1\n",
       "7609   1.0  592.0  252.0          1\n",
       "7610   1.0   83.0    9.0          1\n",
       "7611   1.0  358.0  226.0          1\n",
       "7612   1.0  599.0  120.0          1\n",
       "\n",
       "[7613 rows x 4 columns]"
      ]
     },
     "execution_count": 35,
     "metadata": {},
     "output_type": "execute_result"
    }
   ],
   "source": [
    "visual = pd.DataFrame(X_train, columns = ['bias', 'real', 'fakes'])\n",
    "visual['sentiment'] = label.values\n",
    "\n",
    "visual"
   ]
  },
  {
   "cell_type": "code",
   "execution_count": 36,
   "id": "b4807e36",
   "metadata": {},
   "outputs": [
    {
     "data": {
      "text/plain": [
       "array([-7.38012971e-05,  7.82400686e-03, -8.43251467e-03])"
      ]
     },
     "execution_count": 36,
     "metadata": {},
     "output_type": "execute_result"
    }
   ],
   "source": [
    "theta = np.squeeze(theta) \n",
    "theta"
   ]
  },
  {
   "cell_type": "code",
   "execution_count": 37,
   "id": "be44cb4c",
   "metadata": {},
   "outputs": [],
   "source": [
    "X = visual[visual.columns[: -1]].values\n",
    "Y = visual['sentiment'].values"
   ]
  },
  {
   "cell_type": "code",
   "execution_count": 38,
   "id": "9179bac0",
   "metadata": {},
   "outputs": [
    {
     "data": {
      "image/png": "[encoded data removed]",
      "text/plain": [
       "<Figure size 800x800 with 1 Axes>"
      ]
     },
     "metadata": {},
     "output_type": "display_data"
    }
   ],
   "source": [
    "fig, ax = plt.subplots(figsize=(8, 8))\n",
    "\n",
    "colors = ['red', 'green']\n",
    "ax.scatter(X[:, 1], X[:, 2], c=[colors[int(k)] for k in Y], s = 0.1)\n",
    "plt.xlim([0, 3000])\n",
    "plt.ylim([0, 3000])\n",
    "plt.xlabel('Real Tweets')\n",
    "plt.ylabel('Fake Tweets')\n",
    "plt.show()"
   ]
  },
  {
   "cell_type": "markdown",
   "id": "427d2415",
   "metadata": {},
   "source": [
    "From the plot, it is evident that the features that we have chosen to represent tweets as numerical vectors show an overlapping between real and fake tweets. So we shouldn't expect a very high accuracy for this model! \n",
    "\n",
    "## Plot the model alongside the data\n",
    "\n",
    "We will draw a gray line to show the cutoff between the positive and negative regions. In other words, the gray line marks the line where $$ z = \\theta * x = 0.$$\n",
    "To draw this line, we have to solve the above equation in terms of one of the independent variables.\n",
    "\n",
    "$$ z = \\theta * x = 0$$\n",
    "$$ x = [1, pos, neg] $$\n",
    "$$ z(\\theta, x) = \\theta_0+ \\theta_1 * pos + \\theta_2 * neg = 0 $$\n",
    "$$ neg = (-\\theta_0 - \\theta_1 * pos) / \\theta_2 $$\n",
    "\n",
    "The red and green lines that point in the direction of the corresponding sentiment are calculated using a perpendicular line to the separation line calculated in the previous equations (neg function). It must point in the same direction as the derivative of the Logit function, but the magnitude may differ. It is only for a visual representation of the model. \n",
    "\n",
    "$$direction = pos * \\theta_2 / \\theta_1$$"
   ]
  },
  {
   "cell_type": "code",
   "execution_count": 39,
   "id": "a2dda929",
   "metadata": {},
   "outputs": [],
   "source": [
    "def neg(theta, real):\n",
    "    return (-theta[0] - real * theta[1]) / theta[2]\n",
    "\n",
    "def direction(theta, real):\n",
    "    return real * theta[2] / theta[1]"
   ]
  },
  {
   "cell_type": "code",
   "execution_count": 40,
   "id": "4b00e962",
   "metadata": {},
   "outputs": [
    {
     "data": {
      "image/png": "[encoded data removed]",
      "text/plain": [
       "<Figure size 800x800 with 1 Axes>"
      ]
     },
     "metadata": {},
     "output_type": "display_data"
    }
   ],
   "source": [
    "fig, ax = plt.subplots(figsize=(8, 8))\n",
    "\n",
    "colors = ['red', 'green']\n",
    "ax.scatter(X[:, 1], X[:, 2], c=[colors[int(k)] for k in Y], s = 0.1)\n",
    "# plt.xlim([0, 3000])\n",
    "# plt.ylim([0, 3000])\n",
    "plt.xlabel('Real Tweets')\n",
    "plt.ylabel('Fake Tweets')\n",
    "\n",
    "maxreal = np.max(X[:,1])\n",
    "\n",
    "offset = 5000 # The pos value for the direction vectors origin\n",
    "# Plot a gray line that divides the 2 areas.\n",
    "ax.plot([0,  maxreal], [neg(theta, 0),   neg(theta, maxreal)], color = 'gray') \n",
    "# Plot a green line pointing to the real direction\n",
    "ax.arrow(offset, neg(theta, offset), offset, direction(theta, offset), head_width=500, head_length=500, fc='g', ec='g')\n",
    "# Plot a red line pointing to the fake direction\n",
    "ax.arrow(offset, neg(theta, offset), -offset, -direction(theta, offset), head_width=500, head_length=500, fc='r', ec='r')\n",
    "plt.show()"
   ]
  },
  {
   "cell_type": "code",
   "execution_count": null,
   "id": "d112e303",
   "metadata": {},
   "outputs": [],
   "source": []
  }
 ],
 "metadata": {
  "kernelspec": {
   "display_name": "Python 3 (ipykernel)",
   "language": "python",
   "name": "python3"
  },
  "language_info": {
   "codemirror_mode": {
    "name": "ipython",
    "version": 3
   },
   "file_extension": ".py",
   "mimetype": "text/x-python",
   "name": "python",
   "nbconvert_exporter": "python",
   "pygments_lexer": "ipython3",
   "version": "3.7.9"
  }
 },
 "nbformat": 4,
 "nbformat_minor": 5
}
