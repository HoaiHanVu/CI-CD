{
 "cells": [
  {
   "cell_type": "markdown",
   "id": "041f3dc3",
   "metadata": {},
   "source": [
    "## Data generators"
   ]
  },
  {
   "cell_type": "code",
   "execution_count": 1,
   "id": "6ba48ae0",
   "metadata": {},
   "outputs": [],
   "source": [
    "import numpy as np\n",
    "import random as rnd"
   ]
  },
  {
   "cell_type": "code",
   "execution_count": 2,
   "id": "b56d0232",
   "metadata": {},
   "outputs": [],
   "source": [
    "a = [1, 2, 3, 4]\n",
    "b = [0] * 10\n",
    "\n",
    "a_size = len(a)\n",
    "b_size = len(b)"
   ]
  },
  {
   "cell_type": "code",
   "execution_count": 3,
   "id": "3b329fd6",
   "metadata": {},
   "outputs": [
    {
     "data": {
      "text/plain": [
       "[0, 1, 2, 3]"
      ]
     },
     "execution_count": 3,
     "metadata": {},
     "output_type": "execute_result"
    }
   ],
   "source": [
    "lines_index = [*range(a_size)]\n",
    "lines_index"
   ]
  },
  {
   "cell_type": "code",
   "execution_count": 4,
   "id": "1d753271",
   "metadata": {},
   "outputs": [
    {
     "data": {
      "text/plain": [
       "[0, 1, 2, 3]"
      ]
     },
     "execution_count": 4,
     "metadata": {},
     "output_type": "execute_result"
    }
   ],
   "source": [
    "lines_index = list(range(a_size))\n",
    "lines_index"
   ]
  },
  {
   "cell_type": "code",
   "execution_count": 5,
   "id": "c252109d",
   "metadata": {},
   "outputs": [
    {
     "name": "stdout",
     "output_type": "stream",
     "text": [
      "[1, 2, 3, 4, 1, 2, 3, 4, 1, 2]\n"
     ]
    }
   ],
   "source": [
    "index = 0\n",
    "for i in range(b_size):\n",
    "    if index >= a_size:\n",
    "        index = 0\n",
    "    b[i] = a[lines_index[index]]\n",
    "    index += 1\n",
    "\n",
    "print(b)"
   ]
  },
  {
   "cell_type": "markdown",
   "id": "408fea04",
   "metadata": {},
   "source": [
    "## Shuffling data order"
   ]
  },
  {
   "cell_type": "code",
   "execution_count": 16,
   "id": "6b7ed4ff",
   "metadata": {},
   "outputs": [
    {
     "name": "stdout",
     "output_type": "stream",
     "text": [
      "Original order of index: [0, 1, 2, 3]\n"
     ]
    }
   ],
   "source": [
    "a = [1, 2, 3, 4]\n",
    "b = []\n",
    "\n",
    "a_size = len(a)\n",
    "b_size = 10\n",
    "\n",
    "lines_index = list(range(a_size))\n",
    "\n",
    "print('Original order of index: {}'.format(lines_index))"
   ]
  },
  {
   "cell_type": "code",
   "execution_count": 17,
   "id": "cdb77e94",
   "metadata": {},
   "outputs": [
    {
     "data": {
      "text/plain": [
       "[1, 2, 3, 4]"
      ]
     },
     "execution_count": 17,
     "metadata": {},
     "output_type": "execute_result"
    }
   ],
   "source": [
    "[a[i] for i in lines_index]"
   ]
  },
  {
   "cell_type": "code",
   "execution_count": 18,
   "id": "2495443a",
   "metadata": {},
   "outputs": [
    {
     "name": "stdout",
     "output_type": "stream",
     "text": [
      "Shuffled order of index: [3, 1, 0, 2]\n"
     ]
    }
   ],
   "source": [
    "rnd.shuffle(lines_index)\n",
    "\n",
    "print('Shuffled order of index: {}'.format(lines_index))"
   ]
  },
  {
   "cell_type": "code",
   "execution_count": 19,
   "id": "6abe5d43",
   "metadata": {},
   "outputs": [
    {
     "data": {
      "text/plain": [
       "[4, 2, 1, 3]"
      ]
     },
     "execution_count": 19,
     "metadata": {},
     "output_type": "execute_result"
    }
   ],
   "source": [
    "[a[i] for i in lines_index]"
   ]
  },
  {
   "cell_type": "code",
   "execution_count": 20,
   "id": "a8945587",
   "metadata": {},
   "outputs": [
    {
     "name": "stdout",
     "output_type": "stream",
     "text": [
      "New value order for First batch: [4, 2, 1, 3]\n",
      "\n",
      "Shuffle index for Batch No.2: [1, 0, 3, 2]\n",
      "Values for Batch No.2: [2, 1, 4, 3]\n",
      "\n",
      "Shuffle index for Batch No.3: [1, 3, 0, 2]\n",
      "Values for Batch No.3: [2, 4, 1, 3]\n"
     ]
    }
   ],
   "source": [
    "print('New value order for First batch: {}'.format([a[i] for i in lines_index]))\n",
    "\n",
    "batch_counter = 1\n",
    "index = 0\n",
    "\n",
    "for i in range(b_size):\n",
    "    if index >= a_size:\n",
    "        index = 0\n",
    "        batch_counter += 1\n",
    "        rnd.shuffle(lines_index)\n",
    "        print('\\nShuffle index for Batch No.{}: {}'.format(batch_counter, lines_index))\n",
    "        print('Values for Batch No.{}: {}'.format(batch_counter, [a[i] for i in lines_index]))\n",
    "    \n",
    "    b.append(a[lines_index[index]])\n",
    "    index += 1"
   ]
  },
  {
   "cell_type": "code",
   "execution_count": 21,
   "id": "60deba0e",
   "metadata": {},
   "outputs": [
    {
     "name": "stdout",
     "output_type": "stream",
     "text": [
      "Values of b: [4, 2, 1, 3, 2, 1, 4, 3, 2, 4]\n"
     ]
    }
   ],
   "source": [
    "print('Values of b: {}'.format(b))"
   ]
  },
  {
   "cell_type": "markdown",
   "id": "4791c832",
   "metadata": {},
   "source": [
    "There are three slightly out of the ordinary features. \n",
    "\n",
    "1. The first is the use of a list of a predefined size to store the data for each batch. Using a predefined size list reduces the computation time if the elements in the array are of a fixed size, like numbers. If the elements are of different sizes, it is better to use an empty array and append one element at a time during the loop.\n",
    "\n",
    "2. The second is tracking the current location in the incoming lists of samples. Generators variables hold their values between invocations, so we create an `index` variable, initialize to zero, and increment by one for each sample included in a batch. However, we do not use the `index` to access the positions of the list of sentences directly. Instead, we use it to select one index from a list of indexes. In this way, we can change the order in which we traverse our original list, keeping untouched our original list.  \n",
    "\n",
    "3. The third also relates to wrapping. Because `batch_size` and the length of the input lists are not aligned, gathering a batch_size group of inputs may involve wrapping back to the beginning of the input loop. In our approach, it is just enough to reset the `index` to 0. We can re-shuffle the list of indexes to produce different batches each time."
   ]
  },
  {
   "cell_type": "code",
   "execution_count": 28,
   "id": "26355211",
   "metadata": {},
   "outputs": [],
   "source": [
    "def data_generator(x, y, batch_size, shuffle=True):\n",
    "    '''\n",
    "      Input: \n",
    "        batch_size - integer describing the batch size\n",
    "        x - list containing samples\n",
    "        y - list containing labels\n",
    "        shuffle - Shuffle the data order\n",
    "      Output:\n",
    "        a tuple containing 2 elements:\n",
    "        X - list of dim (batch_size) of samples\n",
    "        Y - list of dim (batch_size) of labels\n",
    "    '''\n",
    "    len_data = len(x)\n",
    "    index_lst = list(range(len_data))\n",
    "    \n",
    "    if shuffle:\n",
    "        rnd.shuffle(index_lst)\n",
    "    index = 0\n",
    "    \n",
    "    while True:\n",
    "        X = [0] * batch_size\n",
    "        Y = [0] * batch_size\n",
    "        \n",
    "        for i in range(batch_size):\n",
    "            if index >= len_data:\n",
    "                index = 0\n",
    "                if shuffle:\n",
    "                    rnd.shuffle(index_lst)\n",
    "            \n",
    "            X[i] = x[index_lst[index]]\n",
    "            Y[i] = y[index_lst[index]]\n",
    "            index += 1\n",
    "            \n",
    "        yield ((X, Y))"
   ]
  },
  {
   "cell_type": "code",
   "execution_count": 23,
   "id": "05ed64bb",
   "metadata": {},
   "outputs": [],
   "source": [
    "x = [1, 2, 3, 4]\n",
    "y = [j**2 for j in x]"
   ]
  },
  {
   "cell_type": "code",
   "execution_count": 24,
   "id": "e44bc892",
   "metadata": {},
   "outputs": [
    {
     "name": "stdout",
     "output_type": "stream",
     "text": [
      "[1, 2, 3, 4]\n",
      "[1, 4, 9, 16]\n"
     ]
    }
   ],
   "source": [
    "print(x)\n",
    "print(y)"
   ]
  },
  {
   "cell_type": "code",
   "execution_count": 29,
   "id": "224206d9",
   "metadata": {},
   "outputs": [],
   "source": [
    "generator = data_generator(x, y, 3, shuffle=True)"
   ]
  },
  {
   "cell_type": "code",
   "execution_count": 30,
   "id": "4cda5e1f",
   "metadata": {},
   "outputs": [
    {
     "data": {
      "text/plain": [
       "([1, 2, 3], [1, 4, 9])"
      ]
     },
     "execution_count": 30,
     "metadata": {},
     "output_type": "execute_result"
    }
   ],
   "source": [
    "next(generator)"
   ]
  },
  {
   "cell_type": "code",
   "execution_count": 31,
   "id": "832bccb4",
   "metadata": {},
   "outputs": [
    {
     "data": {
      "text/plain": [
       "([4, 2, 1], [16, 4, 1])"
      ]
     },
     "execution_count": 31,
     "metadata": {},
     "output_type": "execute_result"
    }
   ],
   "source": [
    "next(generator)"
   ]
  },
  {
   "cell_type": "code",
   "execution_count": 32,
   "id": "60b0ff5b",
   "metadata": {},
   "outputs": [
    {
     "data": {
      "text/plain": [
       "([3, 4, 2], [9, 16, 4])"
      ]
     },
     "execution_count": 32,
     "metadata": {},
     "output_type": "execute_result"
    }
   ],
   "source": [
    "next(generator)"
   ]
  },
  {
   "cell_type": "code",
   "execution_count": 33,
   "id": "cc6cc8b9",
   "metadata": {},
   "outputs": [
    {
     "data": {
      "text/plain": [
       "([4, 1, 3], [16, 1, 9])"
      ]
     },
     "execution_count": 33,
     "metadata": {},
     "output_type": "execute_result"
    }
   ],
   "source": [
    "next(generator)"
   ]
  },
  {
   "cell_type": "code",
   "execution_count": 34,
   "id": "2f1e194c",
   "metadata": {},
   "outputs": [
    {
     "data": {
      "text/plain": [
       "([2, 1, 4], [4, 1, 16])"
      ]
     },
     "execution_count": 34,
     "metadata": {},
     "output_type": "execute_result"
    }
   ],
   "source": [
    "next(generator)"
   ]
  },
  {
   "cell_type": "code",
   "execution_count": null,
   "id": "9e767835",
   "metadata": {},
   "outputs": [],
   "source": []
  }
 ],
 "metadata": {
  "kernelspec": {
   "display_name": "Python 3 (ipykernel)",
   "language": "python",
   "name": "python3"
  },
  "language_info": {
   "codemirror_mode": {
    "name": "ipython",
    "version": 3
   },
   "file_extension": ".py",
   "mimetype": "text/x-python",
   "name": "python",
   "nbconvert_exporter": "python",
   "pygments_lexer": "ipython3",
   "version": "3.7.9"
  }
 },
 "nbformat": 4,
 "nbformat_minor": 5
}
